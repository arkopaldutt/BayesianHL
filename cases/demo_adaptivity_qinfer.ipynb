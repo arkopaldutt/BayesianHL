{
 "cells": [
  {
   "cell_type": "markdown",
   "id": "86a4d129",
   "metadata": {},
   "source": [
    "Jupyter notebook to test+demo the functionality of adaptivity in experiment design offered by Qinfer"
   ]
  },
  {
   "cell_type": "code",
   "execution_count": 1,
   "id": "9fce4bcc",
   "metadata": {},
   "outputs": [
    {
     "name": "stderr",
     "output_type": "stream",
     "text": [
      "/Users/arkopal/miniconda3/envs/active-qinfer-hl-env/lib/python3.6/site-packages/IPython/parallel.py:13: ShimWarning: The `IPython.parallel` package has been deprecated since IPython 4.0. You should import from ipyparallel instead.\n",
      "  \"You should import from ipyparallel instead.\", ShimWarning)\n",
      "/Users/arkopal/miniconda3/envs/active-qinfer-hl-env/lib/python3.6/site-packages/qinfer/parallel.py:52: UserWarning: Could not import IPython parallel. Parallelization support will be disabled.\n",
      "  \"Could not import IPython parallel. \"\n"
     ]
    }
   ],
   "source": [
    "# imports\n",
    "from __future__ import division, print_function\n",
    "%matplotlib inline\n",
    "\n",
    "from qinfer import *\n",
    "import os, sys, types\n",
    "import pathlib\n",
    "from importlib import reload\n",
    "import numpy as np\n",
    "from scipy.linalg import expm\n",
    "import matplotlib.pyplot as plt"
   ]
  },
  {
   "cell_type": "code",
   "execution_count": 2,
   "id": "0aad20cf",
   "metadata": {},
   "outputs": [],
   "source": [
    "# For local package imports\n",
    "PROJECT_PATH = str(pathlib.Path().resolve().parent)\n",
    "sys.path.append(PROJECT_PATH)"
   ]
  },
  {
   "cell_type": "code",
   "execution_count": 3,
   "id": "91f21cca",
   "metadata": {},
   "outputs": [],
   "source": [
    "# Cool reloading\n",
    "# Reference: https://stackoverflow.com/questions/28101895/reloading-packages-and-their-submodules-recursively-in-python\n",
    "\n",
    "def reload_package(package):\n",
    "    assert(hasattr(package, \"__package__\"))\n",
    "    fn = package.__file__\n",
    "    fn_dir = os.path.dirname(fn) + os.sep\n",
    "    module_visit = {fn}\n",
    "    del fn\n",
    "\n",
    "    def reload_recursive_ex(module):\n",
    "        reload(module)\n",
    "\n",
    "        for module_child in vars(module).values():\n",
    "            if isinstance(module_child, types.ModuleType):\n",
    "                fn_child = getattr(module_child, \"__file__\", None)\n",
    "                if (fn_child is not None) and fn_child.startswith(fn_dir):\n",
    "                    if fn_child not in module_visit:\n",
    "                        # print(\"reloading:\", fn_child, \"from\", module)\n",
    "                        module_visit.add(fn_child)\n",
    "                        reload_recursive_ex(module_child)\n",
    "\n",
    "    return reload_recursive_ex(package)"
   ]
  },
  {
   "cell_type": "code",
   "execution_count": 4,
   "id": "ca1b9a0a",
   "metadata": {},
   "outputs": [],
   "source": [
    "import bayesianhl"
   ]
  },
  {
   "cell_type": "markdown",
   "id": "d8c461c5",
   "metadata": {},
   "source": [
    "# 1. Two-qubit Interaction"
   ]
  },
  {
   "cell_type": "code",
   "execution_count": 6,
   "id": "63fa7469",
   "metadata": {},
   "outputs": [],
   "source": [
    "from bayesianhl.qinfer_system_models import SingleInteractionModel"
   ]
  },
  {
   "cell_type": "markdown",
   "id": "977a458e",
   "metadata": {},
   "source": [
    "## 1.1 Passive Learning"
   ]
  },
  {
   "cell_type": "code",
   "execution_count": 7,
   "id": "5babe924",
   "metadata": {},
   "outputs": [],
   "source": [
    "# Set up system model and updater\n",
    "sys_model = BinomialModel(SingleInteractionModel())\n",
    "prior = UniformDistribution([0, 1])\n",
    "updater = SMCUpdater(sys_model, 2000, prior)"
   ]
  },
  {
   "cell_type": "code",
   "execution_count": 8,
   "id": "007016d0",
   "metadata": {},
   "outputs": [],
   "source": [
    "# True model\n",
    "true_params = np.array([[0.3]])"
   ]
  },
  {
   "cell_type": "code",
   "execution_count": 9,
   "id": "28b45649",
   "metadata": {},
   "outputs": [],
   "source": [
    "# Parameters of experiment\n",
    "tvec = np.linspace(1, 60, 81)\n",
    "n_shots = 20\n",
    "max_iters = 20 # Iterations of the learning"
   ]
  },
  {
   "cell_type": "code",
   "execution_count": 10,
   "id": "d05ed174",
   "metadata": {},
   "outputs": [
    {
     "name": "stderr",
     "output_type": "stream",
     "text": [
      "/Users/arkopal/miniconda3/envs/active-qinfer-hl-env/lib/python3.6/site-packages/ipykernel_launcher.py:11: FutureWarning: Passing (type, 1) or '1type' as a synonym of type is deprecated; in a future version of numpy, it will be understood as (type, (1,)) / '(1,)type'.\n",
      "  # This is added back by InteractiveShellApp.init_path()\n"
     ]
    }
   ],
   "source": [
    "# Passive learning -- say max_iters of n_shots against all in tvec\n",
    "est_hist = []\n",
    "error_hist = []\n",
    "nshots_hist = []\n",
    "\n",
    "np.random.seed(2021)\n",
    "\n",
    "nshots_cumulative = 0\n",
    "for ind_iter in range(max_iters):\n",
    "    for t in tvec:\n",
    "        experiment = np.array([(t, n_shots)], dtype=sys_model.expparams_dtype)\n",
    "        outcomes = sys_model.simulate_experiment(true_params, experiment)\n",
    "        \n",
    "        # update quantities\n",
    "        updater.update(outcomes, experiment)\n",
    "        nshots_cumulative += n_shots\n",
    "        \n",
    "    _Jhat = updater.est_mean()\n",
    "    est_hist.append(_Jhat)\n",
    "    error_hist.append(np.abs(_Jhat - true_params[0]))\n",
    "    nshots_hist.append(nshots_cumulative)"
   ]
  },
  {
   "cell_type": "code",
   "execution_count": 11,
   "id": "1119732e",
   "metadata": {},
   "outputs": [
    {
     "data": {
      "text/plain": [
       "[<matplotlib.lines.Line2D at 0x7ffada35bc50>]"
      ]
     },
     "execution_count": 11,
     "metadata": {},
     "output_type": "execute_result"
    },
    {
     "data": {
      "image/png": "[encoded data removed]",
      "text/plain": [
       "<Figure size 432x288 with 1 Axes>"
      ]
     },
     "metadata": {
      "needs_background": "light"
     },
     "output_type": "display_data"
    }
   ],
   "source": [
    "plt.plot(nshots_hist, error_hist)"
   ]
  },
  {
   "cell_type": "code",
   "execution_count": 12,
   "id": "8b61bf1a",
   "metadata": {},
   "outputs": [
    {
     "data": {
      "text/plain": [
       "Text(0, 0.5, '$\\\\omega$')"
      ]
     },
     "execution_count": 12,
     "metadata": {},
     "output_type": "execute_result"
    },
    {
     "data": {
      "image/png": "[encoded data removed]",
      "text/plain": [
       "<Figure size 432x288 with 1 Axes>"
      ]
     },
     "metadata": {
      "needs_background": "light"
     },
     "output_type": "display_data"
    }
   ],
   "source": [
    "plt.plot(nshots_hist, est_hist, label='Est.')\n",
    "plt.hlines(true_params, 0, nshots_hist[-1], label='True')\n",
    "plt.legend(ncol=2)\n",
    "plt.xlabel('Number of samples')\n",
    "plt.ylabel(r'$\\omega$')"
   ]
  },
  {
   "cell_type": "markdown",
   "id": "3d59619b",
   "metadata": {},
   "source": [
    "### Can we evaluate the Baye's risk"
   ]
  },
  {
   "cell_type": "code",
   "execution_count": 13,
   "id": "9506c760",
   "metadata": {},
   "outputs": [],
   "source": [
    "child_sys_model = SingleInteractionModel()\n",
    "risk_updater = SMCUpdater(child_sys_model, 2000, prior)"
   ]
  },
  {
   "cell_type": "code",
   "execution_count": 14,
   "id": "dcfa12e4",
   "metadata": {},
   "outputs": [],
   "source": [
    "n_mps = risk_updater.model.base_model.n_modelparams"
   ]
  },
  {
   "cell_type": "code",
   "execution_count": 15,
   "id": "a5a8e0f8",
   "metadata": {},
   "outputs": [],
   "source": [
    "locs = updater.particle_locations[:,:n_mps]\n",
    "weights = updater.particle_weights"
   ]
  },
  {
   "cell_type": "code",
   "execution_count": 16,
   "id": "279ba58e",
   "metadata": {},
   "outputs": [],
   "source": [
    "risk_updater.particle_locations = locs\n",
    "risk_updater.particle_weights = weights"
   ]
  },
  {
   "cell_type": "code",
   "execution_count": 17,
   "id": "53f7ec42",
   "metadata": {},
   "outputs": [],
   "source": [
    "risk = []\n",
    "for t in tvec:\n",
    "    risk.append(risk_updater.bayes_risk({'time': t}))"
   ]
  },
  {
   "cell_type": "code",
   "execution_count": 18,
   "id": "ade78208",
   "metadata": {},
   "outputs": [
    {
     "data": {
      "text/plain": [
       "[<matplotlib.lines.Line2D at 0x7fa79bb78dd8>]"
      ]
     },
     "execution_count": 18,
     "metadata": {},
     "output_type": "execute_result"
    },
    {
     "data": {
      "image/png": "[encoded data removed]",
      "text/plain": [
       "<Figure size 432x288 with 1 Axes>"
      ]
     },
     "metadata": {
      "needs_background": "light"
     },
     "output_type": "display_data"
    }
   ],
   "source": [
    "plt.plot(tvec, risk)"
   ]
  },
  {
   "cell_type": "markdown",
   "id": "a861c717",
   "metadata": {},
   "source": [
    "### What would be the best experiment (time) to measure now?"
   ]
  },
  {
   "cell_type": "code",
   "execution_count": 72,
   "id": "8c22990a",
   "metadata": {},
   "outputs": [
    {
     "data": {
      "text/plain": [
       "80"
      ]
     },
     "execution_count": 72,
     "metadata": {},
     "output_type": "execute_result"
    }
   ],
   "source": [
    "np.argmin(risk)"
   ]
  },
  {
   "cell_type": "markdown",
   "id": "41b2b818",
   "metadata": {},
   "source": [
    "# 2. Noisy CR Hamiltonians"
   ]
  },
  {
   "cell_type": "code",
   "execution_count": 20,
   "id": "929b4520",
   "metadata": {},
   "outputs": [],
   "source": [
    "from bayesianhl.qinfer_cr_hamiltonians import NoisyCRHamiltonian"
   ]
  },
  {
   "cell_type": "code",
   "execution_count": 21,
   "id": "57c6b402",
   "metadata": {},
   "outputs": [],
   "source": [
    "# Define quantum system model\n",
    "n_J = 6\n",
    "xi_J = 1e6*np.ones((n_J,))\n",
    "xi_t = 1e-7\n",
    "\n",
    "sys_model = BinomialModel(NoisyCRHamiltonian(xi_J=xi_J, xi_t=xi_t, FLAG_control_noise=True))"
   ]
  },
  {
   "cell_type": "code",
   "execution_count": 7,
   "id": "ee685ffb",
   "metadata": {},
   "outputs": [],
   "source": [
    "# Define the true parameters\n",
    "J_truth = np.array([[-4610290.4944338, -1479956.7612268,  -229800.80519662,\n",
    "                    6608520.58971551,  1460516.49322424,   336451.01484356]])\n",
    "\n",
    "# This is what we will actually run with -- non-dimensional parameters \n",
    "J_truth_nd = J_truth/xi_J"
   ]
  },
  {
   "cell_type": "code",
   "execution_count": 8,
   "id": "69a8fbd0",
   "metadata": {},
   "outputs": [
    {
     "data": {
      "text/plain": [
       "array([[-4.61029049, -1.47995676, -0.22980081,  6.60852059,  1.46051649,\n",
       "         0.33645101]])"
      ]
     },
     "execution_count": 8,
     "metadata": {},
     "output_type": "execute_result"
    }
   ],
   "source": [
    "# Note that we have all components within [-10,10]\n",
    "J_truth_nd"
   ]
  },
  {
   "cell_type": "code",
   "execution_count": 9,
   "id": "bcedf195",
   "metadata": {},
   "outputs": [],
   "source": [
    "# Lets try this with an estimator\n",
    "Jmin = -10\n",
    "Jmax = 10\n",
    "n_particles = 5000\n",
    "\n",
    "prior = UniformDistribution([[Jmin, Jmax]]*n_J)\n",
    "updater = SMCUpdater(sys_model, n_particles, prior)"
   ]
  },
  {
   "cell_type": "code",
   "execution_count": 10,
   "id": "28c9dd15",
   "metadata": {},
   "outputs": [],
   "source": [
    "# Define the experiments\n",
    "tvec = np.linspace(1, 6, 81)\n",
    "mvec = [0, 1, 2]\n",
    "uvec = [0, 1]\n",
    "\n",
    "n_shots = 10"
   ]
  },
  {
   "cell_type": "code",
   "execution_count": 11,
   "id": "06ab0199",
   "metadata": {},
   "outputs": [
    {
     "name": "stderr",
     "output_type": "stream",
     "text": [
      "/Users/arkopal/miniconda3/envs/active-qinfer-hl-env/lib/python3.6/site-packages/ipykernel_launcher.py:9: FutureWarning: Passing (type, 1) or '1type' as a synonym of type is deprecated; in a future version of numpy, it will be understood as (type, (1,)) / '(1,)type'.\n",
      "  if __name__ == '__main__':\n",
      "/Users/arkopal/miniconda3/envs/active-qinfer-hl-env/lib/python3.6/site-packages/qinfer/resamplers.py:349: ResamplerWarning: Liu-West resampling failed to find valid models for 5000 particles within 1000 iterations.\n",
      "  ).format(idxs_to_resample.size, self._maxiter), ResamplerWarning)\n"
     ]
    },
    {
     "name": "stdout",
     "output_type": "stream",
     "text": [
      "Done with (m,u,t) = (0, 0, 1.000000)\n",
      "Done with (m,u,t) = (0, 1, 1.000000)\n",
      "Done with (m,u,t) = (1, 0, 1.000000)\n",
      "Done with (m,u,t) = (1, 1, 1.000000)\n",
      "Done with (m,u,t) = (2, 0, 1.000000)\n",
      "Done with (m,u,t) = (2, 1, 1.000000)\n",
      "Done with (m,u,t) = (0, 0, 1.062500)\n",
      "Done with (m,u,t) = (0, 1, 1.062500)\n",
      "Done with (m,u,t) = (1, 0, 1.062500)\n",
      "Done with (m,u,t) = (1, 1, 1.062500)\n",
      "Done with (m,u,t) = (2, 0, 1.062500)\n",
      "Done with (m,u,t) = (2, 1, 1.062500)\n",
      "Done with (m,u,t) = (0, 0, 1.125000)\n",
      "Done with (m,u,t) = (0, 1, 1.125000)\n",
      "Done with (m,u,t) = (1, 0, 1.125000)\n",
      "Done with (m,u,t) = (1, 1, 1.125000)\n",
      "Done with (m,u,t) = (2, 0, 1.125000)\n",
      "Done with (m,u,t) = (2, 1, 1.125000)\n",
      "Done with (m,u,t) = (0, 0, 1.187500)\n",
      "Done with (m,u,t) = (0, 1, 1.187500)\n",
      "Done with (m,u,t) = (1, 0, 1.187500)\n",
      "Done with (m,u,t) = (1, 1, 1.187500)\n",
      "Done with (m,u,t) = (2, 0, 1.187500)\n",
      "Done with (m,u,t) = (2, 1, 1.187500)\n",
      "Done with (m,u,t) = (0, 0, 1.250000)\n",
      "Done with (m,u,t) = (0, 1, 1.250000)\n",
      "Done with (m,u,t) = (1, 0, 1.250000)\n",
      "Done with (m,u,t) = (1, 1, 1.250000)\n",
      "Done with (m,u,t) = (2, 0, 1.250000)\n",
      "Done with (m,u,t) = (2, 1, 1.250000)\n",
      "Done with (m,u,t) = (0, 0, 1.312500)\n",
      "Done with (m,u,t) = (0, 1, 1.312500)\n",
      "Done with (m,u,t) = (1, 0, 1.312500)\n",
      "Done with (m,u,t) = (1, 1, 1.312500)\n",
      "Done with (m,u,t) = (2, 0, 1.312500)\n",
      "Done with (m,u,t) = (2, 1, 1.312500)\n",
      "Done with (m,u,t) = (0, 0, 1.375000)\n",
      "Done with (m,u,t) = (0, 1, 1.375000)\n",
      "Done with (m,u,t) = (1, 0, 1.375000)\n",
      "Done with (m,u,t) = (1, 1, 1.375000)\n",
      "Done with (m,u,t) = (2, 0, 1.375000)\n",
      "Done with (m,u,t) = (2, 1, 1.375000)\n",
      "Done with (m,u,t) = (0, 0, 1.437500)\n",
      "Done with (m,u,t) = (0, 1, 1.437500)\n",
      "Done with (m,u,t) = (1, 0, 1.437500)\n",
      "Done with (m,u,t) = (1, 1, 1.437500)\n",
      "Done with (m,u,t) = (2, 0, 1.437500)\n",
      "Done with (m,u,t) = (2, 1, 1.437500)\n",
      "Done with (m,u,t) = (0, 0, 1.500000)\n",
      "Done with (m,u,t) = (0, 1, 1.500000)\n",
      "Done with (m,u,t) = (1, 0, 1.500000)\n",
      "Done with (m,u,t) = (1, 1, 1.500000)\n",
      "Done with (m,u,t) = (2, 0, 1.500000)\n",
      "Done with (m,u,t) = (2, 1, 1.500000)\n",
      "Done with (m,u,t) = (0, 0, 1.562500)\n",
      "Done with (m,u,t) = (0, 1, 1.562500)\n",
      "Done with (m,u,t) = (1, 0, 1.562500)\n",
      "Done with (m,u,t) = (1, 1, 1.562500)\n",
      "Done with (m,u,t) = (2, 0, 1.562500)\n",
      "Done with (m,u,t) = (2, 1, 1.562500)\n",
      "Done with (m,u,t) = (0, 0, 1.625000)\n",
      "Done with (m,u,t) = (0, 1, 1.625000)\n",
      "Done with (m,u,t) = (1, 0, 1.625000)\n",
      "Done with (m,u,t) = (1, 1, 1.625000)\n",
      "Done with (m,u,t) = (2, 0, 1.625000)\n",
      "Done with (m,u,t) = (2, 1, 1.625000)\n",
      "Done with (m,u,t) = (0, 0, 1.687500)\n",
      "Done with (m,u,t) = (0, 1, 1.687500)\n",
      "Done with (m,u,t) = (1, 0, 1.687500)\n",
      "Done with (m,u,t) = (1, 1, 1.687500)\n",
      "Done with (m,u,t) = (2, 0, 1.687500)\n",
      "Done with (m,u,t) = (2, 1, 1.687500)\n",
      "Done with (m,u,t) = (0, 0, 1.750000)\n",
      "Done with (m,u,t) = (0, 1, 1.750000)\n",
      "Done with (m,u,t) = (1, 0, 1.750000)\n",
      "Done with (m,u,t) = (1, 1, 1.750000)\n",
      "Done with (m,u,t) = (2, 0, 1.750000)\n",
      "Done with (m,u,t) = (2, 1, 1.750000)\n",
      "Done with (m,u,t) = (0, 0, 1.812500)\n",
      "Done with (m,u,t) = (0, 1, 1.812500)\n",
      "Done with (m,u,t) = (1, 0, 1.812500)\n",
      "Done with (m,u,t) = (1, 1, 1.812500)\n",
      "Done with (m,u,t) = (2, 0, 1.812500)\n",
      "Done with (m,u,t) = (2, 1, 1.812500)\n",
      "Done with (m,u,t) = (0, 0, 1.875000)\n",
      "Done with (m,u,t) = (0, 1, 1.875000)\n",
      "Done with (m,u,t) = (1, 0, 1.875000)\n",
      "Done with (m,u,t) = (1, 1, 1.875000)\n",
      "Done with (m,u,t) = (2, 0, 1.875000)\n",
      "Done with (m,u,t) = (2, 1, 1.875000)\n",
      "Done with (m,u,t) = (0, 0, 1.937500)\n",
      "Done with (m,u,t) = (0, 1, 1.937500)\n",
      "Done with (m,u,t) = (1, 0, 1.937500)\n",
      "Done with (m,u,t) = (1, 1, 1.937500)\n",
      "Done with (m,u,t) = (2, 0, 1.937500)\n",
      "Done with (m,u,t) = (2, 1, 1.937500)\n",
      "Done with (m,u,t) = (0, 0, 2.000000)\n",
      "Done with (m,u,t) = (0, 1, 2.000000)\n",
      "Done with (m,u,t) = (1, 0, 2.000000)\n",
      "Done with (m,u,t) = (1, 1, 2.000000)\n",
      "Done with (m,u,t) = (2, 0, 2.000000)\n",
      "Done with (m,u,t) = (2, 1, 2.000000)\n",
      "Done with (m,u,t) = (0, 0, 2.062500)\n",
      "Done with (m,u,t) = (0, 1, 2.062500)\n",
      "Done with (m,u,t) = (1, 0, 2.062500)\n",
      "Done with (m,u,t) = (1, 1, 2.062500)\n",
      "Done with (m,u,t) = (2, 0, 2.062500)\n",
      "Done with (m,u,t) = (2, 1, 2.062500)\n",
      "Done with (m,u,t) = (0, 0, 2.125000)\n",
      "Done with (m,u,t) = (0, 1, 2.125000)\n",
      "Done with (m,u,t) = (1, 0, 2.125000)\n",
      "Done with (m,u,t) = (1, 1, 2.125000)\n",
      "Done with (m,u,t) = (2, 0, 2.125000)\n",
      "Done with (m,u,t) = (2, 1, 2.125000)\n",
      "Done with (m,u,t) = (0, 0, 2.187500)\n",
      "Done with (m,u,t) = (0, 1, 2.187500)\n",
      "Done with (m,u,t) = (1, 0, 2.187500)\n",
      "Done with (m,u,t) = (1, 1, 2.187500)\n",
      "Done with (m,u,t) = (2, 0, 2.187500)\n",
      "Done with (m,u,t) = (2, 1, 2.187500)\n",
      "Done with (m,u,t) = (0, 0, 2.250000)\n",
      "Done with (m,u,t) = (0, 1, 2.250000)\n",
      "Done with (m,u,t) = (1, 0, 2.250000)\n",
      "Done with (m,u,t) = (1, 1, 2.250000)\n",
      "Done with (m,u,t) = (2, 0, 2.250000)\n",
      "Done with (m,u,t) = (2, 1, 2.250000)\n",
      "Done with (m,u,t) = (0, 0, 2.312500)\n",
      "Done with (m,u,t) = (0, 1, 2.312500)\n",
      "Done with (m,u,t) = (1, 0, 2.312500)\n",
      "Done with (m,u,t) = (1, 1, 2.312500)\n",
      "Done with (m,u,t) = (2, 0, 2.312500)\n",
      "Done with (m,u,t) = (2, 1, 2.312500)\n",
      "Done with (m,u,t) = (0, 0, 2.375000)\n",
      "Done with (m,u,t) = (0, 1, 2.375000)\n",
      "Done with (m,u,t) = (1, 0, 2.375000)\n",
      "Done with (m,u,t) = (1, 1, 2.375000)\n",
      "Done with (m,u,t) = (2, 0, 2.375000)\n",
      "Done with (m,u,t) = (2, 1, 2.375000)\n",
      "Done with (m,u,t) = (0, 0, 2.437500)\n",
      "Done with (m,u,t) = (0, 1, 2.437500)\n",
      "Done with (m,u,t) = (1, 0, 2.437500)\n",
      "Done with (m,u,t) = (1, 1, 2.437500)\n",
      "Done with (m,u,t) = (2, 0, 2.437500)\n",
      "Done with (m,u,t) = (2, 1, 2.437500)\n",
      "Done with (m,u,t) = (0, 0, 2.500000)\n",
      "Done with (m,u,t) = (0, 1, 2.500000)\n",
      "Done with (m,u,t) = (1, 0, 2.500000)\n",
      "Done with (m,u,t) = (1, 1, 2.500000)\n",
      "Done with (m,u,t) = (2, 0, 2.500000)\n",
      "Done with (m,u,t) = (2, 1, 2.500000)\n",
      "Done with (m,u,t) = (0, 0, 2.562500)\n",
      "Done with (m,u,t) = (0, 1, 2.562500)\n",
      "Done with (m,u,t) = (1, 0, 2.562500)\n",
      "Done with (m,u,t) = (1, 1, 2.562500)\n",
      "Done with (m,u,t) = (2, 0, 2.562500)\n",
      "Done with (m,u,t) = (2, 1, 2.562500)\n",
      "Done with (m,u,t) = (0, 0, 2.625000)\n",
      "Done with (m,u,t) = (0, 1, 2.625000)\n",
      "Done with (m,u,t) = (1, 0, 2.625000)\n",
      "Done with (m,u,t) = (1, 1, 2.625000)\n",
      "Done with (m,u,t) = (2, 0, 2.625000)\n",
      "Done with (m,u,t) = (2, 1, 2.625000)\n",
      "Done with (m,u,t) = (0, 0, 2.687500)\n",
      "Done with (m,u,t) = (0, 1, 2.687500)\n",
      "Done with (m,u,t) = (1, 0, 2.687500)\n",
      "Done with (m,u,t) = (1, 1, 2.687500)\n",
      "Done with (m,u,t) = (2, 0, 2.687500)\n",
      "Done with (m,u,t) = (2, 1, 2.687500)\n",
      "Done with (m,u,t) = (0, 0, 2.750000)\n",
      "Done with (m,u,t) = (0, 1, 2.750000)\n",
      "Done with (m,u,t) = (1, 0, 2.750000)\n",
      "Done with (m,u,t) = (1, 1, 2.750000)\n",
      "Done with (m,u,t) = (2, 0, 2.750000)\n",
      "Done with (m,u,t) = (2, 1, 2.750000)\n",
      "Done with (m,u,t) = (0, 0, 2.812500)\n",
      "Done with (m,u,t) = (0, 1, 2.812500)\n",
      "Done with (m,u,t) = (1, 0, 2.812500)\n",
      "Done with (m,u,t) = (1, 1, 2.812500)\n",
      "Done with (m,u,t) = (2, 0, 2.812500)\n",
      "Done with (m,u,t) = (2, 1, 2.812500)\n",
      "Done with (m,u,t) = (0, 0, 2.875000)\n",
      "Done with (m,u,t) = (0, 1, 2.875000)\n",
      "Done with (m,u,t) = (1, 0, 2.875000)\n",
      "Done with (m,u,t) = (1, 1, 2.875000)\n",
      "Done with (m,u,t) = (2, 0, 2.875000)\n",
      "Done with (m,u,t) = (2, 1, 2.875000)\n",
      "Done with (m,u,t) = (0, 0, 2.937500)\n",
      "Done with (m,u,t) = (0, 1, 2.937500)\n",
      "Done with (m,u,t) = (1, 0, 2.937500)\n",
      "Done with (m,u,t) = (1, 1, 2.937500)\n",
      "Done with (m,u,t) = (2, 0, 2.937500)\n",
      "Done with (m,u,t) = (2, 1, 2.937500)\n",
      "Done with (m,u,t) = (0, 0, 3.000000)\n",
      "Done with (m,u,t) = (0, 1, 3.000000)\n",
      "Done with (m,u,t) = (1, 0, 3.000000)\n",
      "Done with (m,u,t) = (1, 1, 3.000000)\n",
      "Done with (m,u,t) = (2, 0, 3.000000)\n",
      "Done with (m,u,t) = (2, 1, 3.000000)\n",
      "Done with (m,u,t) = (0, 0, 3.062500)\n",
      "Done with (m,u,t) = (0, 1, 3.062500)\n",
      "Done with (m,u,t) = (1, 0, 3.062500)\n",
      "Done with (m,u,t) = (1, 1, 3.062500)\n",
      "Done with (m,u,t) = (2, 0, 3.062500)\n",
      "Done with (m,u,t) = (2, 1, 3.062500)\n",
      "Done with (m,u,t) = (0, 0, 3.125000)\n",
      "Done with (m,u,t) = (0, 1, 3.125000)\n",
      "Done with (m,u,t) = (1, 0, 3.125000)\n",
      "Done with (m,u,t) = (1, 1, 3.125000)\n",
      "Done with (m,u,t) = (2, 0, 3.125000)\n",
      "Done with (m,u,t) = (2, 1, 3.125000)\n",
      "Done with (m,u,t) = (0, 0, 3.187500)\n",
      "Done with (m,u,t) = (0, 1, 3.187500)\n",
      "Done with (m,u,t) = (1, 0, 3.187500)\n",
      "Done with (m,u,t) = (1, 1, 3.187500)\n",
      "Done with (m,u,t) = (2, 0, 3.187500)\n",
      "Done with (m,u,t) = (2, 1, 3.187500)\n",
      "Done with (m,u,t) = (0, 0, 3.250000)\n",
      "Done with (m,u,t) = (0, 1, 3.250000)\n",
      "Done with (m,u,t) = (1, 0, 3.250000)\n",
      "Done with (m,u,t) = (1, 1, 3.250000)\n",
      "Done with (m,u,t) = (2, 0, 3.250000)\n",
      "Done with (m,u,t) = (2, 1, 3.250000)\n"
     ]
    },
    {
     "name": "stdout",
     "output_type": "stream",
     "text": [
      "Done with (m,u,t) = (0, 0, 3.312500)\n",
      "Done with (m,u,t) = (0, 1, 3.312500)\n",
      "Done with (m,u,t) = (1, 0, 3.312500)\n",
      "Done with (m,u,t) = (1, 1, 3.312500)\n",
      "Done with (m,u,t) = (2, 0, 3.312500)\n",
      "Done with (m,u,t) = (2, 1, 3.312500)\n",
      "Done with (m,u,t) = (0, 0, 3.375000)\n",
      "Done with (m,u,t) = (0, 1, 3.375000)\n",
      "Done with (m,u,t) = (1, 0, 3.375000)\n",
      "Done with (m,u,t) = (1, 1, 3.375000)\n",
      "Done with (m,u,t) = (2, 0, 3.375000)\n",
      "Done with (m,u,t) = (2, 1, 3.375000)\n",
      "Done with (m,u,t) = (0, 0, 3.437500)\n",
      "Done with (m,u,t) = (0, 1, 3.437500)\n",
      "Done with (m,u,t) = (1, 0, 3.437500)\n",
      "Done with (m,u,t) = (1, 1, 3.437500)\n",
      "Done with (m,u,t) = (2, 0, 3.437500)\n",
      "Done with (m,u,t) = (2, 1, 3.437500)\n",
      "Done with (m,u,t) = (0, 0, 3.500000)\n",
      "Done with (m,u,t) = (0, 1, 3.500000)\n",
      "Done with (m,u,t) = (1, 0, 3.500000)\n",
      "Done with (m,u,t) = (1, 1, 3.500000)\n",
      "Done with (m,u,t) = (2, 0, 3.500000)\n",
      "Done with (m,u,t) = (2, 1, 3.500000)\n",
      "Done with (m,u,t) = (0, 0, 3.562500)\n",
      "Done with (m,u,t) = (0, 1, 3.562500)\n",
      "Done with (m,u,t) = (1, 0, 3.562500)\n",
      "Done with (m,u,t) = (1, 1, 3.562500)\n",
      "Done with (m,u,t) = (2, 0, 3.562500)\n",
      "Done with (m,u,t) = (2, 1, 3.562500)\n",
      "Done with (m,u,t) = (0, 0, 3.625000)\n",
      "Done with (m,u,t) = (0, 1, 3.625000)\n",
      "Done with (m,u,t) = (1, 0, 3.625000)\n",
      "Done with (m,u,t) = (1, 1, 3.625000)\n",
      "Done with (m,u,t) = (2, 0, 3.625000)\n",
      "Done with (m,u,t) = (2, 1, 3.625000)\n",
      "Done with (m,u,t) = (0, 0, 3.687500)\n",
      "Done with (m,u,t) = (0, 1, 3.687500)\n",
      "Done with (m,u,t) = (1, 0, 3.687500)\n",
      "Done with (m,u,t) = (1, 1, 3.687500)\n",
      "Done with (m,u,t) = (2, 0, 3.687500)\n",
      "Done with (m,u,t) = (2, 1, 3.687500)\n",
      "Done with (m,u,t) = (0, 0, 3.750000)\n",
      "Done with (m,u,t) = (0, 1, 3.750000)\n",
      "Done with (m,u,t) = (1, 0, 3.750000)\n",
      "Done with (m,u,t) = (1, 1, 3.750000)\n",
      "Done with (m,u,t) = (2, 0, 3.750000)\n",
      "Done with (m,u,t) = (2, 1, 3.750000)\n",
      "Done with (m,u,t) = (0, 0, 3.812500)\n",
      "Done with (m,u,t) = (0, 1, 3.812500)\n",
      "Done with (m,u,t) = (1, 0, 3.812500)\n",
      "Done with (m,u,t) = (1, 1, 3.812500)\n",
      "Done with (m,u,t) = (2, 0, 3.812500)\n",
      "Done with (m,u,t) = (2, 1, 3.812500)\n",
      "Done with (m,u,t) = (0, 0, 3.875000)\n",
      "Done with (m,u,t) = (0, 1, 3.875000)\n",
      "Done with (m,u,t) = (1, 0, 3.875000)\n",
      "Done with (m,u,t) = (1, 1, 3.875000)\n",
      "Done with (m,u,t) = (2, 0, 3.875000)\n",
      "Done with (m,u,t) = (2, 1, 3.875000)\n",
      "Done with (m,u,t) = (0, 0, 3.937500)\n",
      "Done with (m,u,t) = (0, 1, 3.937500)\n",
      "Done with (m,u,t) = (1, 0, 3.937500)\n",
      "Done with (m,u,t) = (1, 1, 3.937500)\n",
      "Done with (m,u,t) = (2, 0, 3.937500)\n",
      "Done with (m,u,t) = (2, 1, 3.937500)\n",
      "Done with (m,u,t) = (0, 0, 4.000000)\n",
      "Done with (m,u,t) = (0, 1, 4.000000)\n",
      "Done with (m,u,t) = (1, 0, 4.000000)\n",
      "Done with (m,u,t) = (1, 1, 4.000000)\n",
      "Done with (m,u,t) = (2, 0, 4.000000)\n",
      "Done with (m,u,t) = (2, 1, 4.000000)\n",
      "Done with (m,u,t) = (0, 0, 4.062500)\n",
      "Done with (m,u,t) = (0, 1, 4.062500)\n",
      "Done with (m,u,t) = (1, 0, 4.062500)\n",
      "Done with (m,u,t) = (1, 1, 4.062500)\n",
      "Done with (m,u,t) = (2, 0, 4.062500)\n",
      "Done with (m,u,t) = (2, 1, 4.062500)\n",
      "Done with (m,u,t) = (0, 0, 4.125000)\n",
      "Done with (m,u,t) = (0, 1, 4.125000)\n",
      "Done with (m,u,t) = (1, 0, 4.125000)\n",
      "Done with (m,u,t) = (1, 1, 4.125000)\n",
      "Done with (m,u,t) = (2, 0, 4.125000)\n",
      "Done with (m,u,t) = (2, 1, 4.125000)\n",
      "Done with (m,u,t) = (0, 0, 4.187500)\n",
      "Done with (m,u,t) = (0, 1, 4.187500)\n",
      "Done with (m,u,t) = (1, 0, 4.187500)\n",
      "Done with (m,u,t) = (1, 1, 4.187500)\n",
      "Done with (m,u,t) = (2, 0, 4.187500)\n",
      "Done with (m,u,t) = (2, 1, 4.187500)\n",
      "Done with (m,u,t) = (0, 0, 4.250000)\n",
      "Done with (m,u,t) = (0, 1, 4.250000)\n",
      "Done with (m,u,t) = (1, 0, 4.250000)\n",
      "Done with (m,u,t) = (1, 1, 4.250000)\n",
      "Done with (m,u,t) = (2, 0, 4.250000)\n",
      "Done with (m,u,t) = (2, 1, 4.250000)\n",
      "Done with (m,u,t) = (0, 0, 4.312500)\n",
      "Done with (m,u,t) = (0, 1, 4.312500)\n",
      "Done with (m,u,t) = (1, 0, 4.312500)\n",
      "Done with (m,u,t) = (1, 1, 4.312500)\n",
      "Done with (m,u,t) = (2, 0, 4.312500)\n",
      "Done with (m,u,t) = (2, 1, 4.312500)\n",
      "Done with (m,u,t) = (0, 0, 4.375000)\n",
      "Done with (m,u,t) = (0, 1, 4.375000)\n",
      "Done with (m,u,t) = (1, 0, 4.375000)\n",
      "Done with (m,u,t) = (1, 1, 4.375000)\n",
      "Done with (m,u,t) = (2, 0, 4.375000)\n",
      "Done with (m,u,t) = (2, 1, 4.375000)\n",
      "Done with (m,u,t) = (0, 0, 4.437500)\n",
      "Done with (m,u,t) = (0, 1, 4.437500)\n",
      "Done with (m,u,t) = (1, 0, 4.437500)\n",
      "Done with (m,u,t) = (1, 1, 4.437500)\n",
      "Done with (m,u,t) = (2, 0, 4.437500)\n",
      "Done with (m,u,t) = (2, 1, 4.437500)\n",
      "Done with (m,u,t) = (0, 0, 4.500000)\n",
      "Done with (m,u,t) = (0, 1, 4.500000)\n",
      "Done with (m,u,t) = (1, 0, 4.500000)\n",
      "Done with (m,u,t) = (1, 1, 4.500000)\n",
      "Done with (m,u,t) = (2, 0, 4.500000)\n",
      "Done with (m,u,t) = (2, 1, 4.500000)\n",
      "Done with (m,u,t) = (0, 0, 4.562500)\n",
      "Done with (m,u,t) = (0, 1, 4.562500)\n",
      "Done with (m,u,t) = (1, 0, 4.562500)\n",
      "Done with (m,u,t) = (1, 1, 4.562500)\n",
      "Done with (m,u,t) = (2, 0, 4.562500)\n",
      "Done with (m,u,t) = (2, 1, 4.562500)\n",
      "Done with (m,u,t) = (0, 0, 4.625000)\n",
      "Done with (m,u,t) = (0, 1, 4.625000)\n",
      "Done with (m,u,t) = (1, 0, 4.625000)\n",
      "Done with (m,u,t) = (1, 1, 4.625000)\n",
      "Done with (m,u,t) = (2, 0, 4.625000)\n",
      "Done with (m,u,t) = (2, 1, 4.625000)\n",
      "Done with (m,u,t) = (0, 0, 4.687500)\n",
      "Done with (m,u,t) = (0, 1, 4.687500)\n",
      "Done with (m,u,t) = (1, 0, 4.687500)\n",
      "Done with (m,u,t) = (1, 1, 4.687500)\n",
      "Done with (m,u,t) = (2, 0, 4.687500)\n",
      "Done with (m,u,t) = (2, 1, 4.687500)\n",
      "Done with (m,u,t) = (0, 0, 4.750000)\n",
      "Done with (m,u,t) = (0, 1, 4.750000)\n",
      "Done with (m,u,t) = (1, 0, 4.750000)\n",
      "Done with (m,u,t) = (1, 1, 4.750000)\n",
      "Done with (m,u,t) = (2, 0, 4.750000)\n",
      "Done with (m,u,t) = (2, 1, 4.750000)\n",
      "Done with (m,u,t) = (0, 0, 4.812500)\n",
      "Done with (m,u,t) = (0, 1, 4.812500)\n",
      "Done with (m,u,t) = (1, 0, 4.812500)\n",
      "Done with (m,u,t) = (1, 1, 4.812500)\n",
      "Done with (m,u,t) = (2, 0, 4.812500)\n",
      "Done with (m,u,t) = (2, 1, 4.812500)\n",
      "Done with (m,u,t) = (0, 0, 4.875000)\n",
      "Done with (m,u,t) = (0, 1, 4.875000)\n",
      "Done with (m,u,t) = (1, 0, 4.875000)\n",
      "Done with (m,u,t) = (1, 1, 4.875000)\n",
      "Done with (m,u,t) = (2, 0, 4.875000)\n",
      "Done with (m,u,t) = (2, 1, 4.875000)\n",
      "Done with (m,u,t) = (0, 0, 4.937500)\n",
      "Done with (m,u,t) = (0, 1, 4.937500)\n",
      "Done with (m,u,t) = (1, 0, 4.937500)\n",
      "Done with (m,u,t) = (1, 1, 4.937500)\n",
      "Done with (m,u,t) = (2, 0, 4.937500)\n",
      "Done with (m,u,t) = (2, 1, 4.937500)\n",
      "Done with (m,u,t) = (0, 0, 5.000000)\n",
      "Done with (m,u,t) = (0, 1, 5.000000)\n",
      "Done with (m,u,t) = (1, 0, 5.000000)\n",
      "Done with (m,u,t) = (1, 1, 5.000000)\n",
      "Done with (m,u,t) = (2, 0, 5.000000)\n",
      "Done with (m,u,t) = (2, 1, 5.000000)\n",
      "Done with (m,u,t) = (0, 0, 5.062500)\n",
      "Done with (m,u,t) = (0, 1, 5.062500)\n",
      "Done with (m,u,t) = (1, 0, 5.062500)\n",
      "Done with (m,u,t) = (1, 1, 5.062500)\n",
      "Done with (m,u,t) = (2, 0, 5.062500)\n",
      "Done with (m,u,t) = (2, 1, 5.062500)\n",
      "Done with (m,u,t) = (0, 0, 5.125000)\n",
      "Done with (m,u,t) = (0, 1, 5.125000)\n",
      "Done with (m,u,t) = (1, 0, 5.125000)\n",
      "Done with (m,u,t) = (1, 1, 5.125000)\n",
      "Done with (m,u,t) = (2, 0, 5.125000)\n",
      "Done with (m,u,t) = (2, 1, 5.125000)\n",
      "Done with (m,u,t) = (0, 0, 5.187500)\n",
      "Done with (m,u,t) = (0, 1, 5.187500)\n",
      "Done with (m,u,t) = (1, 0, 5.187500)\n",
      "Done with (m,u,t) = (1, 1, 5.187500)\n",
      "Done with (m,u,t) = (2, 0, 5.187500)\n",
      "Done with (m,u,t) = (2, 1, 5.187500)\n",
      "Done with (m,u,t) = (0, 0, 5.250000)\n",
      "Done with (m,u,t) = (0, 1, 5.250000)\n",
      "Done with (m,u,t) = (1, 0, 5.250000)\n",
      "Done with (m,u,t) = (1, 1, 5.250000)\n",
      "Done with (m,u,t) = (2, 0, 5.250000)\n",
      "Done with (m,u,t) = (2, 1, 5.250000)\n",
      "Done with (m,u,t) = (0, 0, 5.312500)\n",
      "Done with (m,u,t) = (0, 1, 5.312500)\n",
      "Done with (m,u,t) = (1, 0, 5.312500)\n",
      "Done with (m,u,t) = (1, 1, 5.312500)\n",
      "Done with (m,u,t) = (2, 0, 5.312500)\n",
      "Done with (m,u,t) = (2, 1, 5.312500)\n",
      "Done with (m,u,t) = (0, 0, 5.375000)\n",
      "Done with (m,u,t) = (0, 1, 5.375000)\n",
      "Done with (m,u,t) = (1, 0, 5.375000)\n",
      "Done with (m,u,t) = (1, 1, 5.375000)\n",
      "Done with (m,u,t) = (2, 0, 5.375000)\n",
      "Done with (m,u,t) = (2, 1, 5.375000)\n",
      "Done with (m,u,t) = (0, 0, 5.437500)\n",
      "Done with (m,u,t) = (0, 1, 5.437500)\n",
      "Done with (m,u,t) = (1, 0, 5.437500)\n",
      "Done with (m,u,t) = (1, 1, 5.437500)\n",
      "Done with (m,u,t) = (2, 0, 5.437500)\n",
      "Done with (m,u,t) = (2, 1, 5.437500)\n",
      "Done with (m,u,t) = (0, 0, 5.500000)\n",
      "Done with (m,u,t) = (0, 1, 5.500000)\n",
      "Done with (m,u,t) = (1, 0, 5.500000)\n",
      "Done with (m,u,t) = (1, 1, 5.500000)\n",
      "Done with (m,u,t) = (2, 0, 5.500000)\n",
      "Done with (m,u,t) = (2, 1, 5.500000)\n",
      "Done with (m,u,t) = (0, 0, 5.562500)\n",
      "Done with (m,u,t) = (0, 1, 5.562500)\n",
      "Done with (m,u,t) = (1, 0, 5.562500)\n",
      "Done with (m,u,t) = (1, 1, 5.562500)\n",
      "Done with (m,u,t) = (2, 0, 5.562500)\n",
      "Done with (m,u,t) = (2, 1, 5.562500)\n",
      "Done with (m,u,t) = (0, 0, 5.625000)\n",
      "Done with (m,u,t) = (0, 1, 5.625000)\n",
      "Done with (m,u,t) = (1, 0, 5.625000)\n",
      "Done with (m,u,t) = (1, 1, 5.625000)\n",
      "Done with (m,u,t) = (2, 0, 5.625000)\n",
      "Done with (m,u,t) = (2, 1, 5.625000)\n",
      "Done with (m,u,t) = (0, 0, 5.687500)\n",
      "Done with (m,u,t) = (0, 1, 5.687500)\n",
      "Done with (m,u,t) = (1, 0, 5.687500)\n",
      "Done with (m,u,t) = (1, 1, 5.687500)\n",
      "Done with (m,u,t) = (2, 0, 5.687500)\n",
      "Done with (m,u,t) = (2, 1, 5.687500)\n",
      "Done with (m,u,t) = (0, 0, 5.750000)\n",
      "Done with (m,u,t) = (0, 1, 5.750000)\n",
      "Done with (m,u,t) = (1, 0, 5.750000)\n",
      "Done with (m,u,t) = (1, 1, 5.750000)\n",
      "Done with (m,u,t) = (2, 0, 5.750000)\n",
      "Done with (m,u,t) = (2, 1, 5.750000)\n",
      "Done with (m,u,t) = (0, 0, 5.812500)\n",
      "Done with (m,u,t) = (0, 1, 5.812500)\n",
      "Done with (m,u,t) = (1, 0, 5.812500)\n"
     ]
    },
    {
     "name": "stdout",
     "output_type": "stream",
     "text": [
      "Done with (m,u,t) = (1, 1, 5.812500)\n",
      "Done with (m,u,t) = (2, 0, 5.812500)\n",
      "Done with (m,u,t) = (2, 1, 5.812500)\n",
      "Done with (m,u,t) = (0, 0, 5.875000)\n",
      "Done with (m,u,t) = (0, 1, 5.875000)\n",
      "Done with (m,u,t) = (1, 0, 5.875000)\n",
      "Done with (m,u,t) = (1, 1, 5.875000)\n",
      "Done with (m,u,t) = (2, 0, 5.875000)\n",
      "Done with (m,u,t) = (2, 1, 5.875000)\n",
      "Done with (m,u,t) = (0, 0, 5.937500)\n",
      "Done with (m,u,t) = (0, 1, 5.937500)\n",
      "Done with (m,u,t) = (1, 0, 5.937500)\n",
      "Done with (m,u,t) = (1, 1, 5.937500)\n",
      "Done with (m,u,t) = (2, 0, 5.937500)\n",
      "Done with (m,u,t) = (2, 1, 5.937500)\n",
      "Done with (m,u,t) = (0, 0, 6.000000)\n",
      "Done with (m,u,t) = (0, 1, 6.000000)\n",
      "Done with (m,u,t) = (1, 0, 6.000000)\n",
      "Done with (m,u,t) = (1, 1, 6.000000)\n",
      "Done with (m,u,t) = (2, 0, 6.000000)\n",
      "Done with (m,u,t) = (2, 1, 6.000000)\n"
     ]
    }
   ],
   "source": [
    "# Multiple shots at each (M, U, t)\n",
    "est_hist = []\n",
    "cum_shots = []\n",
    "\n",
    "cum_shots_counter = 0\n",
    "for t in tvec:\n",
    "    for m in mvec:\n",
    "        for u in uvec:\n",
    "            experiment = np.array([(m, u, t, n_shots)], dtype=sys_model.expparams_dtype)\n",
    "            outcomes = sys_model.simulate_experiment(J_truth_nd, experiment)\n",
    "            updater.update(outcomes, experiment)\n",
    "            \n",
    "            cum_shots_counter += n_shots\n",
    "    \n",
    "            print('Done with (m,u,t) = (%d, %d, %f)' %(m, u, t))\n",
    "    \n",
    "    est_hist.append(updater.est_mean())\n",
    "    cum_shots.append(cum_shots_counter)"
   ]
  },
  {
   "cell_type": "code",
   "execution_count": 12,
   "id": "13879da0",
   "metadata": {},
   "outputs": [
    {
     "data": {
      "text/plain": [
       "array([-4.60672444, -1.48444763,  0.21032   ,  6.56716375,  1.52418453,\n",
       "       -0.11325233])"
      ]
     },
     "execution_count": 12,
     "metadata": {},
     "output_type": "execute_result"
    }
   ],
   "source": [
    "updater.est_mean()"
   ]
  },
  {
   "cell_type": "code",
   "execution_count": 13,
   "id": "99e60f5a",
   "metadata": {},
   "outputs": [
    {
     "data": {
      "text/plain": [
       "array([[-4.61029049, -1.47995676, -0.22980081,  6.60852059,  1.46051649,\n",
       "         0.33645101]])"
      ]
     },
     "execution_count": 13,
     "metadata": {},
     "output_type": "execute_result"
    }
   ],
   "source": [
    "J_truth_nd"
   ]
  },
  {
   "cell_type": "markdown",
   "id": "6b140a7d",
   "metadata": {},
   "source": [
    "## Define the risk taker"
   ]
  },
  {
   "cell_type": "code",
   "execution_count": 42,
   "id": "15458aa3",
   "metadata": {},
   "outputs": [],
   "source": [
    "reload_package(bayesianhl)"
   ]
  },
  {
   "cell_type": "code",
   "execution_count": 43,
   "id": "eca61f58",
   "metadata": {},
   "outputs": [],
   "source": [
    "from bayesianhl import BayesRiskHeuristic\n",
    "from bayesianhl.action_space import ActionSpace\n",
    "from bayesianhl.qinfer_cr_hamiltonians import NoisyCRHamiltonian"
   ]
  },
  {
   "cell_type": "code",
   "execution_count": 44,
   "id": "d224f0f4",
   "metadata": {},
   "outputs": [],
   "source": [
    "risk_sys_model = NoisyCRHamiltonian(xi_J=xi_J, xi_t=xi_t, FLAG_control_noise=True)\n",
    "Q = np.ones(6)"
   ]
  },
  {
   "cell_type": "code",
   "execution_count": 45,
   "id": "ade76fb2",
   "metadata": {},
   "outputs": [],
   "source": [
    "# Define the action space\n",
    "n_J = 6\n",
    "xi_J = 1e6*np.ones((n_J,))\n",
    "xi_t = 1e-7\n",
    "\n",
    "# Define query space\n",
    "moset = [0,1,2]\n",
    "prepset = [0,1]\n",
    "time_stamps = np.linspace(1e-7, 6e-7, 81)\n",
    "tset = time_stamps/xi_t\n",
    "\n",
    "query_space = {'moset': moset, 'prepset': prepset, 'time_stamps': time_stamps}\n",
    "\n",
    "A_cr = ActionSpace(moset, prepset, tset, xi_t, xi_J)"
   ]
  },
  {
   "cell_type": "code",
   "execution_count": 46,
   "id": "ec34a65b",
   "metadata": {},
   "outputs": [],
   "source": [
    "risk_heuristic = BayesRiskHeuristic(updater, risk_sys_model, Q, A_cr.action_space, prior)"
   ]
  },
  {
   "cell_type": "code",
   "execution_count": 47,
   "id": "92c5f65e",
   "metadata": {},
   "outputs": [],
   "source": [
    "q_expt, q_vec, risk = risk_heuristic.get_best_query(updater)"
   ]
  },
  {
   "cell_type": "code",
   "execution_count": 48,
   "id": "b382da92",
   "metadata": {},
   "outputs": [
    {
     "data": {
      "text/plain": [
       "array([[0.    , 1.    , 2.0625]])"
      ]
     },
     "execution_count": 48,
     "metadata": {},
     "output_type": "execute_result"
    }
   ],
   "source": [
    "q_expt"
   ]
  },
  {
   "cell_type": "code",
   "execution_count": 50,
   "id": "39a7ffe8",
   "metadata": {},
   "outputs": [
    {
     "data": {
      "text/plain": [
       "103"
      ]
     },
     "execution_count": 50,
     "metadata": {},
     "output_type": "execute_result"
    }
   ],
   "source": [
    "np.argmax(q_vec)"
   ]
  },
  {
   "cell_type": "markdown",
   "id": "c42efd66",
   "metadata": {},
   "source": [
    "# 3. Run a job with Bayes Risk + SMC"
   ]
  },
  {
   "cell_type": "code",
   "execution_count": 22,
   "id": "e137706b",
   "metadata": {},
   "outputs": [],
   "source": [
    "reload_package(bayesianhl)"
   ]
  },
  {
   "cell_type": "code",
   "execution_count": 23,
   "id": "13addad1",
   "metadata": {},
   "outputs": [],
   "source": [
    "from bayesianhl.qinfer_bayesian_learner import QinferExperimentRunner"
   ]
  },
  {
   "cell_type": "markdown",
   "id": "3c2d5f25",
   "metadata": {},
   "source": [
    "## 3.1 Define ActionSpace"
   ]
  },
  {
   "cell_type": "code",
   "execution_count": 24,
   "id": "e4b3bcd3",
   "metadata": {},
   "outputs": [],
   "source": [
    "from bayesianhl.action_space import ActionSpace"
   ]
  },
  {
   "cell_type": "code",
   "execution_count": 25,
   "id": "147ac91c",
   "metadata": {},
   "outputs": [],
   "source": [
    "# Define quantum system model\n",
    "n_J = 6\n",
    "xi_J = 1e6*np.ones((n_J,))\n",
    "xi_t = 1e-7"
   ]
  },
  {
   "cell_type": "code",
   "execution_count": 26,
   "id": "ff63d671",
   "metadata": {},
   "outputs": [],
   "source": [
    "# Define query space\n",
    "moset = [0,1,2]\n",
    "prepset = [0,1]\n",
    "time_stamps = np.linspace(1e-7, 6e-7, 81)\n",
    "tset = time_stamps/xi_t\n",
    "\n",
    "query_space = {'moset': moset, 'prepset': prepset, 'time_stamps': time_stamps}"
   ]
  },
  {
   "cell_type": "code",
   "execution_count": 27,
   "id": "8f3bc888",
   "metadata": {},
   "outputs": [],
   "source": [
    "A_cr = ActionSpace(moset, prepset, tset, xi_t, xi_J)"
   ]
  },
  {
   "cell_type": "markdown",
   "id": "3f177a8c",
   "metadata": {},
   "source": [
    "## 3.2 Setup run"
   ]
  },
  {
   "cell_type": "code",
   "execution_count": 28,
   "id": "b589621b",
   "metadata": {},
   "outputs": [],
   "source": [
    "# Set true values\n",
    "J_truth = np.array([[-4568258.88132824, -1465045.02848701,  -290468.97835928,\n",
    "                    6499545.9801579,  1390900.08768167,   413722.74870734]])"
   ]
  },
  {
   "cell_type": "code",
   "execution_count": 29,
   "id": "4af41f7c",
   "metadata": {},
   "outputs": [],
   "source": [
    "# Define quantum system model\n",
    "n_J = 6\n",
    "xi_J = 1e6*np.ones((n_J,))\n",
    "xi_t = 1e-7"
   ]
  },
  {
   "cell_type": "code",
   "execution_count": 30,
   "id": "2cdd8b61",
   "metadata": {},
   "outputs": [],
   "source": [
    "# This is what we will actually run with -- non-dimensional parameters \n",
    "J_truth_nd = J_truth/xi_J"
   ]
  },
  {
   "cell_type": "code",
   "execution_count": 31,
   "id": "5ca9030e",
   "metadata": {},
   "outputs": [
    {
     "name": "stdout",
     "output_type": "stream",
     "text": [
      "Running QinferExperimentRunner with control noise model on!\n"
     ]
    }
   ],
   "source": [
    "# Set up experiment runner\n",
    "\n",
    "# Experiment parameters\n",
    "N_0 = 5*A_cr.N_actions\n",
    "N_batch = 2*A_cr.N_actions\n",
    "max_iter = 5\n",
    "\n",
    "# estimator relevant parameters\n",
    "n_particles = 5000\n",
    "\n",
    "learner_expt = QinferExperimentRunner(J_truth_nd, query_space, xi_J, xi_t, FLAG_control_noise=True,\n",
    "                                      N_0=N_0, N_batch=N_batch, max_iter=max_iter, n_particles=n_particles)"
   ]
  },
  {
   "cell_type": "code",
   "execution_count": 32,
   "id": "9b44e526",
   "metadata": {},
   "outputs": [
    {
     "name": "stdout",
     "output_type": "stream",
     "text": [
      "Passive Learning -- Uniform query distribution\n"
     ]
    }
   ],
   "source": [
    "i_run = 8\n",
    "np.random.seed(10 * (i_run + 2))\n",
    "\n",
    "results_PL = learner_expt.PL_runner(log_file='Qinfer_BED_sim_cr_test.txt')"
   ]
  },
  {
   "cell_type": "code",
   "execution_count": 34,
   "id": "7b316250",
   "metadata": {},
   "outputs": [
    {
     "data": {
      "text/plain": [
       "dict_keys(['loss', 'mse', 'J_hat', 'J_truth_nd', 'xi_J', 'N_p', 'q', 'n_shots', 'data', 'samples', 'A_cr'])"
      ]
     },
     "execution_count": 34,
     "metadata": {},
     "output_type": "execute_result"
    }
   ],
   "source": [
    "results_PL.keys()"
   ]
  },
  {
   "cell_type": "code",
   "execution_count": 37,
   "id": "934684f8",
   "metadata": {},
   "outputs": [
    {
     "name": "stdout",
     "output_type": "stream",
     "text": [
      "0\n",
      "(0, 0, 1.0)\n",
      "185\n",
      "(2, 1, 2.875)\n",
      "253\n",
      "(0, 1, 3.625)\n",
      "480\n",
      "(0, 0, 6.0)\n",
      "355\n",
      "(0, 1, 4.6875)\n"
     ]
    }
   ],
   "source": [
    "q_vec = results_PL['q']\n",
    "\n",
    "for ind in range(max_iter):\n",
    "    action_i = np.argmax(q_vec[ind])\n",
    "    print(action_i)\n",
    "    print(A_cr.action_space[action_i])"
   ]
  },
  {
   "cell_type": "markdown",
   "id": "f7d183a6",
   "metadata": {},
   "source": [
    "# 4. Qinfer (SMC + Bayes Risk) on experimental dataset"
   ]
  },
  {
   "cell_type": "code",
   "execution_count": 7,
   "id": "862b7562",
   "metadata": {},
   "outputs": [],
   "source": [
    "reload_package(bayesianhl)"
   ]
  },
  {
   "cell_type": "code",
   "execution_count": 8,
   "id": "57a8fbf3",
   "metadata": {},
   "outputs": [],
   "source": [
    "from bayesianhl.qinfer_bayesian_learner_dataset import QinferExperimentRunner\n",
    "from bayesianhl import action_space, quantum_device_oracle, quantum_device_models\n",
    "from bayesianhl.utils import job_helper"
   ]
  },
  {
   "cell_type": "markdown",
   "id": "40cb29bd",
   "metadata": {},
   "source": [
    "## 4.1 Define experimental dataset"
   ]
  },
  {
   "cell_type": "code",
   "execution_count": 9,
   "id": "c7341b25",
   "metadata": {},
   "outputs": [],
   "source": [
    "DATA_dir = '../data/'\n",
    "\n",
    "# Device (ibmq_boeblingen) being considered\n",
    "# Load the data from which we will consider the parameters and time-stamps\n",
    "ibm_data = job_helper.setup_oracle()"
   ]
  },
  {
   "cell_type": "code",
   "execution_count": 10,
   "id": "a6405049",
   "metadata": {},
   "outputs": [],
   "source": [
    "J_truth = np.array([[-4568258.88132824, -1465045.02848701,  -290468.97835928,\n",
    "                    6499545.9801579,  1390900.08768167,   413722.74870734]])"
   ]
  },
  {
   "cell_type": "code",
   "execution_count": 11,
   "id": "6db843b1",
   "metadata": {},
   "outputs": [],
   "source": [
    "# Non-dim parameters\n",
    "xi_J = 1e6*np.ones((6,))\n",
    "xi_t = 1e-7"
   ]
  },
  {
   "cell_type": "code",
   "execution_count": 12,
   "id": "e964f331",
   "metadata": {},
   "outputs": [],
   "source": [
    "# What we will pass to the learner for simulating experiments or computing errors, etc.\n",
    "J_truth_nd = J_truth/xi_J"
   ]
  },
  {
   "cell_type": "code",
   "execution_count": 13,
   "id": "ddcf0ebe",
   "metadata": {},
   "outputs": [
    {
     "name": "stdout",
     "output_type": "stream",
     "text": [
      "Experimental data simulator setup\n",
      "Creating query set for ibmq_boeblingen!\n"
     ]
    }
   ],
   "source": [
    "# Setup dataset oracle\n",
    "# Oracle properties\n",
    "FLAG_simulator = False\n",
    "\n",
    "# Noise Models\n",
    "FLAG_readout_noise = True\n",
    "FLAG_control_noise = True\n",
    "\n",
    "# Noise\n",
    "param_truth = quantum_device_models.transform_parameters(J_truth[0])\n",
    "\n",
    "# Control Noise\n",
    "teff = quantum_device_models.data_driven_teff_noise_model(param_truth, FLAG_ibmq_boel=True)\n",
    "expt_noise ={'readout': ibm_data['misclassif_error'], 'imperfect_pulse_shaping': teff}\n",
    "\n",
    "# Create oracle\n",
    "oracle_qs_expt = quantum_device_oracle.DeviceOracle(J_truth[0], noise=expt_noise, expt_data=ibm_data,\n",
    "                                        FLAG_simulator=FLAG_simulator,\n",
    "                                        FLAG_readout_noise=FLAG_readout_noise,\n",
    "                                        FLAG_control_noise=FLAG_control_noise)"
   ]
  },
  {
   "cell_type": "code",
   "execution_count": 14,
   "id": "037321f4",
   "metadata": {},
   "outputs": [],
   "source": [
    "# Define query space\n",
    "moset = [0,1,2]\n",
    "prepset = [0,1]\n",
    "time_stamps = ibm_data['time_stamps'][0:81]\n",
    "tset = time_stamps/xi_t\n",
    "\n",
    "query_space = {'moset': moset, 'prepset': prepset, 'time_stamps': time_stamps}\n",
    "\n",
    "# ActionSpace\n",
    "A_cr = action_space.ActionSpace(moset, prepset, tset, xi_t, xi_J)"
   ]
  },
  {
   "cell_type": "code",
   "execution_count": 15,
   "id": "882bd41e",
   "metadata": {},
   "outputs": [
    {
     "name": "stdout",
     "output_type": "stream",
     "text": [
      "512\n"
     ]
    }
   ],
   "source": [
    "print(np.amin(oracle_qs_expt.expt_data['n_samples_actions']))"
   ]
  },
  {
   "cell_type": "markdown",
   "id": "fea57cfd",
   "metadata": {},
   "source": [
    "## 4.2 Launch a run"
   ]
  },
  {
   "cell_type": "code",
   "execution_count": 16,
   "id": "6654d39d",
   "metadata": {},
   "outputs": [
    {
     "name": "stdout",
     "output_type": "stream",
     "text": [
      "shots per query set to 512\n",
      "Running QinferExperimentRunner with control noise model on!\n"
     ]
    }
   ],
   "source": [
    "# Set up experiment runner\n",
    "\n",
    "# Experiment parameters\n",
    "N_0 = 5*A_cr.N_actions\n",
    "N_batch = 2*A_cr.N_actions\n",
    "max_iter = 5\n",
    "\n",
    "# estimator relevant parameters\n",
    "n_particles = 5000\n",
    "\n",
    "learner_expt = QinferExperimentRunner(J_truth_nd, query_space, xi_J, xi_t,\n",
    "                                      dataset_oracle=oracle_qs_expt, FLAG_simulator=False,\n",
    "                                      FLAG_readout_noise=True, FLAG_control_noise=True,\n",
    "                                      N_0=N_0, N_batch=N_batch, max_iter=max_iter, \n",
    "                                      max_shots_query=512, n_particles=n_particles)"
   ]
  },
  {
   "cell_type": "code",
   "execution_count": 17,
   "id": "c58c8551",
   "metadata": {},
   "outputs": [
    {
     "data": {
      "text/plain": [
       "[0.0078125, 0.033203125]"
      ]
     },
     "execution_count": 17,
     "metadata": {},
     "output_type": "execute_result"
    }
   ],
   "source": [
    "# Just check the noise terms\n",
    "learner_expt.readout_noise"
   ]
  },
  {
   "cell_type": "code",
   "execution_count": 18,
   "id": "188fe657",
   "metadata": {},
   "outputs": [
    {
     "data": {
      "text/plain": [
       "512"
      ]
     },
     "execution_count": 18,
     "metadata": {},
     "output_type": "execute_result"
    }
   ],
   "source": [
    "learner_expt._max_shots_ActionSpace"
   ]
  },
  {
   "cell_type": "code",
   "execution_count": 19,
   "id": "53e69f25",
   "metadata": {},
   "outputs": [
    {
     "name": "stderr",
     "output_type": "stream",
     "text": [
      "/Users/arkopal/Dropbox (Personal)/Research/Focus/HAL_FI/Code/qinfer-hl/bayesianhl/qinfer_bayesian_learner_dataset.py:217: FutureWarning: Passing (type, 1) or '1type' as a synonym of type is deprecated; in a future version of numpy, it will be understood as (type, (1,)) / '(1,)type'.\n",
      "  experiment_temp = np.array([(m, u, t, n_shots)], dtype=self.sys_model.expparams_dtype)\n",
      "/Users/arkopal/Dropbox (Personal)/Research/Focus/HAL_FI/Code/qinfer-hl/bayesianhl/qinfer_bayesian_learner_dataset.py:249: FutureWarning: Passing (type, 1) or '1type' as a synonym of type is deprecated; in a future version of numpy, it will be understood as (type, (1,)) / '(1,)type'.\n",
      "  experiment_temp = np.array([(m, u, t, n_shots)], dtype=self.sys_model.expparams_dtype)\n",
      "/Users/arkopal/miniconda3/envs/active-qinfer-hl-env/lib/python3.6/site-packages/qinfer/resamplers.py:349: ResamplerWarning: Liu-West resampling failed to find valid models for 5000 particles within 1000 iterations.\n",
      "  ).format(idxs_to_resample.size, self._maxiter), ResamplerWarning)\n"
     ]
    },
    {
     "name": "stdout",
     "output_type": "stream",
     "text": [
      "Active Learning with Qinfer -- Bayes risk query distribution\n"
     ]
    },
    {
     "name": "stderr",
     "output_type": "stream",
     "text": [
      "/Users/arkopal/Dropbox (Personal)/Research/Focus/HAL_FI/Code/qinfer-hl/bayesianhl/bayes_risk_heuristic.py:81: FutureWarning: Passing (type, 1) or '1type' as a synonym of type is deprecated; in a future version of numpy, it will be understood as (type, (1,)) / '(1,)type'.\n",
      "  ep_temp = np.array([(m, u, t_nd)], dtype=self._ham_model.expparams_dtype)\n"
     ]
    }
   ],
   "source": [
    "# Launch the experiment\n",
    "i_run = 8\n",
    "np.random.seed(10 * (i_run + 2))\n",
    "\n",
    "results_qinfer = learner_expt.AL_runner(log_file='Qinfer_expt_cr_test.txt')"
   ]
  },
  {
   "cell_type": "code",
   "execution_count": 20,
   "id": "33492364",
   "metadata": {},
   "outputs": [
    {
     "data": {
      "text/plain": [
       "[<matplotlib.lines.Line2D at 0x7fcaa06c69e8>]"
      ]
     },
     "execution_count": 20,
     "metadata": {},
     "output_type": "execute_result"
    },
    {
     "data": {
      "image/png": "[encoded data removed]",
      "text/plain": [
       "<Figure size 432x288 with 1 Axes>"
      ]
     },
     "metadata": {
      "needs_background": "light"
     },
     "output_type": "display_data"
    }
   ],
   "source": [
    "plt.plot(results_qinfer['N_p'], np.sqrt(results_qinfer['mse']), '--s', label='SMC + PL')"
   ]
  },
  {
   "cell_type": "code",
   "execution_count": 21,
   "id": "1e94d348",
   "metadata": {},
   "outputs": [
    {
     "data": {
      "text/plain": [
       "dict_keys(['loss', 'mse', 'J_hat', 'J_truth_nd', 'xi_J', 'N_p', 'q', 'n_shots', 'data', 'samples', 'A_cr'])"
      ]
     },
     "execution_count": 21,
     "metadata": {},
     "output_type": "execute_result"
    }
   ],
   "source": [
    "results_qinfer.keys()"
   ]
  },
  {
   "cell_type": "code",
   "execution_count": 22,
   "id": "bf07355f",
   "metadata": {},
   "outputs": [],
   "source": [
    "A_cr = results_qinfer['A_cr']"
   ]
  },
  {
   "cell_type": "code",
   "execution_count": 23,
   "id": "4405a333",
   "metadata": {},
   "outputs": [
    {
     "data": {
      "text/plain": [
       "[<matplotlib.lines.Line2D at 0x7fcab2241390>]"
      ]
     },
     "execution_count": 23,
     "metadata": {},
     "output_type": "execute_result"
    },
    {
     "data": {
      "image/png": "[encoded data removed]",
      "text/plain": [
       "<Figure size 432x288 with 1 Axes>"
      ]
     },
     "metadata": {
      "needs_background": "light"
     },
     "output_type": "display_data"
    }
   ],
   "source": [
    "plt.plot(A_cr.action_n_shots)"
   ]
  },
  {
   "cell_type": "code",
   "execution_count": 24,
   "id": "a57ca3a1",
   "metadata": {},
   "outputs": [
    {
     "name": "stdout",
     "output_type": "stream",
     "text": [
      "[507 507 507 507 507 507 507 507 507 507 507 507 507 507 507 507 507 507\n",
      " 507 507 507 507 507 507 507 507 507 507 507 507 507 507 507 507 507 507\n",
      " 507 507 507 507 507 507 507 507 507 507 507 507 507 507 507 507 507 507\n",
      " 507 507 507 507 507 507 507 507 507 507 507 507 507 507 507 507 507 507\n",
      " 507 507 507 507 507 507 507 507 507 507 507 507 507 507 507 507 507 507\n",
      " 507 507 507 507 507 507 507 507 507 507 507 507 507 507 507 507 507 507\n",
      " 507 507 507 507 507 507 507 507 507 507 507 507 507 507 507 507 507 507\n",
      " 507 507 507 507 507 507 507 507 507 507 507 507 507 507 507 507 507 507\n",
      " 507 507 507 507 507 507 507 507 507 507 507 507 507 507 507 507 507 507\n",
      " 507 507 507 507 507 507 507 507 507 507 507 507 507 507 507 507 507 507\n",
      "  42 507 507 507 507 507   0 507 507 507 507 507 507 507 507 507 507 507\n",
      " 507 507 507 507 507 507 507 507 507 507 507 507 507 507 507 507 507 507\n",
      " 507 507 507 507 507 507 507 507 507 507 507 507 507 507 507 507 507 507\n",
      " 507 507 507 507 507 507 507 507 507 507 507 507 507  42 507 507 507 507\n",
      " 507   0 507 507 507 507 507 507 507 507 507 507 507 507 507 507 507 507\n",
      " 507 507 507 507 507 507 507 507 507 507 507 507 507 507 507 507 507 507\n",
      " 507 507 507 507 507 507 507 507 507 507 507 507 507 507 507 507 507 507\n",
      " 507 507 507 507 507 507 507 507 507 507 507 507 507 507 507 507 507 507\n",
      " 507 507 507 507 507 507 507 507 507 507 507 507 507 507 507 507 507 507\n",
      " 507 507 507 507 507 507 507   0 507 507 507 507 507  42 507 507 507 507\n",
      " 507 507 507 507 507 507 507 507 507 507 507 507 507 507 507 507 507 507\n",
      " 507 507 507 507 507 507 507 507 507 507 507 507 507 507 507 507 507 507\n",
      " 507 507 507 507 507 507 507 507 507 507 507 507 507 507 507 507 507 507\n",
      " 507 507 507 507 507 507 507 507 507 507 507 507 507 507 507 507 507 507\n",
      " 507 507 507 507 507 507 507 507 507 507 507 507 507 507 507 507 507 507\n",
      " 507 507 507 507 507 507 507 507 507 507 507 507 507 507 507 507 507 507\n",
      " 507 507 507 507 507 507  42 507 507 507  42 507   0 507 507 507   0 507]\n"
     ]
    }
   ],
   "source": [
    "A_cr = results_qinfer['A_cr']\n",
    "print(A_cr.action_n_shots)"
   ]
  },
  {
   "cell_type": "markdown",
   "id": "f81fe6cf",
   "metadata": {},
   "source": [
    "## 4.3 Run on simulator with query constraints"
   ]
  },
  {
   "cell_type": "code",
   "execution_count": 25,
   "id": "b896aa5b",
   "metadata": {},
   "outputs": [
    {
     "name": "stdout",
     "output_type": "stream",
     "text": [
      "shots per query set to 512\n",
      "Running QinferExperimentRunner with control noise model on!\n"
     ]
    }
   ],
   "source": [
    "FLAG_simulator = True\n",
    "readout_noise = ibm_data['misclassif_error']\n",
    "\n",
    "# Experiment parameters\n",
    "N_0 = 5*A_cr.N_actions\n",
    "N_batch = 2*A_cr.N_actions\n",
    "max_iter = 5\n",
    "\n",
    "# estimator relevant parameters\n",
    "n_particles = 5000\n",
    "\n",
    "learner_expt = QinferExperimentRunner(J_truth_nd, query_space, xi_J, xi_t,\n",
    "                                      dataset_oracle=oracle_qs_expt, FLAG_simulator=True,\n",
    "                                      FLAG_readout_noise=True, FLAG_control_noise=True,\n",
    "                                      readout_noise=readout_noise,\n",
    "                                      N_0=N_0, N_batch=N_batch, max_iter=max_iter, \n",
    "                                      max_shots_query=512, n_particles=n_particles)"
   ]
  },
  {
   "cell_type": "code",
   "execution_count": 26,
   "id": "bdc7b1c7",
   "metadata": {},
   "outputs": [
    {
     "name": "stderr",
     "output_type": "stream",
     "text": [
      "/Users/arkopal/Dropbox (Personal)/Research/Focus/HAL_FI/Code/qinfer-hl/bayesianhl/qinfer_bayesian_learner_dataset.py:217: FutureWarning: Passing (type, 1) or '1type' as a synonym of type is deprecated; in a future version of numpy, it will be understood as (type, (1,)) / '(1,)type'.\n",
      "  experiment_temp = np.array([(m, u, t, n_shots)], dtype=self.sys_model.expparams_dtype)\n",
      "/Users/arkopal/Dropbox (Personal)/Research/Focus/HAL_FI/Code/qinfer-hl/bayesianhl/qinfer_bayesian_learner_dataset.py:249: FutureWarning: Passing (type, 1) or '1type' as a synonym of type is deprecated; in a future version of numpy, it will be understood as (type, (1,)) / '(1,)type'.\n",
      "  experiment_temp = np.array([(m, u, t, n_shots)], dtype=self.sys_model.expparams_dtype)\n",
      "/Users/arkopal/miniconda3/envs/active-qinfer-hl-env/lib/python3.6/site-packages/qinfer/resamplers.py:349: ResamplerWarning: Liu-West resampling failed to find valid models for 5000 particles within 1000 iterations.\n",
      "  ).format(idxs_to_resample.size, self._maxiter), ResamplerWarning)\n"
     ]
    },
    {
     "name": "stdout",
     "output_type": "stream",
     "text": [
      "Active Learning with Qinfer -- Bayes risk query distribution\n"
     ]
    },
    {
     "name": "stderr",
     "output_type": "stream",
     "text": [
      "/Users/arkopal/Dropbox (Personal)/Research/Focus/HAL_FI/Code/qinfer-hl/bayesianhl/bayes_risk_heuristic.py:81: FutureWarning: Passing (type, 1) or '1type' as a synonym of type is deprecated; in a future version of numpy, it will be understood as (type, (1,)) / '(1,)type'.\n",
      "  ep_temp = np.array([(m, u, t_nd)], dtype=self._ham_model.expparams_dtype)\n"
     ]
    }
   ],
   "source": [
    "# Launch the experiment\n",
    "i_run = 8\n",
    "np.random.seed(10 * (i_run + 2))\n",
    "\n",
    "results_qinfer_constraints = learner_expt.AL_runner(log_file='Qinfer_sim_constraints_cr_test.txt')"
   ]
  },
  {
   "cell_type": "code",
   "execution_count": 27,
   "id": "e79f0e2c",
   "metadata": {},
   "outputs": [
    {
     "data": {
      "text/plain": [
       "[<matplotlib.lines.Line2D at 0x7fcad0615518>]"
      ]
     },
     "execution_count": 27,
     "metadata": {},
     "output_type": "execute_result"
    },
    {
     "data": {
      "image/png": "[encoded data removed]",
      "text/plain": [
       "<Figure size 432x288 with 1 Axes>"
      ]
     },
     "metadata": {
      "needs_background": "light"
     },
     "output_type": "display_data"
    }
   ],
   "source": [
    "plt.plot(results_qinfer_constraints['N_p'], np.sqrt(results_qinfer_constraints['mse']), '--s', label='SMC + PL')"
   ]
  },
  {
   "cell_type": "code",
   "execution_count": 28,
   "id": "c2123a56",
   "metadata": {},
   "outputs": [],
   "source": [
    "# Check if a dataset oracle was ever set\n",
    "learner_expt.dataset_oracle"
   ]
  },
  {
   "cell_type": "code",
   "execution_count": 29,
   "id": "d66e005f",
   "metadata": {},
   "outputs": [],
   "source": [
    "# Check the action space\n",
    "A_cr = results_qinfer_constraints['A_cr']"
   ]
  },
  {
   "cell_type": "code",
   "execution_count": 30,
   "id": "7f1ac888",
   "metadata": {},
   "outputs": [
    {
     "name": "stdout",
     "output_type": "stream",
     "text": [
      "[507  42 507 507 507 507 507 507 507 507 507 507 507 507 507 507 507 507\n",
      " 507 507 507 507 507 507 507 507 507 507 507 507 507 507 507 507 507 507\n",
      " 507 507 507 507 507 507 507 507 507 507 507 507 507 507 507 507 507 507\n",
      " 507 507 507 507 507 507 507 507 507 507 507 507 507 507 507 507 507 507\n",
      " 507 507 507 507 507 507 507 507 507 507 507 507 507 507 507 507 507 507\n",
      " 507   0 507 507 507 507 507 507 507 507 507 507 507 507 507 507 507 507\n",
      " 507 507 507 507 507 507 507 507 507 507 507 507 507 507 507 507 507 507\n",
      " 507 507 507 507 507 507 507 507 507 507 507 507 507 507 507 507 507 507\n",
      " 507 507 507 507 507 507 507 507 507 507 507 507 507 507 507 507 507 507\n",
      " 507 507 507 507 507 507 507 507 507 507 507 507 507 507 507 507 507 507\n",
      " 507 507 507 507 507 507   0 507 507 507 507 507  42 507 507 507 507 507\n",
      " 507 507 507 507 507 507 507 507 507 507 507 507 507 507 507 507 507 507\n",
      " 507 507 507 507 507 507 507 507 507 507 507 507 507 507 507 507 507 507\n",
      " 507 507 507 507 507 507 507 507 507 507 507 507 507 507 507 507 507 507\n",
      " 507 507 507 507 507 507 507   0 507 507 507 507 507 507 507 507 507 507\n",
      " 507 507 507 507 507 507 507 507 507 507 507 507 507 507 507 507 507 507\n",
      " 507 507 507 507 507 507 507 507 507 507 507 507 507 507 507 507 507 507\n",
      " 507 507 507 507 507 507 507 507 507 507 507 507 507 507 507 507 507 507\n",
      " 507 507 507 507 507 507 507 507 507 507 507 507 507 507 507 507 507 507\n",
      " 507 507 507 507 507 507 507  42 507 507 507 507 507 507 507 507 507 507\n",
      " 507 507 507 507 507 507 507 507 507 507 507 507 507 507 507 507 507 507\n",
      " 507 507 507 507 507 507 507 507 507 507 507 507 507 507 507 507 507 507\n",
      " 507 507 507 507 507 507 507 507 507 507 507 507 507 507 507 507 507 507\n",
      " 507 507 507 507 507 507 507 507 507 507 507 507 507 507 507 507 507 507\n",
      " 507 507 507 507 507 507 507 507 507 507 507 507 507 507 507 507 507 507\n",
      " 507 507 507 507 507 507 507 507 507 507 507 507 507 507 507 507 507 507\n",
      " 507 507 507 507 507 507  42 507 507 507  42 507   0 507 507 507   0 507]\n"
     ]
    }
   ],
   "source": [
    "print(A_cr.action_n_shots)"
   ]
  },
  {
   "cell_type": "code",
   "execution_count": 32,
   "id": "63ca1a5f",
   "metadata": {},
   "outputs": [
    {
     "data": {
      "text/plain": [
       "[<matplotlib.lines.Line2D at 0x7fcac2027e80>]"
      ]
     },
     "execution_count": 32,
     "metadata": {},
     "output_type": "execute_result"
    },
    {
     "data": {
      "image/png": "[encoded data removed]",
      "text/plain": [
       "<Figure size 432x288 with 1 Axes>"
      ]
     },
     "metadata": {
      "needs_background": "light"
     },
     "output_type": "display_data"
    }
   ],
   "source": [
    "plt.plot(A_cr.action_n_shots)"
   ]
  },
  {
   "cell_type": "code",
   "execution_count": null,
   "id": "68fe0ec0",
   "metadata": {},
   "outputs": [],
   "source": []
  }
 ],
 "metadata": {
  "kernelspec": {
   "display_name": "active-qinfer-hl-env",
   "language": "python",
   "name": "active-qinfer-hl-env"
  },
  "language_info": {
   "codemirror_mode": {
    "name": "ipython",
    "version": 3
   },
   "file_extension": ".py",
   "mimetype": "text/x-python",
   "name": "python",
   "nbconvert_exporter": "python",
   "pygments_lexer": "ipython3",
   "version": "3.6.13"
  }
 },
 "nbformat": 4,
 "nbformat_minor": 5
}
