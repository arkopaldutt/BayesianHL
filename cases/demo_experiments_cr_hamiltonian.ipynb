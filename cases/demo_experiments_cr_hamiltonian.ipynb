{
 "cells": [
  {
   "cell_type": "code",
   "execution_count": 1,
   "id": "b96ff13d",
   "metadata": {},
   "outputs": [
    {
     "name": "stderr",
     "output_type": "stream",
     "text": [
      "/Users/arkopal/miniconda3/envs/active-qinfer-hl-env/lib/python3.6/site-packages/IPython/parallel.py:13: ShimWarning: The `IPython.parallel` package has been deprecated since IPython 4.0. You should import from ipyparallel instead.\n",
      "  \"You should import from ipyparallel instead.\", ShimWarning)\n",
      "/Users/arkopal/miniconda3/envs/active-qinfer-hl-env/lib/python3.6/site-packages/qinfer/parallel.py:52: UserWarning: Could not import IPython parallel. Parallelization support will be disabled.\n",
      "  \"Could not import IPython parallel. \"\n"
     ]
    }
   ],
   "source": [
    "# imports\n",
    "from __future__ import division, print_function\n",
    "%matplotlib inline\n",
    "\n",
    "import os, sys, types\n",
    "import pathlib\n",
    "from importlib import reload\n",
    "import numpy as np\n",
    "from scipy.linalg import expm\n",
    "import qinfer as qi\n",
    "import matplotlib.pyplot as plt\n",
    "import functools"
   ]
  },
  {
   "cell_type": "code",
   "execution_count": 2,
   "id": "2f534060",
   "metadata": {},
   "outputs": [],
   "source": [
    "# For local package imports\n",
    "PROJECT_PATH = str(pathlib.Path().resolve().parent)\n",
    "sys.path.append(PROJECT_PATH)"
   ]
  },
  {
   "cell_type": "code",
   "execution_count": 3,
   "id": "7cd2eee9",
   "metadata": {},
   "outputs": [],
   "source": [
    "# Cool reloading\n",
    "# Reference: https://stackoverflow.com/questions/28101895/reloading-packages-and-their-submodules-recursively-in-python\n",
    "\n",
    "def reload_package(package):\n",
    "    assert(hasattr(package, \"__package__\"))\n",
    "    fn = package.__file__\n",
    "    fn_dir = os.path.dirname(fn) + os.sep\n",
    "    module_visit = {fn}\n",
    "    del fn\n",
    "\n",
    "    def reload_recursive_ex(module):\n",
    "        reload(module)\n",
    "\n",
    "        for module_child in vars(module).values():\n",
    "            if isinstance(module_child, types.ModuleType):\n",
    "                fn_child = getattr(module_child, \"__file__\", None)\n",
    "                if (fn_child is not None) and fn_child.startswith(fn_dir):\n",
    "                    if fn_child not in module_visit:\n",
    "                        # print(\"reloading:\", fn_child, \"from\", module)\n",
    "                        module_visit.add(fn_child)\n",
    "                        reload_recursive_ex(module_child)\n",
    "\n",
    "    return reload_recursive_ex(package)"
   ]
  },
  {
   "cell_type": "code",
   "execution_count": 4,
   "id": "551443fc",
   "metadata": {},
   "outputs": [],
   "source": [
    "import bayesianhl"
   ]
  },
  {
   "cell_type": "markdown",
   "id": "60750c51",
   "metadata": {},
   "source": [
    "# 1. Check ActionSpace"
   ]
  },
  {
   "cell_type": "code",
   "execution_count": 5,
   "id": "bee02ba6",
   "metadata": {},
   "outputs": [],
   "source": [
    "from bayesianhl.action_space import ActionSpace"
   ]
  },
  {
   "cell_type": "code",
   "execution_count": 6,
   "id": "2cdae876",
   "metadata": {},
   "outputs": [],
   "source": [
    "# Define quantum system model\n",
    "n_J = 6\n",
    "xi_J = 1e6*np.ones((n_J,))\n",
    "xi_t = 1e-7"
   ]
  },
  {
   "cell_type": "code",
   "execution_count": 7,
   "id": "1d021e7a",
   "metadata": {},
   "outputs": [],
   "source": [
    "# Define query space\n",
    "moset = [0,1,2]\n",
    "prepset = [0,1]\n",
    "time_stamps = np.linspace(1e-7, 6e-7, 81)\n",
    "tset = time_stamps/xi_t\n",
    "\n",
    "query_space = {'moset': moset, 'prepset': prepset, 'time_stamps': time_stamps}"
   ]
  },
  {
   "cell_type": "code",
   "execution_count": 8,
   "id": "89e5f1e4",
   "metadata": {},
   "outputs": [],
   "source": [
    "A_cr = ActionSpace(moset, prepset, tset, xi_t, xi_J)"
   ]
  },
  {
   "cell_type": "markdown",
   "id": "5b319cb6",
   "metadata": {},
   "source": [
    "# 2. Run a PL job on simulator"
   ]
  },
  {
   "cell_type": "code",
   "execution_count": 9,
   "id": "e6fdc7e3",
   "metadata": {},
   "outputs": [],
   "source": [
    "reload_package(bayesianhl)"
   ]
  },
  {
   "cell_type": "code",
   "execution_count": 10,
   "id": "926fc55e",
   "metadata": {},
   "outputs": [],
   "source": [
    "from bayesianhl.bayesian_learner import ExperimentRunner"
   ]
  },
  {
   "cell_type": "code",
   "execution_count": 11,
   "id": "7e794e33",
   "metadata": {},
   "outputs": [],
   "source": [
    "# Set true values\n",
    "J_truth = np.array([[-4568258.88132824, -1465045.02848701,  -290468.97835928,\n",
    "                    6499545.9801579,  1390900.08768167,   413722.74870734]])"
   ]
  },
  {
   "cell_type": "code",
   "execution_count": 12,
   "id": "9aa2a972",
   "metadata": {},
   "outputs": [],
   "source": [
    "# This is what we will actually run with -- non-dimensional parameters \n",
    "J_truth_nd = J_truth/xi_J"
   ]
  },
  {
   "cell_type": "code",
   "execution_count": 13,
   "id": "83fb0597",
   "metadata": {
    "scrolled": true
   },
   "outputs": [
    {
     "data": {
      "text/plain": [
       "array([[-4.56825888, -1.46504503, -0.29046898,  6.49954598,  1.39090009,\n",
       "         0.41372275]])"
      ]
     },
     "execution_count": 13,
     "metadata": {},
     "output_type": "execute_result"
    }
   ],
   "source": [
    "J_truth_nd"
   ]
  },
  {
   "cell_type": "code",
   "execution_count": 14,
   "id": "2f162929",
   "metadata": {},
   "outputs": [
    {
     "name": "stdout",
     "output_type": "stream",
     "text": [
      "Running with control noise model on!\n"
     ]
    }
   ],
   "source": [
    "# Set up experiment runner\n",
    "\n",
    "# Experiment parameters\n",
    "N_0 = 5*A_cr.N_actions\n",
    "N_batch = 2*A_cr.N_actions\n",
    "max_iter = 5\n",
    "\n",
    "# estimator relevant parameters\n",
    "n_particles = 5000\n",
    "\n",
    "learner_expt = ExperimentRunner(J_truth_nd, query_space, xi_J, xi_t, FLAG_control_noise=True,\n",
    "                                N_0=N_0, N_batch=N_batch, max_iter=max_iter, n_particles=n_particles)"
   ]
  },
  {
   "cell_type": "code",
   "execution_count": 15,
   "id": "992c856d",
   "metadata": {},
   "outputs": [
    {
     "name": "stderr",
     "output_type": "stream",
     "text": [
      "/Users/arkopal/Dropbox (Personal)/Research/Focus/HAL_FI/Code/qinfer-hl/bayesianhl/bayesian_learner.py:146: FutureWarning: Passing (type, 1) or '1type' as a synonym of type is deprecated; in a future version of numpy, it will be understood as (type, (1,)) / '(1,)type'.\n",
      "  experiment_temp = np.array([(m, u, t, n_shots)], dtype=self.sys_model.expparams_dtype)\n",
      "/Users/arkopal/miniconda3/envs/active-qinfer-hl-env/lib/python3.6/site-packages/qinfer/resamplers.py:349: ResamplerWarning: Liu-West resampling failed to find valid models for 5000 particles within 1000 iterations.\n",
      "  ).format(idxs_to_resample.size, self._maxiter), ResamplerWarning)\n"
     ]
    },
    {
     "name": "stdout",
     "output_type": "stream",
     "text": [
      "Passive Learning -- Uniform query distribution\n"
     ]
    }
   ],
   "source": [
    "i_run = 8\n",
    "np.random.seed(10 * (i_run + 2))\n",
    "\n",
    "results_PL = learner_expt.PL_runner(log_file='PL_sim_cr_test.txt')"
   ]
  },
  {
   "cell_type": "code",
   "execution_count": 16,
   "id": "3864ad4b",
   "metadata": {},
   "outputs": [
    {
     "data": {
      "text/plain": [
       "dict_keys(['loss', 'mse', 'J_hat', 'J_truth_nd', 'xi_J', 'N_p', 'q', 'n_shots', 'data', 'samples', 'A_cr'])"
      ]
     },
     "execution_count": 16,
     "metadata": {},
     "output_type": "execute_result"
    }
   ],
   "source": [
    "results_PL.keys()"
   ]
  },
  {
   "cell_type": "code",
   "execution_count": 17,
   "id": "c6b24e55",
   "metadata": {},
   "outputs": [],
   "source": [
    "# Loss from results\n",
    "loss = results_PL['loss']"
   ]
  },
  {
   "cell_type": "code",
   "execution_count": 18,
   "id": "9b14c9c1",
   "metadata": {},
   "outputs": [],
   "source": [
    "# Compute loss in another way through SystemModel\n",
    "J_hat = results_PL['J_hat'][-1]\n",
    "xi_J = results_PL['xi_J']\n",
    "X_p = results_PL['data']\n",
    "Y_p = results_PL['samples']"
   ]
  },
  {
   "cell_type": "code",
   "execution_count": 19,
   "id": "1be47332",
   "metadata": {},
   "outputs": [
    {
     "data": {
      "text/plain": [
       "[0.4954789479410335,\n",
       " 0.49235722472971816,\n",
       " 0.49391009581440987,\n",
       " 0.4941448368097895,\n",
       " 0.49805096875681915,\n",
       " 0.4966230785165295]"
      ]
     },
     "execution_count": 19,
     "metadata": {},
     "output_type": "execute_result"
    }
   ],
   "source": [
    "loss"
   ]
  },
  {
   "cell_type": "code",
   "execution_count": 24,
   "id": "52d1ceee",
   "metadata": {},
   "outputs": [],
   "source": [
    "loss_est = bayesianhl.utilities_quantum_device.log_likelihood_loss_system_model(J_hat/xi_J, X_p, Y_p, \n",
    "                                                                                xi_J=xi_J, \n",
    "                                                                                FLAG_control_noise=True)"
   ]
  },
  {
   "cell_type": "code",
   "execution_count": 25,
   "id": "3de87227",
   "metadata": {},
   "outputs": [
    {
     "data": {
      "text/plain": [
       "0.4966230785165313"
      ]
     },
     "execution_count": 25,
     "metadata": {},
     "output_type": "execute_result"
    }
   ],
   "source": [
    "loss_est"
   ]
  },
  {
   "cell_type": "code",
   "execution_count": 26,
   "id": "a75cd946",
   "metadata": {},
   "outputs": [],
   "source": [
    "loss_est2 = bayesianhl.utilities_quantum_device.log_likelihood_loss(J_hat/xi_J, X_p, Y_p, \n",
    "                                                                    xi_J=xi_J,\n",
    "                                                                    FLAG_control_noise=True)"
   ]
  },
  {
   "cell_type": "code",
   "execution_count": 27,
   "id": "ca168c4a",
   "metadata": {},
   "outputs": [
    {
     "data": {
      "text/plain": [
       "0.4966230785165295"
      ]
     },
     "execution_count": 27,
     "metadata": {},
     "output_type": "execute_result"
    }
   ],
   "source": [
    "loss_est2"
   ]
  },
  {
   "cell_type": "code",
   "execution_count": 28,
   "id": "3d1e958c",
   "metadata": {},
   "outputs": [],
   "source": [
    "A_cr = results_PL['A_cr']"
   ]
  },
  {
   "cell_type": "markdown",
   "id": "440c569d",
   "metadata": {},
   "source": [
    "# 3. ActiveSMC (SMC + HAL-FI/HAL-FIR) on simulator"
   ]
  },
  {
   "cell_type": "code",
   "execution_count": 12,
   "id": "14f07cdb",
   "metadata": {},
   "outputs": [],
   "source": [
    "reload_package(bayesianhl)"
   ]
  },
  {
   "cell_type": "code",
   "execution_count": 13,
   "id": "f927ec4d",
   "metadata": {},
   "outputs": [],
   "source": [
    "from bayesianhl import design_experiment, quantum_device_models"
   ]
  },
  {
   "cell_type": "code",
   "execution_count": 14,
   "id": "a69c507c",
   "metadata": {},
   "outputs": [],
   "source": [
    "from bayesianhl.utils.utilities_plotting import visualize_query_distrn"
   ]
  },
  {
   "cell_type": "markdown",
   "id": "c8cbbabd",
   "metadata": {},
   "source": [
    "## 3.0 HAL-FI distribution from a job"
   ]
  },
  {
   "cell_type": "code",
   "execution_count": 13,
   "id": "dba5d205",
   "metadata": {},
   "outputs": [],
   "source": [
    "# Setup the ActiveLearner\n",
    "policy_type = 'FI'\n",
    "FLAG_normalization = True\n",
    "FLAG_noise = True\n",
    "growth_time_stamps = None\n",
    "#FLAG_constraints = True\n",
    "\n",
    "#query_constraints_ref = {'N_shots': 512}\n",
    "#FLAG_lower_limits = False\n",
    "\n",
    "HAL_FI_J = design_experiment.ActiveLearner(policy_type=policy_type,\n",
    "                                           FLAG_normalization=FLAG_normalization,\n",
    "                                           FLAG_noise=FLAG_noise,\n",
    "                                           type_param='J')"
   ]
  },
  {
   "cell_type": "code",
   "execution_count": 14,
   "id": "74aeb9cf",
   "metadata": {},
   "outputs": [
    {
     "ename": "NameError",
     "evalue": "name 'results_PL' is not defined",
     "output_type": "error",
     "traceback": [
      "\u001b[0;31m---------------------------------------------------------------------------\u001b[0m",
      "\u001b[0;31mNameError\u001b[0m                                 Traceback (most recent call last)",
      "\u001b[0;32m<ipython-input-14-e3888b175cd4>\u001b[0m in \u001b[0;36m<module>\u001b[0;34m\u001b[0m\n\u001b[1;32m      1\u001b[0m \u001b[0;31m# Create a quantum system model from the PL data collected before\u001b[0m\u001b[0;34m\u001b[0m\u001b[0;34m\u001b[0m\u001b[0;34m\u001b[0m\u001b[0m\n\u001b[0;32m----> 2\u001b[0;31m \u001b[0mJ_hat\u001b[0m \u001b[0;34m=\u001b[0m \u001b[0mresults_PL\u001b[0m\u001b[0;34m[\u001b[0m\u001b[0;34m'J_hat'\u001b[0m\u001b[0;34m]\u001b[0m\u001b[0;34m[\u001b[0m\u001b[0;34m-\u001b[0m\u001b[0;36m1\u001b[0m\u001b[0;34m]\u001b[0m\u001b[0;34m\u001b[0m\u001b[0;34m\u001b[0m\u001b[0m\n\u001b[0m\u001b[1;32m      3\u001b[0m \u001b[0mxi_J\u001b[0m \u001b[0;34m=\u001b[0m \u001b[0mresults_PL\u001b[0m\u001b[0;34m[\u001b[0m\u001b[0;34m'xi_J'\u001b[0m\u001b[0;34m]\u001b[0m\u001b[0;34m\u001b[0m\u001b[0;34m\u001b[0m\u001b[0m\n\u001b[1;32m      4\u001b[0m \u001b[0mA_cr\u001b[0m \u001b[0;34m=\u001b[0m \u001b[0mresults_PL\u001b[0m\u001b[0;34m[\u001b[0m\u001b[0;34m'A_cr'\u001b[0m\u001b[0;34m]\u001b[0m\u001b[0;34m\u001b[0m\u001b[0;34m\u001b[0m\u001b[0m\n\u001b[1;32m      5\u001b[0m \u001b[0;34m\u001b[0m\u001b[0m\n",
      "\u001b[0;31mNameError\u001b[0m: name 'results_PL' is not defined"
     ]
    }
   ],
   "source": [
    "# Create a quantum system model from the PL data collected before \n",
    "J_hat = results_PL['J_hat'][-1]\n",
    "xi_J = results_PL['xi_J']\n",
    "A_cr = results_PL['A_cr']\n",
    "\n",
    "qs_noise = {'readout': [0., 0.],\n",
    "            'control_noise': functools.partial(quantum_device_models.data_driven_teff_noise_model,\n",
    "                                                   FLAG_ibmq_boel=True),\n",
    "            'grad_control_noise': functools.partial(quantum_device_models.grad_data_driven_teff_noise_model,\n",
    "                                                        FLAG_ibmq_boel=True)}\n",
    "\n",
    "qs_model = quantum_device_models.SystemModel(J_hat, xi_J, noise=qs_noise,\n",
    "                                             FLAG_readout_noise=False,\n",
    "                                             FLAG_control_noise=True)\n",
    "\n",
    "# Define the uniform distribution\n",
    "p_U = (1/A_cr.N_actions)*np.ones(A_cr.N_actions)\n",
    "\n",
    "# Run it on the dataset from above\n",
    "q_dist = HAL_FI_J.optimal_query_distribution(A_cr, qs_model, p_ref=p_U, FLAG_verbose_solver=False)"
   ]
  },
  {
   "cell_type": "code",
   "execution_count": 59,
   "id": "b026cbff",
   "metadata": {},
   "outputs": [
    {
     "name": "stderr",
     "output_type": "stream",
     "text": [
      "/Users/arkopal/Dropbox (Personal)/Research/Focus/HAL_FI/Code/qinfer-hl/bayesianhl/utilities_plotting.py:37: UserWarning: FixedFormatter should only be used together with FixedLocator\n",
      "  fig_axis.set_yticklabels(ylabels_plot)\n"
     ]
    },
    {
     "data": {
      "image/png": "[encoded data removed]",
      "text/plain": [
       "<Figure size 1008x432 with 2 Axes>"
      ]
     },
     "metadata": {
      "needs_background": "light"
     },
     "output_type": "display_data"
    }
   ],
   "source": [
    "visualize_query_distrn(A_cr, q_dist, cmax=0.15, FLAG_indicate_query_space=True)"
   ]
  },
  {
   "cell_type": "markdown",
   "id": "80ed67fb",
   "metadata": {},
   "source": [
    "### Let us compare against the true distribution"
   ]
  },
  {
   "cell_type": "code",
   "execution_count": 65,
   "id": "76c5ce3e",
   "metadata": {},
   "outputs": [
    {
     "name": "stdout",
     "output_type": "stream",
     "text": [
      "[-4568258.88132824 -1465045.02848701  -290468.97835928  6499545.9801579\n",
      "  1390900.08768167   413722.74870734]\n"
     ]
    }
   ],
   "source": [
    "# Create a quantum system model from the PL data collected before \n",
    "xi_J = results_PL['xi_J']\n",
    "J_truth = xi_J*results_PL['J_truth_nd'][0]\n",
    "A_cr = results_PL['A_cr']\n",
    "\n",
    "print(J_truth)\n",
    "\n",
    "qs_noise = {'readout': [0., 0.],\n",
    "            'control_noise': functools.partial(quantum_device_models.data_driven_teff_noise_model,\n",
    "                                                   FLAG_ibmq_boel=True),\n",
    "            'grad_control_noise': functools.partial(quantum_device_models.grad_data_driven_teff_noise_model,\n",
    "                                                        FLAG_ibmq_boel=True)}\n",
    "\n",
    "qs_model_true = quantum_device_models.SystemModel(J_truth, xi_J, noise=qs_noise,\n",
    "                                                  FLAG_readout_noise=False,\n",
    "                                                  FLAG_control_noise=True)\n",
    "\n",
    "# Define the uniform distribution\n",
    "p_U = (1/A_cr.N_actions)*np.ones(A_cr.N_actions)\n",
    "\n",
    "# Run it on the dataset from above\n",
    "q_dist = HAL_FI_J.optimal_query_distribution(A_cr, qs_model_true, p_ref=p_U, FLAG_verbose_solver=False)"
   ]
  },
  {
   "cell_type": "code",
   "execution_count": 66,
   "id": "5fa77ddf",
   "metadata": {},
   "outputs": [
    {
     "data": {
      "image/png": "[encoded data removed]",
      "text/plain": [
       "<Figure size 1008x432 with 2 Axes>"
      ]
     },
     "metadata": {
      "needs_background": "light"
     },
     "output_type": "display_data"
    }
   ],
   "source": [
    "visualize_query_distrn(A_cr, q_dist, cmax=0.15, FLAG_indicate_query_space=True)"
   ]
  },
  {
   "cell_type": "markdown",
   "id": "4fa0c0fb",
   "metadata": {},
   "source": [
    "### What does the HAL-FIR distribution look like?"
   ]
  },
  {
   "cell_type": "code",
   "execution_count": 72,
   "id": "9bba1196",
   "metadata": {},
   "outputs": [],
   "source": [
    "# Setup the ActiveLearner\n",
    "policy_type = 'FIR'\n",
    "FLAG_normalization = True\n",
    "FLAG_noise = True\n",
    "growth_time_stamps = None\n",
    "# FLAG_constraints = True\n",
    "\n",
    "# query_constraints_ref = {'N_shots': 512}\n",
    "# FLAG_lower_limits = False\n",
    "\n",
    "HAL_FIR_J = design_experiment.ActiveLearner(policy_type=policy_type,\n",
    "                                            FLAG_normalization=FLAG_normalization,\n",
    "                                            FLAG_noise=FLAG_noise,\n",
    "                                            type_param='J')"
   ]
  },
  {
   "cell_type": "markdown",
   "id": "48b02431",
   "metadata": {},
   "source": [
    "Considering estimate"
   ]
  },
  {
   "cell_type": "code",
   "execution_count": 73,
   "id": "feb9be06",
   "metadata": {},
   "outputs": [],
   "source": [
    "# Run it considering the estimate\n",
    "q_dist = HAL_FIR_J.optimal_query_distribution(A_cr, qs_model, p_ref=p_U, FLAG_verbose_solver=False)"
   ]
  },
  {
   "cell_type": "code",
   "execution_count": 74,
   "id": "359cf65c",
   "metadata": {},
   "outputs": [
    {
     "data": {
      "image/png": "[encoded data removed]",
      "text/plain": [
       "<Figure size 1008x432 with 2 Axes>"
      ]
     },
     "metadata": {
      "needs_background": "light"
     },
     "output_type": "display_data"
    }
   ],
   "source": [
    "visualize_query_distrn(A_cr, q_dist, cmax=0.15, FLAG_indicate_query_space=True)"
   ]
  },
  {
   "cell_type": "markdown",
   "id": "f5ffcc3f",
   "metadata": {},
   "source": [
    "Considering truth"
   ]
  },
  {
   "cell_type": "code",
   "execution_count": 77,
   "id": "3bf82f62",
   "metadata": {},
   "outputs": [],
   "source": [
    "# Run it considering the truth\n",
    "q_dist = HAL_FIR_J.optimal_query_distribution(A_cr, qs_model_true, p_ref=p_U, FLAG_verbose_solver=False)"
   ]
  },
  {
   "cell_type": "code",
   "execution_count": 78,
   "id": "462828e4",
   "metadata": {},
   "outputs": [
    {
     "data": {
      "image/png": "[encoded data removed]",
      "text/plain": [
       "<Figure size 1008x432 with 2 Axes>"
      ]
     },
     "metadata": {
      "needs_background": "light"
     },
     "output_type": "display_data"
    }
   ],
   "source": [
    "visualize_query_distrn(A_cr, q_dist, cmax=0.15, FLAG_indicate_query_space=True)"
   ]
  },
  {
   "cell_type": "markdown",
   "id": "aa93e242",
   "metadata": {},
   "source": [
    "## 3.1 HAL-FI job"
   ]
  },
  {
   "cell_type": "code",
   "execution_count": 15,
   "id": "f2a96dda",
   "metadata": {},
   "outputs": [],
   "source": [
    "reload_package(bayesianhl)"
   ]
  },
  {
   "cell_type": "code",
   "execution_count": 16,
   "id": "87780d26",
   "metadata": {},
   "outputs": [],
   "source": [
    "from bayesianhl.active_bayesian_learner import ActiveExperimentRunner"
   ]
  },
  {
   "cell_type": "code",
   "execution_count": 17,
   "id": "a7780863",
   "metadata": {},
   "outputs": [],
   "source": [
    "# Set true values\n",
    "J_truth = np.array([[-4568258.88132824, -1465045.02848701,  -290468.97835928,\n",
    "                    6499545.9801579,  1390900.08768167,   413722.74870734]])"
   ]
  },
  {
   "cell_type": "code",
   "execution_count": 18,
   "id": "7013fb58",
   "metadata": {},
   "outputs": [],
   "source": [
    "# This is what we will actually run with -- non-dimensional parameters \n",
    "J_truth_nd = J_truth/xi_J"
   ]
  },
  {
   "cell_type": "code",
   "execution_count": 19,
   "id": "cc0d5556",
   "metadata": {},
   "outputs": [],
   "source": [
    "# Define the active learner\n",
    "policy_type = 'FI'\n",
    "FLAG_normalization = True\n",
    "FLAG_noise = True\n",
    "growth_time_stamps = None\n",
    "FLAG_constraints = True\n",
    "\n",
    "query_constraints_ref = {'N_shots': 512}\n",
    "FLAG_lower_limits = False\n",
    "\n",
    "HAL_FI_J = design_experiment.ActiveLearner(policy_type=policy_type,\n",
    "                                           FLAG_normalization=FLAG_normalization,\n",
    "                                           FLAG_constraints=FLAG_constraints,\n",
    "                                           query_constraints=query_constraints_ref,\n",
    "                                           FLAG_noise=FLAG_noise,\n",
    "                                           type_param='J')"
   ]
  },
  {
   "cell_type": "code",
   "execution_count": 21,
   "id": "5f70c172",
   "metadata": {},
   "outputs": [
    {
     "name": "stdout",
     "output_type": "stream",
     "text": [
      "Running with control noise model on!\n"
     ]
    }
   ],
   "source": [
    "# Set up experiment runner\n",
    "\n",
    "# Experiment parameters\n",
    "N_0 = 5*A_cr.N_actions\n",
    "N_batch = 2*A_cr.N_actions\n",
    "max_iter = 5\n",
    "\n",
    "# estimator relevant parameters\n",
    "n_particles = 5000\n",
    "\n",
    "FLAG_query_constraints = True\n",
    "query_constraints_info = {'query_constraints_ref': None, 'query_optimization_type': 'batch'}\n",
    "\n",
    "active_learner_expt = ActiveExperimentRunner(J_truth_nd, query_space, xi_J, xi_t, HAL_FI_J,\n",
    "                                             FLAG_query_constraints=FLAG_query_constraints, \n",
    "                                             query_constraints_info=query_constraints_info,\n",
    "                                             FLAG_control_noise=True,\n",
    "                                             N_0=N_0, N_batch=N_batch, max_iter=max_iter, \n",
    "                                             n_particles=n_particles)"
   ]
  },
  {
   "cell_type": "code",
   "execution_count": 22,
   "id": "7fde9841",
   "metadata": {},
   "outputs": [
    {
     "name": "stderr",
     "output_type": "stream",
     "text": [
      "/home/gridsan/arkopal/Research/QinferHL/qinfer-hl/bayesianhl/active_bayesian_learner.py:211: FutureWarning: Passing (type, 1) or '1type' as a synonym of type is deprecated; in a future version of numpy, it will be understood as (type, (1,)) / '(1,)type'.\n",
      "  experiment_temp = np.array([(m, u, t, n_shots)], dtype=self.sys_model.expparams_dtype)\n",
      "/home/gridsan/arkopal/miniconda3/envs/active-qinfer-hl-env/lib/python3.6/site-packages/qinfer/resamplers.py:349: ResamplerWarning: Liu-West resampling failed to find valid models for 5000 particles within 1000 iterations.\n",
      "  ).format(idxs_to_resample.size, self._maxiter), ResamplerWarning)\n"
     ]
    },
    {
     "name": "stdout",
     "output_type": "stream",
     "text": [
      "Active Learning -- HAL-FI/HAL-FIR query distribution\n",
      "Solving with query constraints\n",
      "Upper limits being set\n",
      "Solving with query constraints\n",
      "Upper limits being set\n",
      "Solving with query constraints\n",
      "Upper limits being set\n",
      "Solving with query constraints\n",
      "Upper limits being set\n",
      "Solving with query constraints\n",
      "Upper limits being set\n"
     ]
    }
   ],
   "source": [
    "i_run = 8\n",
    "np.random.seed(10 * (i_run + 2))\n",
    "\n",
    "results_AL = active_learner_expt.AL_runner(log_file='AL_sim_cr_test.txt')"
   ]
  },
  {
   "cell_type": "code",
   "execution_count": 23,
   "id": "e25f2ab6",
   "metadata": {},
   "outputs": [
    {
     "data": {
      "text/plain": [
       "[<matplotlib.lines.Line2D at 0x7f6172dcff28>]"
      ]
     },
     "execution_count": 23,
     "metadata": {},
     "output_type": "execute_result"
    },
    {
     "data": {
      "image/png": "[encoded data removed]",
      "text/plain": [
       "<Figure size 432x288 with 1 Axes>"
      ]
     },
     "metadata": {
      "needs_background": "light"
     },
     "output_type": "display_data"
    }
   ],
   "source": [
    "plt.plot(results_AL['N_p'], np.sqrt(results_AL['mse']), '--s', label='SMC + AL')"
   ]
  },
  {
   "cell_type": "code",
   "execution_count": 169,
   "id": "5cbc1253",
   "metadata": {},
   "outputs": [
    {
     "data": {
      "text/plain": [
       "<matplotlib.legend.Legend at 0x7fc1882f1748>"
      ]
     },
     "execution_count": 169,
     "metadata": {},
     "output_type": "execute_result"
    },
    {
     "data": {
      "image/png": "[encoded data removed]",
      "text/plain": [
       "<Figure size 432x288 with 1 Axes>"
      ]
     },
     "metadata": {
      "needs_background": "light"
     },
     "output_type": "display_data"
    }
   ],
   "source": [
    "# Compare the above result against the earlier PL result\n",
    "plt.plot(results_PL['N_p'], np.sqrt(results_PL['mse']), '-o', label='SMC + PL')\n",
    "plt.plot(results_AL['N_p'], np.sqrt(results_AL['mse']), '--s', label='SMC + AL')\n",
    "plt.xlabel('Number of queries')\n",
    "plt.ylabel('RMSE')\n",
    "plt.legend()"
   ]
  },
  {
   "cell_type": "code",
   "execution_count": 170,
   "id": "5ea7693d",
   "metadata": {},
   "outputs": [
    {
     "name": "stderr",
     "output_type": "stream",
     "text": [
      "/Users/arkopal/Dropbox (Personal)/Research/Focus/HAL_FI/Code/qinfer-hl/bayesianhl/utilities_plotting.py:37: UserWarning: FixedFormatter should only be used together with FixedLocator\n",
      "  fig_axis.set_yticklabels(ylabels_plot)\n"
     ]
    },
    {
     "data": {
      "image/png": "[encoded data removed]",
      "text/plain": [
       "<Figure size 1008x432 with 2 Axes>"
      ]
     },
     "metadata": {
      "needs_background": "light"
     },
     "output_type": "display_data"
    }
   ],
   "source": [
    "q_dist = results_AL['q'][-1]\n",
    "A_cr = results_AL['A_cr']\n",
    "\n",
    "visualize_query_distrn(A_cr, q_dist, cmax=0.15, FLAG_indicate_query_space=True)"
   ]
  },
  {
   "cell_type": "markdown",
   "id": "89c747f5",
   "metadata": {},
   "source": [
    "Checking if ActionSpace methods are working correctly!"
   ]
  },
  {
   "cell_type": "code",
   "execution_count": 171,
   "id": "b10735fc",
   "metadata": {},
   "outputs": [
    {
     "data": {
      "text/plain": [
       "array([  0,   1,   2,   3,   4,   5,   6,   7,   8,   9,  10,  11,  12,\n",
       "        13,  14,  15,  16,  17,  18,  19,  20,  21,  22,  23,  24,  25,\n",
       "        26,  27,  28,  29,  30,  31,  32,  33,  34,  35,  36,  37,  38,\n",
       "        39,  40,  41,  42,  43,  44,  45,  46,  47,  48,  49,  50,  51,\n",
       "        52,  53,  54,  55,  56,  57,  58,  59,  60,  61,  62,  63,  64,\n",
       "        65,  66,  67,  68,  69,  70,  71,  72,  73,  74,  75,  76,  77,\n",
       "        78,  79,  80,  81,  82,  83,  84,  85,  86,  87,  88,  89,  90,\n",
       "        91,  92,  93,  94,  95,  96,  97,  98,  99, 100, 101, 102, 103,\n",
       "       104, 105, 106, 107, 108, 109, 110, 111, 112, 113, 114, 115, 116,\n",
       "       117, 118, 119, 120, 121, 122, 123, 124, 125, 126, 127, 128, 129,\n",
       "       130, 131, 132, 133, 134, 135, 136, 137, 138, 139, 140, 141, 142,\n",
       "       143, 144, 145, 146, 147, 148, 149, 150, 151, 152, 153, 154, 155,\n",
       "       156, 157, 158, 159, 160, 161, 162, 163, 164, 165, 166, 167, 168,\n",
       "       169, 170, 171, 172, 173, 174, 175, 176, 177, 178, 179, 180, 181,\n",
       "       182, 183, 184, 185, 186, 187, 188, 189, 190, 191, 192, 193, 194,\n",
       "       195, 196, 197, 198, 199, 200, 201, 202, 203, 204, 205, 206, 207,\n",
       "       208, 209, 210, 211, 212, 213, 214, 215, 216, 217, 218, 219, 220,\n",
       "       221, 222, 223, 224, 225, 226, 227, 228, 229, 230, 231, 232, 233,\n",
       "       234, 235, 236, 237, 238, 239, 240, 241, 242, 243, 244, 245, 246,\n",
       "       247, 248, 249, 250, 251, 252, 253, 254, 255, 256, 257, 258, 259,\n",
       "       260, 261, 262, 263, 264, 265, 266, 267, 268, 269, 270, 271, 272,\n",
       "       273, 274, 275, 276, 277, 278, 279, 280, 281, 282, 283, 284, 285,\n",
       "       286, 287, 288, 289, 290, 291, 292, 293, 294, 295, 296, 297, 298,\n",
       "       299, 300, 301, 302, 303, 304, 305, 306, 307, 308, 309, 310, 311,\n",
       "       312, 313, 314, 315, 316, 317, 318, 319, 320, 321, 322, 323, 324,\n",
       "       325, 326, 327, 328, 329, 330, 331, 332, 333, 334, 335, 336, 337,\n",
       "       338, 339, 340, 341, 342, 343, 344, 345, 346, 347, 348, 349, 350,\n",
       "       351, 352, 353, 354, 355, 356, 357, 358, 359, 360, 361, 362, 363,\n",
       "       364, 365, 366, 367, 368, 369, 370, 371, 372, 373, 374, 375, 376,\n",
       "       377, 378, 379, 380, 381, 382, 383, 384, 385, 386, 387, 388, 389,\n",
       "       390, 391, 392, 393, 394, 395, 396, 397, 398, 399, 400, 401, 402,\n",
       "       403, 404, 405, 406, 407, 408, 409, 410, 411, 412, 413, 414, 415,\n",
       "       416, 417, 418, 419, 420, 421, 422, 423, 424, 425, 426, 427, 428,\n",
       "       429, 430, 431, 432, 433, 434, 435, 436, 437, 438, 439, 440, 441,\n",
       "       442, 443, 444, 445, 446, 447, 448, 449, 450, 451, 452, 453, 454,\n",
       "       455, 456, 457, 458, 459, 460, 461, 462, 463, 464, 465, 466, 467,\n",
       "       468, 469, 470, 471, 472, 473, 474, 475, 476, 477, 478, 479, 480,\n",
       "       481, 482, 483, 484, 485])"
      ]
     },
     "execution_count": 171,
     "metadata": {},
     "output_type": "execute_result"
    }
   ],
   "source": [
    "A_cr.nonempty_actions()"
   ]
  },
  {
   "cell_type": "code",
   "execution_count": 172,
   "id": "35f73c77",
   "metadata": {},
   "outputs": [
    {
     "data": {
      "text/plain": [
       "[(0, 0, 1.0),\n",
       " (0, 1, 1.0),\n",
       " (1, 0, 1.0),\n",
       " (1, 1, 1.0),\n",
       " (2, 0, 1.0),\n",
       " (2, 1, 1.0),\n",
       " (0, 0, 1.0625),\n",
       " (0, 1, 1.0625),\n",
       " (1, 0, 1.0625),\n",
       " (1, 1, 1.0625),\n",
       " (2, 0, 1.0625),\n",
       " (2, 1, 1.0625),\n",
       " (0, 0, 1.125),\n",
       " (0, 1, 1.125),\n",
       " (1, 0, 1.125),\n",
       " (1, 1, 1.125),\n",
       " (2, 0, 1.125),\n",
       " (2, 1, 1.125),\n",
       " (0, 0, 1.1875),\n",
       " (0, 1, 1.1875),\n",
       " (1, 0, 1.1875),\n",
       " (1, 1, 1.1875),\n",
       " (2, 0, 1.1875),\n",
       " (2, 1, 1.1875),\n",
       " (0, 0, 1.25),\n",
       " (0, 1, 1.25),\n",
       " (1, 0, 1.25),\n",
       " (1, 1, 1.25),\n",
       " (2, 0, 1.25),\n",
       " (2, 1, 1.25),\n",
       " (0, 0, 1.3125),\n",
       " (0, 1, 1.3125),\n",
       " (1, 0, 1.3125),\n",
       " (1, 1, 1.3125),\n",
       " (2, 0, 1.3125),\n",
       " (2, 1, 1.3125),\n",
       " (0, 0, 1.3750000000000002),\n",
       " (0, 1, 1.3750000000000002),\n",
       " (1, 0, 1.3750000000000002),\n",
       " (1, 1, 1.3750000000000002),\n",
       " (2, 0, 1.3750000000000002),\n",
       " (2, 1, 1.3750000000000002),\n",
       " (0, 0, 1.4375),\n",
       " (0, 1, 1.4375),\n",
       " (1, 0, 1.4375),\n",
       " (1, 1, 1.4375),\n",
       " (2, 0, 1.4375),\n",
       " (2, 1, 1.4375),\n",
       " (0, 0, 1.5),\n",
       " (0, 1, 1.5),\n",
       " (1, 0, 1.5),\n",
       " (1, 1, 1.5),\n",
       " (2, 0, 1.5),\n",
       " (2, 1, 1.5),\n",
       " (0, 0, 1.5625),\n",
       " (0, 1, 1.5625),\n",
       " (1, 0, 1.5625),\n",
       " (1, 1, 1.5625),\n",
       " (2, 0, 1.5625),\n",
       " (2, 1, 1.5625),\n",
       " (0, 0, 1.6249999999999998),\n",
       " (0, 1, 1.6249999999999998),\n",
       " (1, 0, 1.6249999999999998),\n",
       " (1, 1, 1.6249999999999998),\n",
       " (2, 0, 1.6249999999999998),\n",
       " (2, 1, 1.6249999999999998),\n",
       " (0, 0, 1.6875),\n",
       " (0, 1, 1.6875),\n",
       " (1, 0, 1.6875),\n",
       " (1, 1, 1.6875),\n",
       " (2, 0, 1.6875),\n",
       " (2, 1, 1.6875),\n",
       " (0, 0, 1.75),\n",
       " (0, 1, 1.75),\n",
       " (1, 0, 1.75),\n",
       " (1, 1, 1.75),\n",
       " (2, 0, 1.75),\n",
       " (2, 1, 1.75),\n",
       " (0, 0, 1.8125),\n",
       " (0, 1, 1.8125),\n",
       " (1, 0, 1.8125),\n",
       " (1, 1, 1.8125),\n",
       " (2, 0, 1.8125),\n",
       " (2, 1, 1.8125),\n",
       " (0, 0, 1.8750000000000002),\n",
       " (0, 1, 1.8750000000000002),\n",
       " (1, 0, 1.8750000000000002),\n",
       " (1, 1, 1.8750000000000002),\n",
       " (2, 0, 1.8750000000000002),\n",
       " (2, 1, 1.8750000000000002),\n",
       " (0, 0, 1.9375),\n",
       " (0, 1, 1.9375),\n",
       " (1, 0, 1.9375),\n",
       " (1, 1, 1.9375),\n",
       " (2, 0, 1.9375),\n",
       " (2, 1, 1.9375),\n",
       " (0, 0, 2.0),\n",
       " (0, 1, 2.0),\n",
       " (1, 0, 2.0),\n",
       " (1, 1, 2.0),\n",
       " (2, 0, 2.0),\n",
       " (2, 1, 2.0),\n",
       " (0, 0, 2.0625),\n",
       " (0, 1, 2.0625),\n",
       " (1, 0, 2.0625),\n",
       " (1, 1, 2.0625),\n",
       " (2, 0, 2.0625),\n",
       " (2, 1, 2.0625),\n",
       " (0, 0, 2.125),\n",
       " (0, 1, 2.125),\n",
       " (1, 0, 2.125),\n",
       " (1, 1, 2.125),\n",
       " (2, 0, 2.125),\n",
       " (2, 1, 2.125),\n",
       " (0, 0, 2.1875),\n",
       " (0, 1, 2.1875),\n",
       " (1, 0, 2.1875),\n",
       " (1, 1, 2.1875),\n",
       " (2, 0, 2.1875),\n",
       " (2, 1, 2.1875),\n",
       " (0, 0, 2.25),\n",
       " (0, 1, 2.25),\n",
       " (1, 0, 2.25),\n",
       " (1, 1, 2.25),\n",
       " (2, 0, 2.25),\n",
       " (2, 1, 2.25),\n",
       " (0, 0, 2.3125),\n",
       " (0, 1, 2.3125),\n",
       " (1, 0, 2.3125),\n",
       " (1, 1, 2.3125),\n",
       " (2, 0, 2.3125),\n",
       " (2, 1, 2.3125),\n",
       " (0, 0, 2.375),\n",
       " (0, 1, 2.375),\n",
       " (1, 0, 2.375),\n",
       " (1, 1, 2.375),\n",
       " (2, 0, 2.375),\n",
       " (2, 1, 2.375),\n",
       " (0, 0, 2.4375),\n",
       " (0, 1, 2.4375),\n",
       " (1, 0, 2.4375),\n",
       " (1, 1, 2.4375),\n",
       " (2, 0, 2.4375),\n",
       " (2, 1, 2.4375),\n",
       " (0, 0, 2.5),\n",
       " (0, 1, 2.5),\n",
       " (1, 0, 2.5),\n",
       " (1, 1, 2.5),\n",
       " (2, 0, 2.5),\n",
       " (2, 1, 2.5),\n",
       " (0, 0, 2.5625),\n",
       " (0, 1, 2.5625),\n",
       " (1, 0, 2.5625),\n",
       " (1, 1, 2.5625),\n",
       " (2, 0, 2.5625),\n",
       " (2, 1, 2.5625),\n",
       " (0, 0, 2.625),\n",
       " (0, 1, 2.625),\n",
       " (1, 0, 2.625),\n",
       " (1, 1, 2.625),\n",
       " (2, 0, 2.625),\n",
       " (2, 1, 2.625),\n",
       " (0, 0, 2.6875),\n",
       " (0, 1, 2.6875),\n",
       " (1, 0, 2.6875),\n",
       " (1, 1, 2.6875),\n",
       " (2, 0, 2.6875),\n",
       " (2, 1, 2.6875),\n",
       " (0, 0, 2.7500000000000004),\n",
       " (0, 1, 2.7500000000000004),\n",
       " (1, 0, 2.7500000000000004),\n",
       " (1, 1, 2.7500000000000004),\n",
       " (2, 0, 2.7500000000000004),\n",
       " (2, 1, 2.7500000000000004),\n",
       " (0, 0, 2.8124999999999996),\n",
       " (0, 1, 2.8124999999999996),\n",
       " (1, 0, 2.8124999999999996),\n",
       " (1, 1, 2.8124999999999996),\n",
       " (2, 0, 2.8124999999999996),\n",
       " (2, 1, 2.8124999999999996),\n",
       " (0, 0, 2.875),\n",
       " (0, 1, 2.875),\n",
       " (1, 0, 2.875),\n",
       " (1, 1, 2.875),\n",
       " (2, 0, 2.875),\n",
       " (2, 1, 2.875),\n",
       " (0, 0, 2.9375),\n",
       " (0, 1, 2.9375),\n",
       " (1, 0, 2.9375),\n",
       " (1, 1, 2.9375),\n",
       " (2, 0, 2.9375),\n",
       " (2, 1, 2.9375),\n",
       " (0, 0, 3.0),\n",
       " (0, 1, 3.0),\n",
       " (1, 0, 3.0),\n",
       " (1, 1, 3.0),\n",
       " (2, 0, 3.0),\n",
       " (2, 1, 3.0),\n",
       " (0, 0, 3.0625),\n",
       " (0, 1, 3.0625),\n",
       " (1, 0, 3.0625),\n",
       " (1, 1, 3.0625),\n",
       " (2, 0, 3.0625),\n",
       " (2, 1, 3.0625),\n",
       " (0, 0, 3.125),\n",
       " (0, 1, 3.125),\n",
       " (1, 0, 3.125),\n",
       " (1, 1, 3.125),\n",
       " (2, 0, 3.125),\n",
       " (2, 1, 3.125),\n",
       " (0, 0, 3.1875000000000004),\n",
       " (0, 1, 3.1875000000000004),\n",
       " (1, 0, 3.1875000000000004),\n",
       " (1, 1, 3.1875000000000004),\n",
       " (2, 0, 3.1875000000000004),\n",
       " (2, 1, 3.1875000000000004),\n",
       " (0, 0, 3.2499999999999996),\n",
       " (0, 1, 3.2499999999999996),\n",
       " (1, 0, 3.2499999999999996),\n",
       " (1, 1, 3.2499999999999996),\n",
       " (2, 0, 3.2499999999999996),\n",
       " (2, 1, 3.2499999999999996),\n",
       " (0, 0, 3.3125),\n",
       " (0, 1, 3.3125),\n",
       " (1, 0, 3.3125),\n",
       " (1, 1, 3.3125),\n",
       " (2, 0, 3.3125),\n",
       " (2, 1, 3.3125),\n",
       " (0, 0, 3.375),\n",
       " (0, 1, 3.375),\n",
       " (1, 0, 3.375),\n",
       " (1, 1, 3.375),\n",
       " (2, 0, 3.375),\n",
       " (2, 1, 3.375),\n",
       " (0, 0, 3.4375),\n",
       " (0, 1, 3.4375),\n",
       " (1, 0, 3.4375),\n",
       " (1, 1, 3.4375),\n",
       " (2, 0, 3.4375),\n",
       " (2, 1, 3.4375),\n",
       " (0, 0, 3.5),\n",
       " (0, 1, 3.5),\n",
       " (1, 0, 3.5),\n",
       " (1, 1, 3.5),\n",
       " (2, 0, 3.5),\n",
       " (2, 1, 3.5),\n",
       " (0, 0, 3.5625),\n",
       " (0, 1, 3.5625),\n",
       " (1, 0, 3.5625),\n",
       " (1, 1, 3.5625),\n",
       " (2, 0, 3.5625),\n",
       " (2, 1, 3.5625),\n",
       " (0, 0, 3.625),\n",
       " (0, 1, 3.625),\n",
       " (1, 0, 3.625),\n",
       " (1, 1, 3.625),\n",
       " (2, 0, 3.625),\n",
       " (2, 1, 3.625),\n",
       " (0, 0, 3.6875),\n",
       " (0, 1, 3.6875),\n",
       " (1, 0, 3.6875),\n",
       " (1, 1, 3.6875),\n",
       " (2, 0, 3.6875),\n",
       " (2, 1, 3.6875),\n",
       " (0, 0, 3.7500000000000004),\n",
       " (0, 1, 3.7500000000000004),\n",
       " (1, 0, 3.7500000000000004),\n",
       " (1, 1, 3.7500000000000004),\n",
       " (2, 0, 3.7500000000000004),\n",
       " (2, 1, 3.7500000000000004),\n",
       " (0, 0, 3.8125),\n",
       " (0, 1, 3.8125),\n",
       " (1, 0, 3.8125),\n",
       " (1, 1, 3.8125),\n",
       " (2, 0, 3.8125),\n",
       " (2, 1, 3.8125),\n",
       " (0, 0, 3.875),\n",
       " (0, 1, 3.875),\n",
       " (1, 0, 3.875),\n",
       " (1, 1, 3.875),\n",
       " (2, 0, 3.875),\n",
       " (2, 1, 3.875),\n",
       " (0, 0, 3.9375),\n",
       " (0, 1, 3.9375),\n",
       " (1, 0, 3.9375),\n",
       " (1, 1, 3.9375),\n",
       " (2, 0, 3.9375),\n",
       " (2, 1, 3.9375),\n",
       " (0, 0, 4.0),\n",
       " (0, 1, 4.0),\n",
       " (1, 0, 4.0),\n",
       " (1, 1, 4.0),\n",
       " (2, 0, 4.0),\n",
       " (2, 1, 4.0),\n",
       " (0, 0, 4.0625),\n",
       " (0, 1, 4.0625),\n",
       " (1, 0, 4.0625),\n",
       " (1, 1, 4.0625),\n",
       " (2, 0, 4.0625),\n",
       " (2, 1, 4.0625),\n",
       " (0, 0, 4.125),\n",
       " (0, 1, 4.125),\n",
       " (1, 0, 4.125),\n",
       " (1, 1, 4.125),\n",
       " (2, 0, 4.125),\n",
       " (2, 1, 4.125),\n",
       " (0, 0, 4.1875),\n",
       " (0, 1, 4.1875),\n",
       " (1, 0, 4.1875),\n",
       " (1, 1, 4.1875),\n",
       " (2, 0, 4.1875),\n",
       " (2, 1, 4.1875),\n",
       " (0, 0, 4.25),\n",
       " (0, 1, 4.25),\n",
       " (1, 0, 4.25),\n",
       " (1, 1, 4.25),\n",
       " (2, 0, 4.25),\n",
       " (2, 1, 4.25),\n",
       " (0, 0, 4.3125),\n",
       " (0, 1, 4.3125),\n",
       " (1, 0, 4.3125),\n",
       " (1, 1, 4.3125),\n",
       " (2, 0, 4.3125),\n",
       " (2, 1, 4.3125),\n",
       " (0, 0, 4.375),\n",
       " (0, 1, 4.375),\n",
       " (1, 0, 4.375),\n",
       " (1, 1, 4.375),\n",
       " (2, 0, 4.375),\n",
       " (2, 1, 4.375),\n",
       " (0, 0, 4.4375),\n",
       " (0, 1, 4.4375),\n",
       " (1, 0, 4.4375),\n",
       " (1, 1, 4.4375),\n",
       " (2, 0, 4.4375),\n",
       " (2, 1, 4.4375),\n",
       " (0, 0, 4.5),\n",
       " (0, 1, 4.5),\n",
       " (1, 0, 4.5),\n",
       " (1, 1, 4.5),\n",
       " (2, 0, 4.5),\n",
       " (2, 1, 4.5),\n",
       " (0, 0, 4.5625),\n",
       " (0, 1, 4.5625),\n",
       " (1, 0, 4.5625),\n",
       " (1, 1, 4.5625),\n",
       " (2, 0, 4.5625),\n",
       " (2, 1, 4.5625),\n",
       " (0, 0, 4.625),\n",
       " (0, 1, 4.625),\n",
       " (1, 0, 4.625),\n",
       " (1, 1, 4.625),\n",
       " (2, 0, 4.625),\n",
       " (2, 1, 4.625),\n",
       " (0, 0, 4.6875),\n",
       " (0, 1, 4.6875),\n",
       " (1, 0, 4.6875),\n",
       " (1, 1, 4.6875),\n",
       " (2, 0, 4.6875),\n",
       " (2, 1, 4.6875),\n",
       " (0, 0, 4.75),\n",
       " (0, 1, 4.75),\n",
       " (1, 0, 4.75),\n",
       " (1, 1, 4.75),\n",
       " (2, 0, 4.75),\n",
       " (2, 1, 4.75),\n",
       " (0, 0, 4.812500000000001),\n",
       " (0, 1, 4.812500000000001),\n",
       " (1, 0, 4.812500000000001),\n",
       " (1, 1, 4.812500000000001),\n",
       " (2, 0, 4.812500000000001),\n",
       " (2, 1, 4.812500000000001),\n",
       " (0, 0, 4.875),\n",
       " (0, 1, 4.875),\n",
       " (1, 0, 4.875),\n",
       " (1, 1, 4.875),\n",
       " (2, 0, 4.875),\n",
       " (2, 1, 4.875),\n",
       " (0, 0, 4.937499999999999),\n",
       " (0, 1, 4.937499999999999),\n",
       " (1, 0, 4.937499999999999),\n",
       " (1, 1, 4.937499999999999),\n",
       " (2, 0, 4.937499999999999),\n",
       " (2, 1, 4.937499999999999),\n",
       " (0, 0, 5.0),\n",
       " (0, 1, 5.0),\n",
       " (1, 0, 5.0),\n",
       " (1, 1, 5.0),\n",
       " (2, 0, 5.0),\n",
       " (2, 1, 5.0),\n",
       " (0, 0, 5.062500000000001),\n",
       " (0, 1, 5.062500000000001),\n",
       " (1, 0, 5.062500000000001),\n",
       " (1, 1, 5.062500000000001),\n",
       " (2, 0, 5.062500000000001),\n",
       " (2, 1, 5.062500000000001),\n",
       " (0, 0, 5.125),\n",
       " (0, 1, 5.125),\n",
       " (1, 0, 5.125),\n",
       " (1, 1, 5.125),\n",
       " (2, 0, 5.125),\n",
       " (2, 1, 5.125),\n",
       " (0, 0, 5.187499999999999),\n",
       " (0, 1, 5.187499999999999),\n",
       " (1, 0, 5.187499999999999),\n",
       " (1, 1, 5.187499999999999),\n",
       " (2, 0, 5.187499999999999),\n",
       " (2, 1, 5.187499999999999),\n",
       " (0, 0, 5.25),\n",
       " (0, 1, 5.25),\n",
       " (1, 0, 5.25),\n",
       " (1, 1, 5.25),\n",
       " (2, 0, 5.25),\n",
       " (2, 1, 5.25),\n",
       " (0, 0, 5.3125),\n",
       " (0, 1, 5.3125),\n",
       " (1, 0, 5.3125),\n",
       " (1, 1, 5.3125),\n",
       " (2, 0, 5.3125),\n",
       " (2, 1, 5.3125),\n",
       " (0, 0, 5.375),\n",
       " (0, 1, 5.375),\n",
       " (1, 0, 5.375),\n",
       " (1, 1, 5.375),\n",
       " (2, 0, 5.375),\n",
       " (2, 1, 5.375),\n",
       " (0, 0, 5.4375),\n",
       " (0, 1, 5.4375),\n",
       " (1, 0, 5.4375),\n",
       " (1, 1, 5.4375),\n",
       " (2, 0, 5.4375),\n",
       " (2, 1, 5.4375),\n",
       " (0, 0, 5.500000000000001),\n",
       " (0, 1, 5.500000000000001),\n",
       " (1, 0, 5.500000000000001),\n",
       " (1, 1, 5.500000000000001),\n",
       " (2, 0, 5.500000000000001),\n",
       " (2, 1, 5.500000000000001),\n",
       " (0, 0, 5.5625),\n",
       " (0, 1, 5.5625),\n",
       " (1, 0, 5.5625),\n",
       " (1, 1, 5.5625),\n",
       " (2, 0, 5.5625),\n",
       " (2, 1, 5.5625),\n",
       " (0, 0, 5.624999999999999),\n",
       " (0, 1, 5.624999999999999),\n",
       " (1, 0, 5.624999999999999),\n",
       " (1, 1, 5.624999999999999),\n",
       " (2, 0, 5.624999999999999),\n",
       " (2, 1, 5.624999999999999),\n",
       " (0, 0, 5.6875),\n",
       " (0, 1, 5.6875),\n",
       " (1, 0, 5.6875),\n",
       " (1, 1, 5.6875),\n",
       " (2, 0, 5.6875),\n",
       " (2, 1, 5.6875),\n",
       " (0, 0, 5.75),\n",
       " (0, 1, 5.75),\n",
       " (1, 0, 5.75),\n",
       " (1, 1, 5.75),\n",
       " (2, 0, 5.75),\n",
       " (2, 1, 5.75),\n",
       " (0, 0, 5.8125),\n",
       " (0, 1, 5.8125),\n",
       " (1, 0, 5.8125),\n",
       " (1, 1, 5.8125),\n",
       " (2, 0, 5.8125),\n",
       " (2, 1, 5.8125),\n",
       " (0, 0, 5.875),\n",
       " (0, 1, 5.875),\n",
       " (1, 0, 5.875),\n",
       " (1, 1, 5.875),\n",
       " (2, 0, 5.875),\n",
       " (2, 1, 5.875),\n",
       " (0, 0, 5.937499999999999),\n",
       " (0, 1, 5.937499999999999),\n",
       " (1, 0, 5.937499999999999),\n",
       " (1, 1, 5.937499999999999),\n",
       " (2, 0, 5.937499999999999),\n",
       " (2, 1, 5.937499999999999),\n",
       " (0, 0, 6.0),\n",
       " (0, 1, 6.0),\n",
       " (1, 0, 6.0),\n",
       " (1, 1, 6.0),\n",
       " (2, 0, 6.0),\n",
       " (2, 1, 6.0)]"
      ]
     },
     "execution_count": 172,
     "metadata": {},
     "output_type": "execute_result"
    }
   ],
   "source": [
    "A_cr.filtered_actions()"
   ]
  }
 ],
 "metadata": {
  "kernelspec": {
   "display_name": "active-qinfer-hl-env",
   "language": "python",
   "name": "active-qinfer-hl-env"
  },
  "language_info": {
   "codemirror_mode": {
    "name": "ipython",
    "version": 3
   },
   "file_extension": ".py",
   "mimetype": "text/x-python",
   "name": "python",
   "nbconvert_exporter": "python",
   "pygments_lexer": "ipython3",
   "version": "3.6.13"
  },
  "latex_envs": {
   "LaTeX_envs_menu_present": true,
   "autoclose": false,
   "autocomplete": true,
   "bibliofile": "biblio.bib",
   "cite_by": "apalike",
   "current_citInitial": 1,
   "eqLabelWithNumbers": true,
   "eqNumInitial": 1,
   "hotkeys": {
    "equation": "Ctrl-E",
    "itemize": "Ctrl-I"
   },
   "labels_anchors": false,
   "latex_user_defs": false,
   "report_style_numbering": false,
   "user_envs_cfg": false
  },
  "toc": {
   "base_numbering": 1,
   "nav_menu": {},
   "number_sections": true,
   "sideBar": true,
   "skip_h1_title": false,
   "title_cell": "Table of Contents",
   "title_sidebar": "Contents",
   "toc_cell": false,
   "toc_position": {},
   "toc_section_display": true,
   "toc_window_display": false
  }
 },
 "nbformat": 4,
 "nbformat_minor": 5
}
