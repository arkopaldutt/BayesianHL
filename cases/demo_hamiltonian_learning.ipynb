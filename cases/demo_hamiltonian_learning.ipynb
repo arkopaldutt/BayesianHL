{
 "cells": [
  {
   "cell_type": "code",
   "execution_count": 1,
   "id": "cda5c517",
   "metadata": {},
   "outputs": [
    {
     "name": "stderr",
     "output_type": "stream",
     "text": [
      "/Users/arkopal/miniconda3/envs/active-qinfer-hl-env/lib/python3.6/site-packages/IPython/parallel.py:13: ShimWarning: The `IPython.parallel` package has been deprecated since IPython 4.0. You should import from ipyparallel instead.\n",
      "  \"You should import from ipyparallel instead.\", ShimWarning)\n",
      "/Users/arkopal/miniconda3/envs/active-qinfer-hl-env/lib/python3.6/site-packages/qinfer/parallel.py:52: UserWarning: Could not import IPython parallel. Parallelization support will be disabled.\n",
      "  \"Could not import IPython parallel. \"\n"
     ]
    }
   ],
   "source": [
    "# imports\n",
    "from __future__ import division, print_function\n",
    "%matplotlib inline\n",
    "\n",
    "from qinfer import *\n",
    "import os, sys\n",
    "import pathlib\n",
    "from importlib import reload\n",
    "import numpy as np\n",
    "from scipy.linalg import expm\n",
    "import matplotlib.pyplot as plt"
   ]
  },
  {
   "cell_type": "code",
   "execution_count": 2,
   "id": "5d31458b",
   "metadata": {},
   "outputs": [],
   "source": [
    "try:\n",
    "    plt.style.use('ggplot-rq')\n",
    "except IOError:\n",
    "    try:\n",
    "        plt.style.use('ggplot')\n",
    "    except:\n",
    "        raise RuntimeError('Cannot set the style. Likely cause is out of date matplotlib; >= 1.4 required.')"
   ]
  },
  {
   "cell_type": "code",
   "execution_count": 3,
   "id": "eb9f9d55",
   "metadata": {},
   "outputs": [],
   "source": [
    "# For local package imports\n",
    "PROJECT_PATH = str(pathlib.Path().resolve().parent)\n",
    "sys.path.append(PROJECT_PATH)"
   ]
  },
  {
   "cell_type": "code",
   "execution_count": 4,
   "id": "1169d922",
   "metadata": {},
   "outputs": [],
   "source": [
    "import bayesianhl"
   ]
  },
  {
   "cell_type": "markdown",
   "id": "b362a694",
   "metadata": {},
   "source": [
    "# 1. Single Interaction Example"
   ]
  },
  {
   "cell_type": "code",
   "execution_count": 5,
   "id": "ccbd27fe",
   "metadata": {},
   "outputs": [],
   "source": [
    "from bayesianhl.qinfer_system_models import SingleInteractionModel"
   ]
  },
  {
   "cell_type": "markdown",
   "id": "717a8731",
   "metadata": {},
   "source": [
    "## 1.1 Learning sequentially from measurements"
   ]
  },
  {
   "cell_type": "code",
   "execution_count": 6,
   "id": "231daa18",
   "metadata": {},
   "outputs": [],
   "source": [
    "sys_model = SingleInteractionModel()\n",
    "prior = UniformDistribution([0, 1])\n",
    "updater = SMCUpdater(sys_model, 2000, prior)"
   ]
  },
  {
   "cell_type": "code",
   "execution_count": 7,
   "id": "29ad3b9d",
   "metadata": {},
   "outputs": [
    {
     "data": {
      "text/plain": [
       "array([1.])"
      ]
     },
     "execution_count": 7,
     "metadata": {},
     "output_type": "execute_result"
    }
   ],
   "source": [
    "sys_model.Q"
   ]
  },
  {
   "cell_type": "code",
   "execution_count": 8,
   "id": "5135ba17",
   "metadata": {},
   "outputs": [],
   "source": [
    "# True model\n",
    "true_params = np.array([[0.3]])"
   ]
  },
  {
   "cell_type": "code",
   "execution_count": 9,
   "id": "df619d8a",
   "metadata": {},
   "outputs": [],
   "source": [
    "# Parameters of experiment\n",
    "tvec = np.linspace(0, 60, 200)\n",
    "n_shots = 100"
   ]
  },
  {
   "cell_type": "code",
   "execution_count": 10,
   "id": "9d5bbee7",
   "metadata": {},
   "outputs": [
    {
     "name": "stderr",
     "output_type": "stream",
     "text": [
      "/Users/arkopal/miniconda3/envs/active-qinfer-hl-env/lib/python3.6/site-packages/ipykernel_launcher.py:6: FutureWarning: Passing (type, 1) or '1type' as a synonym of type is deprecated; in a future version of numpy, it will be understood as (type, (1,)) / '(1,)type'.\n",
      "  \n"
     ]
    }
   ],
   "source": [
    "# One shot at a time\n",
    "est_hist = []\n",
    "for t in tvec:\n",
    "    for n in range(n_shots):\n",
    "        #experiment = np.array([(t, n_shots)], dtype=sys_model.expparams_dtype)\n",
    "        experiment = np.array([t], dtype=sys_model.expparams_dtype)\n",
    "        datum = sys_model.simulate_experiment(true_params, experiment)\n",
    "        updater.update(datum, experiment)\n",
    "    \n",
    "    est_hist.append(updater.est_mean())"
   ]
  },
  {
   "cell_type": "code",
   "execution_count": 11,
   "id": "139e100d",
   "metadata": {},
   "outputs": [
    {
     "data": {
      "text/plain": [
       "Text(0, 0.5, '$\\\\omega$')"
      ]
     },
     "execution_count": 11,
     "metadata": {},
     "output_type": "execute_result"
    },
    {
     "data": {
      "image/png": "[encoded data removed]",
      "text/plain": [
       "<Figure size 432x288 with 1 Axes>"
      ]
     },
     "metadata": {},
     "output_type": "display_data"
    }
   ],
   "source": [
    "plt.plot(est_hist, label='Est.')\n",
    "plt.hlines(true_params, 0, 20, label='True')\n",
    "plt.legend(ncol=2)\n",
    "plt.xlabel('# of Times Sampled (25 measurements/ea)')\n",
    "plt.ylabel(r'$\\omega$')"
   ]
  },
  {
   "cell_type": "code",
   "execution_count": 12,
   "id": "5cb9440b",
   "metadata": {},
   "outputs": [
    {
     "data": {
      "text/plain": [
       "array([0.29971437])"
      ]
     },
     "execution_count": 12,
     "metadata": {},
     "output_type": "execute_result"
    }
   ],
   "source": [
    "updater.est_mean()"
   ]
  },
  {
   "cell_type": "code",
   "execution_count": 13,
   "id": "98f343a7",
   "metadata": {},
   "outputs": [
    {
     "name": "stdout",
     "output_type": "stream",
     "text": [
      "[(60.,)]\n",
      "1\n"
     ]
    }
   ],
   "source": [
    "# Look at the internals of the SMCUpdater a bit more\n",
    "# Current query and measurement outcome\n",
    "print(experiment)\n",
    "print(datum)\n",
    "\n",
    "# Set results from above query and measurement outcome\n",
    "outcomes = datum\n",
    "expparams = experiment\n",
    "\n",
    "# Taken from the hypothetical_update method in the smc code\n",
    "weights = updater.particle_weights\n",
    "locs = updater.particle_locations\n",
    "\n",
    "# Check if we have a single outcome or an array. If we only have one\n",
    "# outcome, wrap it in a one-index array.\n",
    "if not isinstance(outcomes, np.ndarray):\n",
    "    outcomes = np.array([outcomes])\n",
    "\n",
    "# update the weights sans normalization\n",
    "# Rearrange so that likelihoods have shape (outcomes, experiments, models).\n",
    "# This makes the multiplication with weights (shape (models,)) make sense,\n",
    "# since NumPy broadcasting rules align on the right-most index.\n",
    "L = updater.model.likelihood(outcomes, locs, expparams).transpose([0, 2, 1])\n",
    "hyp_weights = weights * L"
   ]
  },
  {
   "cell_type": "markdown",
   "id": "46682a4b",
   "metadata": {},
   "source": [
    "## 2.2 Multiple shots at a time"
   ]
  },
  {
   "cell_type": "code",
   "execution_count": 15,
   "id": "8df854f9",
   "metadata": {},
   "outputs": [],
   "source": [
    "sys_model = BinomialModel(SingleInteractionModel())\n",
    "prior = UniformDistribution([0, 1])\n",
    "updater = SMCUpdater(sys_model, 2000, prior)"
   ]
  },
  {
   "cell_type": "code",
   "execution_count": 16,
   "id": "6993a7d1",
   "metadata": {},
   "outputs": [],
   "source": [
    "# True model\n",
    "true_params = np.array([[0.3]])"
   ]
  },
  {
   "cell_type": "code",
   "execution_count": 17,
   "id": "b8d4fd5e",
   "metadata": {},
   "outputs": [
    {
     "name": "stderr",
     "output_type": "stream",
     "text": [
      "/Users/arkopal/miniconda3/envs/active-qinfer-hl-env/lib/python3.6/site-packages/ipykernel_launcher.py:4: FutureWarning: Passing (type, 1) or '1type' as a synonym of type is deprecated; in a future version of numpy, it will be understood as (type, (1,)) / '(1,)type'.\n",
      "  after removing the cwd from sys.path.\n"
     ]
    }
   ],
   "source": [
    "t = 15\n",
    "n_shots = 50\n",
    "\n",
    "experiment = np.array([(t, n_shots)], dtype=sys_model.expparams_dtype)\n",
    "outcomes = sys_model.simulate_experiment(true_params, experiment)"
   ]
  },
  {
   "cell_type": "code",
   "execution_count": 18,
   "id": "415ac9c4",
   "metadata": {},
   "outputs": [
    {
     "data": {
      "text/plain": [
       "25"
      ]
     },
     "execution_count": 18,
     "metadata": {},
     "output_type": "execute_result"
    }
   ],
   "source": [
    "outcomes"
   ]
  },
  {
   "cell_type": "code",
   "execution_count": 19,
   "id": "66b8b3c0",
   "metadata": {},
   "outputs": [
    {
     "name": "stdout",
     "output_type": "stream",
     "text": [
      "0\n"
     ]
    }
   ],
   "source": [
    "print(updater.resample_count)"
   ]
  },
  {
   "cell_type": "code",
   "execution_count": 20,
   "id": "985eb30d",
   "metadata": {},
   "outputs": [
    {
     "name": "stderr",
     "output_type": "stream",
     "text": [
      "/Users/arkopal/miniconda3/envs/active-qinfer-hl-env/lib/python3.6/site-packages/ipykernel_launcher.py:5: FutureWarning: Passing (type, 1) or '1type' as a synonym of type is deprecated; in a future version of numpy, it will be understood as (type, (1,)) / '(1,)type'.\n",
      "  \"\"\"\n"
     ]
    }
   ],
   "source": [
    "# Multiple shots at each t\n",
    "est_hist = []\n",
    "resampling_hist = []\n",
    "for t in tvec:\n",
    "    experiment = np.array([(t, n_shots)], dtype=sys_model.expparams_dtype)\n",
    "    outcomes = sys_model.simulate_experiment(true_params, experiment)\n",
    "    updater.update(outcomes, experiment)\n",
    "    \n",
    "    est_hist.append(updater.est_mean())\n",
    "    resampling_hist.append(updater.resample_count)"
   ]
  },
  {
   "cell_type": "code",
   "execution_count": 21,
   "id": "97dc70f9",
   "metadata": {},
   "outputs": [
    {
     "data": {
      "text/plain": [
       "Text(0, 0.5, '$\\\\omega$')"
      ]
     },
     "execution_count": 21,
     "metadata": {},
     "output_type": "execute_result"
    },
    {
     "data": {
      "image/png": "[encoded data removed]",
      "text/plain": [
       "<Figure size 432x288 with 1 Axes>"
      ]
     },
     "metadata": {},
     "output_type": "display_data"
    }
   ],
   "source": [
    "plt.plot(est_hist, label='Est.')\n",
    "plt.hlines(true_params, 0, 20, label='True')\n",
    "plt.legend(ncol=2)\n",
    "plt.xlabel('# of Times Sampled (25 measurements/ea)')\n",
    "plt.ylabel(r'$\\omega$')"
   ]
  },
  {
   "cell_type": "code",
   "execution_count": 22,
   "id": "e5891835",
   "metadata": {},
   "outputs": [
    {
     "data": {
      "text/plain": [
       "[<matplotlib.lines.Line2D at 0x7fa9d0192518>]"
      ]
     },
     "execution_count": 22,
     "metadata": {},
     "output_type": "execute_result"
    },
    {
     "data": {
      "image/png": "[encoded data removed]",
      "text/plain": [
       "<Figure size 432x288 with 1 Axes>"
      ]
     },
     "metadata": {},
     "output_type": "display_data"
    }
   ],
   "source": [
    "plt.plot(resampling_hist)"
   ]
  },
  {
   "cell_type": "code",
   "execution_count": 23,
   "id": "b23e72b5",
   "metadata": {},
   "outputs": [
    {
     "name": "stdout",
     "output_type": "stream",
     "text": [
      "8\n"
     ]
    }
   ],
   "source": [
    "print(updater.resample_count)"
   ]
  },
  {
   "cell_type": "code",
   "execution_count": 24,
   "id": "4130334a",
   "metadata": {},
   "outputs": [
    {
     "data": {
      "text/plain": [
       "array([0.29970025])"
      ]
     },
     "execution_count": 24,
     "metadata": {},
     "output_type": "execute_result"
    }
   ],
   "source": [
    "updater.est_mean()"
   ]
  },
  {
   "cell_type": "code",
   "execution_count": 25,
   "id": "456059d0",
   "metadata": {},
   "outputs": [
    {
     "name": "stdout",
     "output_type": "stream",
     "text": [
      "[(60., 50)]\n",
      "10\n"
     ]
    }
   ],
   "source": [
    "# Let's see the computational cost associated with this -- measured in terms of number of likelihood calls\n",
    "# Current query and measurement outcome\n",
    "print(experiment)\n",
    "print(outcomes)\n",
    "\n",
    "# Set results from above query and measurement outcome\n",
    "expparams = experiment\n",
    "\n",
    "# Taken from the hypothetical_update method in the smc code\n",
    "weights = updater.particle_weights\n",
    "locs = updater.particle_locations\n",
    "\n",
    "# Check if we have a single outcome or an array. If we only have one\n",
    "# outcome, wrap it in a one-index array.\n",
    "if not isinstance(outcomes, np.ndarray):\n",
    "    outcomes = np.array([outcomes])\n",
    "\n",
    "# update the weights sans normalization\n",
    "# Rearrange so that likelihoods have shape (outcomes, experiments, models).\n",
    "# This makes the multiplication with weights (shape (models,)) make sense,\n",
    "# since NumPy broadcasting rules align on the right-most index.\n",
    "L = updater.model.likelihood(outcomes, locs, expparams).transpose([0, 2, 1])\n",
    "hyp_weights = weights * L"
   ]
  },
  {
   "cell_type": "code",
   "execution_count": 26,
   "id": "236b4031",
   "metadata": {},
   "outputs": [
    {
     "data": {
      "text/plain": [
       "(1, 1, 2000)"
      ]
     },
     "execution_count": 26,
     "metadata": {},
     "output_type": "execute_result"
    }
   ],
   "source": [
    "L.shape"
   ]
  },
  {
   "cell_type": "code",
   "execution_count": 27,
   "id": "c67dd291",
   "metadata": {},
   "outputs": [
    {
     "data": {
      "text/plain": [
       "8"
      ]
     },
     "execution_count": 27,
     "metadata": {},
     "output_type": "execute_result"
    }
   ],
   "source": [
    "updater.resample_count"
   ]
  },
  {
   "cell_type": "markdown",
   "id": "c459fc90",
   "metadata": {},
   "source": [
    "# 2. Simplified CR Hamiltonian"
   ]
  },
  {
   "cell_type": "code",
   "execution_count": 28,
   "id": "2661eba5",
   "metadata": {},
   "outputs": [],
   "source": [
    "from bayesianhl.qinfer_system_models import SimplifiedCRHamiltonian"
   ]
  },
  {
   "cell_type": "markdown",
   "id": "41ec79af",
   "metadata": {},
   "source": [
    "## 2.1 Multiple shots, single experiment at a time, no non-dim"
   ]
  },
  {
   "cell_type": "code",
   "execution_count": 29,
   "id": "d78812e9",
   "metadata": {},
   "outputs": [],
   "source": [
    "child_sys_model = SimplifiedCRHamiltonian()"
   ]
  },
  {
   "cell_type": "code",
   "execution_count": 30,
   "id": "4194d5a9",
   "metadata": {},
   "outputs": [
    {
     "data": {
      "text/plain": [
       "array([1., 1., 1.])"
      ]
     },
     "execution_count": 30,
     "metadata": {},
     "output_type": "execute_result"
    }
   ],
   "source": [
    "child_sys_model.Q"
   ]
  },
  {
   "cell_type": "code",
   "execution_count": 31,
   "id": "352d9b67",
   "metadata": {},
   "outputs": [],
   "source": [
    "sys_model = BinomialModel(SimplifiedCRHamiltonian())"
   ]
  },
  {
   "cell_type": "code",
   "execution_count": 32,
   "id": "baf94fb8",
   "metadata": {},
   "outputs": [],
   "source": [
    "# Set truth\n",
    "true_params = np.array([[0.3, 0.35, 0.375]])"
   ]
  },
  {
   "cell_type": "code",
   "execution_count": 33,
   "id": "e768e3de",
   "metadata": {},
   "outputs": [
    {
     "name": "stderr",
     "output_type": "stream",
     "text": [
      "/Users/arkopal/miniconda3/envs/active-qinfer-hl-env/lib/python3.6/site-packages/ipykernel_launcher.py:7: FutureWarning: Passing (type, 1) or '1type' as a synonym of type is deprecated; in a future version of numpy, it will be understood as (type, (1,)) / '(1,)type'.\n",
      "  import sys\n"
     ]
    }
   ],
   "source": [
    "# Process one experiment, multiple shots\n",
    "mop = 0\n",
    "uop = 1\n",
    "t = 0.1\n",
    "n_shots = 100\n",
    "\n",
    "experiment = np.array([(mop, uop, t, n_shots)], dtype=sys_model.expparams_dtype)\n",
    "outcomes = sys_model.simulate_experiment(true_params, experiment)"
   ]
  },
  {
   "cell_type": "code",
   "execution_count": 34,
   "id": "86b7cd71",
   "metadata": {},
   "outputs": [],
   "source": [
    "# Lets try this with an estimator\n",
    "prior = UniformDistribution([[0, 1]]*3)\n",
    "updater = SMCUpdater(sys_model, 2000, prior)"
   ]
  },
  {
   "cell_type": "code",
   "execution_count": 35,
   "id": "f97649a9",
   "metadata": {},
   "outputs": [],
   "source": [
    "# Define experiments\n",
    "tvec = np.linspace(0.1, 0.6, 81)\n",
    "mvec = [0, 1, 2]\n",
    "uvec = [0, 1]"
   ]
  },
  {
   "cell_type": "code",
   "execution_count": 36,
   "id": "9ab1a340",
   "metadata": {},
   "outputs": [
    {
     "name": "stderr",
     "output_type": "stream",
     "text": [
      "/Users/arkopal/miniconda3/envs/active-qinfer-hl-env/lib/python3.6/site-packages/ipykernel_launcher.py:9: FutureWarning: Passing (type, 1) or '1type' as a synonym of type is deprecated; in a future version of numpy, it will be understood as (type, (1,)) / '(1,)type'.\n",
      "  if __name__ == '__main__':\n"
     ]
    },
    {
     "name": "stdout",
     "output_type": "stream",
     "text": [
      "Done with (m,u,t) = (0, 0, 0.100000)\n",
      "Done with (m,u,t) = (0, 1, 0.100000)\n",
      "Done with (m,u,t) = (1, 0, 0.100000)\n",
      "Done with (m,u,t) = (1, 1, 0.100000)\n",
      "Done with (m,u,t) = (2, 0, 0.100000)\n",
      "Done with (m,u,t) = (2, 1, 0.100000)\n",
      "Done with (m,u,t) = (0, 0, 0.106250)\n",
      "Done with (m,u,t) = (0, 1, 0.106250)\n",
      "Done with (m,u,t) = (1, 0, 0.106250)\n",
      "Done with (m,u,t) = (1, 1, 0.106250)\n",
      "Done with (m,u,t) = (2, 0, 0.106250)\n",
      "Done with (m,u,t) = (2, 1, 0.106250)\n",
      "Done with (m,u,t) = (0, 0, 0.112500)\n",
      "Done with (m,u,t) = (0, 1, 0.112500)\n",
      "Done with (m,u,t) = (1, 0, 0.112500)\n",
      "Done with (m,u,t) = (1, 1, 0.112500)\n",
      "Done with (m,u,t) = (2, 0, 0.112500)\n",
      "Done with (m,u,t) = (2, 1, 0.112500)\n",
      "Done with (m,u,t) = (0, 0, 0.118750)\n",
      "Done with (m,u,t) = (0, 1, 0.118750)\n",
      "Done with (m,u,t) = (1, 0, 0.118750)\n",
      "Done with (m,u,t) = (1, 1, 0.118750)\n",
      "Done with (m,u,t) = (2, 0, 0.118750)\n",
      "Done with (m,u,t) = (2, 1, 0.118750)\n",
      "Done with (m,u,t) = (0, 0, 0.125000)\n",
      "Done with (m,u,t) = (0, 1, 0.125000)\n",
      "Done with (m,u,t) = (1, 0, 0.125000)\n",
      "Done with (m,u,t) = (1, 1, 0.125000)\n",
      "Done with (m,u,t) = (2, 0, 0.125000)\n",
      "Done with (m,u,t) = (2, 1, 0.125000)\n",
      "Done with (m,u,t) = (0, 0, 0.131250)\n",
      "Done with (m,u,t) = (0, 1, 0.131250)\n",
      "Done with (m,u,t) = (1, 0, 0.131250)\n",
      "Done with (m,u,t) = (1, 1, 0.131250)\n",
      "Done with (m,u,t) = (2, 0, 0.131250)\n",
      "Done with (m,u,t) = (2, 1, 0.131250)\n",
      "Done with (m,u,t) = (0, 0, 0.137500)\n",
      "Done with (m,u,t) = (0, 1, 0.137500)\n",
      "Done with (m,u,t) = (1, 0, 0.137500)\n",
      "Done with (m,u,t) = (1, 1, 0.137500)\n",
      "Done with (m,u,t) = (2, 0, 0.137500)\n",
      "Done with (m,u,t) = (2, 1, 0.137500)\n",
      "Done with (m,u,t) = (0, 0, 0.143750)\n",
      "Done with (m,u,t) = (0, 1, 0.143750)\n",
      "Done with (m,u,t) = (1, 0, 0.143750)\n",
      "Done with (m,u,t) = (1, 1, 0.143750)\n",
      "Done with (m,u,t) = (2, 0, 0.143750)\n",
      "Done with (m,u,t) = (2, 1, 0.143750)\n",
      "Done with (m,u,t) = (0, 0, 0.150000)\n",
      "Done with (m,u,t) = (0, 1, 0.150000)\n",
      "Done with (m,u,t) = (1, 0, 0.150000)\n",
      "Done with (m,u,t) = (1, 1, 0.150000)\n",
      "Done with (m,u,t) = (2, 0, 0.150000)\n",
      "Done with (m,u,t) = (2, 1, 0.150000)\n",
      "Done with (m,u,t) = (0, 0, 0.156250)\n",
      "Done with (m,u,t) = (0, 1, 0.156250)\n",
      "Done with (m,u,t) = (1, 0, 0.156250)\n",
      "Done with (m,u,t) = (1, 1, 0.156250)\n",
      "Done with (m,u,t) = (2, 0, 0.156250)\n",
      "Done with (m,u,t) = (2, 1, 0.156250)\n",
      "Done with (m,u,t) = (0, 0, 0.162500)\n",
      "Done with (m,u,t) = (0, 1, 0.162500)\n",
      "Done with (m,u,t) = (1, 0, 0.162500)\n",
      "Done with (m,u,t) = (1, 1, 0.162500)\n",
      "Done with (m,u,t) = (2, 0, 0.162500)\n",
      "Done with (m,u,t) = (2, 1, 0.162500)\n",
      "Done with (m,u,t) = (0, 0, 0.168750)\n",
      "Done with (m,u,t) = (0, 1, 0.168750)\n",
      "Done with (m,u,t) = (1, 0, 0.168750)\n",
      "Done with (m,u,t) = (1, 1, 0.168750)\n",
      "Done with (m,u,t) = (2, 0, 0.168750)\n",
      "Done with (m,u,t) = (2, 1, 0.168750)\n",
      "Done with (m,u,t) = (0, 0, 0.175000)\n",
      "Done with (m,u,t) = (0, 1, 0.175000)\n",
      "Done with (m,u,t) = (1, 0, 0.175000)\n",
      "Done with (m,u,t) = (1, 1, 0.175000)\n",
      "Done with (m,u,t) = (2, 0, 0.175000)\n",
      "Done with (m,u,t) = (2, 1, 0.175000)\n",
      "Done with (m,u,t) = (0, 0, 0.181250)\n",
      "Done with (m,u,t) = (0, 1, 0.181250)\n",
      "Done with (m,u,t) = (1, 0, 0.181250)\n",
      "Done with (m,u,t) = (1, 1, 0.181250)\n",
      "Done with (m,u,t) = (2, 0, 0.181250)\n",
      "Done with (m,u,t) = (2, 1, 0.181250)\n",
      "Done with (m,u,t) = (0, 0, 0.187500)\n",
      "Done with (m,u,t) = (0, 1, 0.187500)\n",
      "Done with (m,u,t) = (1, 0, 0.187500)\n",
      "Done with (m,u,t) = (1, 1, 0.187500)\n",
      "Done with (m,u,t) = (2, 0, 0.187500)\n",
      "Done with (m,u,t) = (2, 1, 0.187500)\n",
      "Done with (m,u,t) = (0, 0, 0.193750)\n",
      "Done with (m,u,t) = (0, 1, 0.193750)\n",
      "Done with (m,u,t) = (1, 0, 0.193750)\n",
      "Done with (m,u,t) = (1, 1, 0.193750)\n",
      "Done with (m,u,t) = (2, 0, 0.193750)\n",
      "Done with (m,u,t) = (2, 1, 0.193750)\n",
      "Done with (m,u,t) = (0, 0, 0.200000)\n",
      "Done with (m,u,t) = (0, 1, 0.200000)\n",
      "Done with (m,u,t) = (1, 0, 0.200000)\n",
      "Done with (m,u,t) = (1, 1, 0.200000)\n",
      "Done with (m,u,t) = (2, 0, 0.200000)\n",
      "Done with (m,u,t) = (2, 1, 0.200000)\n",
      "Done with (m,u,t) = (0, 0, 0.206250)\n",
      "Done with (m,u,t) = (0, 1, 0.206250)\n",
      "Done with (m,u,t) = (1, 0, 0.206250)\n",
      "Done with (m,u,t) = (1, 1, 0.206250)\n",
      "Done with (m,u,t) = (2, 0, 0.206250)\n",
      "Done with (m,u,t) = (2, 1, 0.206250)\n",
      "Done with (m,u,t) = (0, 0, 0.212500)\n",
      "Done with (m,u,t) = (0, 1, 0.212500)\n",
      "Done with (m,u,t) = (1, 0, 0.212500)\n",
      "Done with (m,u,t) = (1, 1, 0.212500)\n",
      "Done with (m,u,t) = (2, 0, 0.212500)\n",
      "Done with (m,u,t) = (2, 1, 0.212500)\n",
      "Done with (m,u,t) = (0, 0, 0.218750)\n",
      "Done with (m,u,t) = (0, 1, 0.218750)\n",
      "Done with (m,u,t) = (1, 0, 0.218750)\n",
      "Done with (m,u,t) = (1, 1, 0.218750)\n",
      "Done with (m,u,t) = (2, 0, 0.218750)\n",
      "Done with (m,u,t) = (2, 1, 0.218750)\n",
      "Done with (m,u,t) = (0, 0, 0.225000)\n",
      "Done with (m,u,t) = (0, 1, 0.225000)\n",
      "Done with (m,u,t) = (1, 0, 0.225000)\n",
      "Done with (m,u,t) = (1, 1, 0.225000)\n",
      "Done with (m,u,t) = (2, 0, 0.225000)\n",
      "Done with (m,u,t) = (2, 1, 0.225000)\n",
      "Done with (m,u,t) = (0, 0, 0.231250)\n",
      "Done with (m,u,t) = (0, 1, 0.231250)\n",
      "Done with (m,u,t) = (1, 0, 0.231250)\n",
      "Done with (m,u,t) = (1, 1, 0.231250)\n",
      "Done with (m,u,t) = (2, 0, 0.231250)\n",
      "Done with (m,u,t) = (2, 1, 0.231250)\n",
      "Done with (m,u,t) = (0, 0, 0.237500)\n",
      "Done with (m,u,t) = (0, 1, 0.237500)\n",
      "Done with (m,u,t) = (1, 0, 0.237500)\n",
      "Done with (m,u,t) = (1, 1, 0.237500)\n",
      "Done with (m,u,t) = (2, 0, 0.237500)\n",
      "Done with (m,u,t) = (2, 1, 0.237500)\n",
      "Done with (m,u,t) = (0, 0, 0.243750)\n",
      "Done with (m,u,t) = (0, 1, 0.243750)\n",
      "Done with (m,u,t) = (1, 0, 0.243750)\n",
      "Done with (m,u,t) = (1, 1, 0.243750)\n",
      "Done with (m,u,t) = (2, 0, 0.243750)\n",
      "Done with (m,u,t) = (2, 1, 0.243750)\n",
      "Done with (m,u,t) = (0, 0, 0.250000)\n",
      "Done with (m,u,t) = (0, 1, 0.250000)\n",
      "Done with (m,u,t) = (1, 0, 0.250000)\n",
      "Done with (m,u,t) = (1, 1, 0.250000)\n",
      "Done with (m,u,t) = (2, 0, 0.250000)\n",
      "Done with (m,u,t) = (2, 1, 0.250000)\n",
      "Done with (m,u,t) = (0, 0, 0.256250)\n",
      "Done with (m,u,t) = (0, 1, 0.256250)\n",
      "Done with (m,u,t) = (1, 0, 0.256250)\n",
      "Done with (m,u,t) = (1, 1, 0.256250)\n",
      "Done with (m,u,t) = (2, 0, 0.256250)\n",
      "Done with (m,u,t) = (2, 1, 0.256250)\n",
      "Done with (m,u,t) = (0, 0, 0.262500)\n",
      "Done with (m,u,t) = (0, 1, 0.262500)\n",
      "Done with (m,u,t) = (1, 0, 0.262500)\n",
      "Done with (m,u,t) = (1, 1, 0.262500)\n",
      "Done with (m,u,t) = (2, 0, 0.262500)\n",
      "Done with (m,u,t) = (2, 1, 0.262500)\n",
      "Done with (m,u,t) = (0, 0, 0.268750)\n",
      "Done with (m,u,t) = (0, 1, 0.268750)\n",
      "Done with (m,u,t) = (1, 0, 0.268750)\n",
      "Done with (m,u,t) = (1, 1, 0.268750)\n",
      "Done with (m,u,t) = (2, 0, 0.268750)\n",
      "Done with (m,u,t) = (2, 1, 0.268750)\n",
      "Done with (m,u,t) = (0, 0, 0.275000)\n",
      "Done with (m,u,t) = (0, 1, 0.275000)\n",
      "Done with (m,u,t) = (1, 0, 0.275000)\n",
      "Done with (m,u,t) = (1, 1, 0.275000)\n",
      "Done with (m,u,t) = (2, 0, 0.275000)\n",
      "Done with (m,u,t) = (2, 1, 0.275000)\n",
      "Done with (m,u,t) = (0, 0, 0.281250)\n",
      "Done with (m,u,t) = (0, 1, 0.281250)\n",
      "Done with (m,u,t) = (1, 0, 0.281250)\n",
      "Done with (m,u,t) = (1, 1, 0.281250)\n",
      "Done with (m,u,t) = (2, 0, 0.281250)\n",
      "Done with (m,u,t) = (2, 1, 0.281250)\n",
      "Done with (m,u,t) = (0, 0, 0.287500)\n",
      "Done with (m,u,t) = (0, 1, 0.287500)\n",
      "Done with (m,u,t) = (1, 0, 0.287500)\n",
      "Done with (m,u,t) = (1, 1, 0.287500)\n",
      "Done with (m,u,t) = (2, 0, 0.287500)\n",
      "Done with (m,u,t) = (2, 1, 0.287500)\n",
      "Done with (m,u,t) = (0, 0, 0.293750)\n",
      "Done with (m,u,t) = (0, 1, 0.293750)\n",
      "Done with (m,u,t) = (1, 0, 0.293750)\n",
      "Done with (m,u,t) = (1, 1, 0.293750)\n",
      "Done with (m,u,t) = (2, 0, 0.293750)\n",
      "Done with (m,u,t) = (2, 1, 0.293750)\n",
      "Done with (m,u,t) = (0, 0, 0.300000)\n",
      "Done with (m,u,t) = (0, 1, 0.300000)\n",
      "Done with (m,u,t) = (1, 0, 0.300000)\n",
      "Done with (m,u,t) = (1, 1, 0.300000)\n",
      "Done with (m,u,t) = (2, 0, 0.300000)\n",
      "Done with (m,u,t) = (2, 1, 0.300000)\n",
      "Done with (m,u,t) = (0, 0, 0.306250)\n",
      "Done with (m,u,t) = (0, 1, 0.306250)\n",
      "Done with (m,u,t) = (1, 0, 0.306250)\n",
      "Done with (m,u,t) = (1, 1, 0.306250)\n",
      "Done with (m,u,t) = (2, 0, 0.306250)\n",
      "Done with (m,u,t) = (2, 1, 0.306250)\n",
      "Done with (m,u,t) = (0, 0, 0.312500)\n",
      "Done with (m,u,t) = (0, 1, 0.312500)\n",
      "Done with (m,u,t) = (1, 0, 0.312500)\n",
      "Done with (m,u,t) = (1, 1, 0.312500)\n",
      "Done with (m,u,t) = (2, 0, 0.312500)\n",
      "Done with (m,u,t) = (2, 1, 0.312500)\n",
      "Done with (m,u,t) = (0, 0, 0.318750)\n",
      "Done with (m,u,t) = (0, 1, 0.318750)\n",
      "Done with (m,u,t) = (1, 0, 0.318750)\n",
      "Done with (m,u,t) = (1, 1, 0.318750)\n",
      "Done with (m,u,t) = (2, 0, 0.318750)\n",
      "Done with (m,u,t) = (2, 1, 0.318750)\n",
      "Done with (m,u,t) = (0, 0, 0.325000)\n",
      "Done with (m,u,t) = (0, 1, 0.325000)\n",
      "Done with (m,u,t) = (1, 0, 0.325000)\n",
      "Done with (m,u,t) = (1, 1, 0.325000)\n",
      "Done with (m,u,t) = (2, 0, 0.325000)\n",
      "Done with (m,u,t) = (2, 1, 0.325000)\n",
      "Done with (m,u,t) = (0, 0, 0.331250)\n",
      "Done with (m,u,t) = (0, 1, 0.331250)\n",
      "Done with (m,u,t) = (1, 0, 0.331250)\n",
      "Done with (m,u,t) = (1, 1, 0.331250)\n",
      "Done with (m,u,t) = (2, 0, 0.331250)\n",
      "Done with (m,u,t) = (2, 1, 0.331250)\n",
      "Done with (m,u,t) = (0, 0, 0.337500)\n",
      "Done with (m,u,t) = (0, 1, 0.337500)\n",
      "Done with (m,u,t) = (1, 0, 0.337500)\n",
      "Done with (m,u,t) = (1, 1, 0.337500)\n",
      "Done with (m,u,t) = (2, 0, 0.337500)\n",
      "Done with (m,u,t) = (2, 1, 0.337500)\n",
      "Done with (m,u,t) = (0, 0, 0.343750)\n",
      "Done with (m,u,t) = (0, 1, 0.343750)\n",
      "Done with (m,u,t) = (1, 0, 0.343750)\n",
      "Done with (m,u,t) = (1, 1, 0.343750)\n",
      "Done with (m,u,t) = (2, 0, 0.343750)\n",
      "Done with (m,u,t) = (2, 1, 0.343750)\n",
      "Done with (m,u,t) = (0, 0, 0.350000)\n",
      "Done with (m,u,t) = (0, 1, 0.350000)\n",
      "Done with (m,u,t) = (1, 0, 0.350000)\n",
      "Done with (m,u,t) = (1, 1, 0.350000)\n",
      "Done with (m,u,t) = (2, 0, 0.350000)\n",
      "Done with (m,u,t) = (2, 1, 0.350000)\n",
      "Done with (m,u,t) = (0, 0, 0.356250)\n",
      "Done with (m,u,t) = (0, 1, 0.356250)\n",
      "Done with (m,u,t) = (1, 0, 0.356250)\n",
      "Done with (m,u,t) = (1, 1, 0.356250)\n",
      "Done with (m,u,t) = (2, 0, 0.356250)\n",
      "Done with (m,u,t) = (2, 1, 0.356250)\n",
      "Done with (m,u,t) = (0, 0, 0.362500)\n",
      "Done with (m,u,t) = (0, 1, 0.362500)\n",
      "Done with (m,u,t) = (1, 0, 0.362500)\n",
      "Done with (m,u,t) = (1, 1, 0.362500)\n",
      "Done with (m,u,t) = (2, 0, 0.362500)\n",
      "Done with (m,u,t) = (2, 1, 0.362500)\n",
      "Done with (m,u,t) = (0, 0, 0.368750)\n",
      "Done with (m,u,t) = (0, 1, 0.368750)\n",
      "Done with (m,u,t) = (1, 0, 0.368750)\n",
      "Done with (m,u,t) = (1, 1, 0.368750)\n",
      "Done with (m,u,t) = (2, 0, 0.368750)\n",
      "Done with (m,u,t) = (2, 1, 0.368750)\n",
      "Done with (m,u,t) = (0, 0, 0.375000)\n",
      "Done with (m,u,t) = (0, 1, 0.375000)\n",
      "Done with (m,u,t) = (1, 0, 0.375000)\n",
      "Done with (m,u,t) = (1, 1, 0.375000)\n",
      "Done with (m,u,t) = (2, 0, 0.375000)\n",
      "Done with (m,u,t) = (2, 1, 0.375000)\n",
      "Done with (m,u,t) = (0, 0, 0.381250)\n",
      "Done with (m,u,t) = (0, 1, 0.381250)\n",
      "Done with (m,u,t) = (1, 0, 0.381250)\n",
      "Done with (m,u,t) = (1, 1, 0.381250)\n",
      "Done with (m,u,t) = (2, 0, 0.381250)\n",
      "Done with (m,u,t) = (2, 1, 0.381250)\n",
      "Done with (m,u,t) = (0, 0, 0.387500)\n",
      "Done with (m,u,t) = (0, 1, 0.387500)\n",
      "Done with (m,u,t) = (1, 0, 0.387500)\n",
      "Done with (m,u,t) = (1, 1, 0.387500)\n",
      "Done with (m,u,t) = (2, 0, 0.387500)\n",
      "Done with (m,u,t) = (2, 1, 0.387500)\n",
      "Done with (m,u,t) = (0, 0, 0.393750)\n",
      "Done with (m,u,t) = (0, 1, 0.393750)\n",
      "Done with (m,u,t) = (1, 0, 0.393750)\n",
      "Done with (m,u,t) = (1, 1, 0.393750)\n"
     ]
    },
    {
     "name": "stdout",
     "output_type": "stream",
     "text": [
      "Done with (m,u,t) = (2, 0, 0.393750)\n",
      "Done with (m,u,t) = (2, 1, 0.393750)\n",
      "Done with (m,u,t) = (0, 0, 0.400000)\n",
      "Done with (m,u,t) = (0, 1, 0.400000)\n",
      "Done with (m,u,t) = (1, 0, 0.400000)\n",
      "Done with (m,u,t) = (1, 1, 0.400000)\n",
      "Done with (m,u,t) = (2, 0, 0.400000)\n",
      "Done with (m,u,t) = (2, 1, 0.400000)\n",
      "Done with (m,u,t) = (0, 0, 0.406250)\n",
      "Done with (m,u,t) = (0, 1, 0.406250)\n",
      "Done with (m,u,t) = (1, 0, 0.406250)\n",
      "Done with (m,u,t) = (1, 1, 0.406250)\n",
      "Done with (m,u,t) = (2, 0, 0.406250)\n",
      "Done with (m,u,t) = (2, 1, 0.406250)\n",
      "Done with (m,u,t) = (0, 0, 0.412500)\n",
      "Done with (m,u,t) = (0, 1, 0.412500)\n",
      "Done with (m,u,t) = (1, 0, 0.412500)\n",
      "Done with (m,u,t) = (1, 1, 0.412500)\n",
      "Done with (m,u,t) = (2, 0, 0.412500)\n",
      "Done with (m,u,t) = (2, 1, 0.412500)\n",
      "Done with (m,u,t) = (0, 0, 0.418750)\n",
      "Done with (m,u,t) = (0, 1, 0.418750)\n",
      "Done with (m,u,t) = (1, 0, 0.418750)\n",
      "Done with (m,u,t) = (1, 1, 0.418750)\n",
      "Done with (m,u,t) = (2, 0, 0.418750)\n",
      "Done with (m,u,t) = (2, 1, 0.418750)\n",
      "Done with (m,u,t) = (0, 0, 0.425000)\n",
      "Done with (m,u,t) = (0, 1, 0.425000)\n",
      "Done with (m,u,t) = (1, 0, 0.425000)\n",
      "Done with (m,u,t) = (1, 1, 0.425000)\n",
      "Done with (m,u,t) = (2, 0, 0.425000)\n",
      "Done with (m,u,t) = (2, 1, 0.425000)\n",
      "Done with (m,u,t) = (0, 0, 0.431250)\n",
      "Done with (m,u,t) = (0, 1, 0.431250)\n",
      "Done with (m,u,t) = (1, 0, 0.431250)\n",
      "Done with (m,u,t) = (1, 1, 0.431250)\n",
      "Done with (m,u,t) = (2, 0, 0.431250)\n",
      "Done with (m,u,t) = (2, 1, 0.431250)\n",
      "Done with (m,u,t) = (0, 0, 0.437500)\n",
      "Done with (m,u,t) = (0, 1, 0.437500)\n",
      "Done with (m,u,t) = (1, 0, 0.437500)\n",
      "Done with (m,u,t) = (1, 1, 0.437500)\n",
      "Done with (m,u,t) = (2, 0, 0.437500)\n",
      "Done with (m,u,t) = (2, 1, 0.437500)\n",
      "Done with (m,u,t) = (0, 0, 0.443750)\n",
      "Done with (m,u,t) = (0, 1, 0.443750)\n",
      "Done with (m,u,t) = (1, 0, 0.443750)\n",
      "Done with (m,u,t) = (1, 1, 0.443750)\n",
      "Done with (m,u,t) = (2, 0, 0.443750)\n",
      "Done with (m,u,t) = (2, 1, 0.443750)\n",
      "Done with (m,u,t) = (0, 0, 0.450000)\n",
      "Done with (m,u,t) = (0, 1, 0.450000)\n",
      "Done with (m,u,t) = (1, 0, 0.450000)\n",
      "Done with (m,u,t) = (1, 1, 0.450000)\n",
      "Done with (m,u,t) = (2, 0, 0.450000)\n",
      "Done with (m,u,t) = (2, 1, 0.450000)\n",
      "Done with (m,u,t) = (0, 0, 0.456250)\n",
      "Done with (m,u,t) = (0, 1, 0.456250)\n",
      "Done with (m,u,t) = (1, 0, 0.456250)\n",
      "Done with (m,u,t) = (1, 1, 0.456250)\n",
      "Done with (m,u,t) = (2, 0, 0.456250)\n",
      "Done with (m,u,t) = (2, 1, 0.456250)\n",
      "Done with (m,u,t) = (0, 0, 0.462500)\n",
      "Done with (m,u,t) = (0, 1, 0.462500)\n",
      "Done with (m,u,t) = (1, 0, 0.462500)\n",
      "Done with (m,u,t) = (1, 1, 0.462500)\n",
      "Done with (m,u,t) = (2, 0, 0.462500)\n",
      "Done with (m,u,t) = (2, 1, 0.462500)\n",
      "Done with (m,u,t) = (0, 0, 0.468750)\n",
      "Done with (m,u,t) = (0, 1, 0.468750)\n",
      "Done with (m,u,t) = (1, 0, 0.468750)\n",
      "Done with (m,u,t) = (1, 1, 0.468750)\n",
      "Done with (m,u,t) = (2, 0, 0.468750)\n",
      "Done with (m,u,t) = (2, 1, 0.468750)\n",
      "Done with (m,u,t) = (0, 0, 0.475000)\n",
      "Done with (m,u,t) = (0, 1, 0.475000)\n",
      "Done with (m,u,t) = (1, 0, 0.475000)\n",
      "Done with (m,u,t) = (1, 1, 0.475000)\n",
      "Done with (m,u,t) = (2, 0, 0.475000)\n",
      "Done with (m,u,t) = (2, 1, 0.475000)\n",
      "Done with (m,u,t) = (0, 0, 0.481250)\n",
      "Done with (m,u,t) = (0, 1, 0.481250)\n",
      "Done with (m,u,t) = (1, 0, 0.481250)\n",
      "Done with (m,u,t) = (1, 1, 0.481250)\n",
      "Done with (m,u,t) = (2, 0, 0.481250)\n",
      "Done with (m,u,t) = (2, 1, 0.481250)\n",
      "Done with (m,u,t) = (0, 0, 0.487500)\n",
      "Done with (m,u,t) = (0, 1, 0.487500)\n",
      "Done with (m,u,t) = (1, 0, 0.487500)\n",
      "Done with (m,u,t) = (1, 1, 0.487500)\n",
      "Done with (m,u,t) = (2, 0, 0.487500)\n",
      "Done with (m,u,t) = (2, 1, 0.487500)\n",
      "Done with (m,u,t) = (0, 0, 0.493750)\n",
      "Done with (m,u,t) = (0, 1, 0.493750)\n",
      "Done with (m,u,t) = (1, 0, 0.493750)\n",
      "Done with (m,u,t) = (1, 1, 0.493750)\n",
      "Done with (m,u,t) = (2, 0, 0.493750)\n",
      "Done with (m,u,t) = (2, 1, 0.493750)\n",
      "Done with (m,u,t) = (0, 0, 0.500000)\n",
      "Done with (m,u,t) = (0, 1, 0.500000)\n",
      "Done with (m,u,t) = (1, 0, 0.500000)\n",
      "Done with (m,u,t) = (1, 1, 0.500000)\n",
      "Done with (m,u,t) = (2, 0, 0.500000)\n",
      "Done with (m,u,t) = (2, 1, 0.500000)\n",
      "Done with (m,u,t) = (0, 0, 0.506250)\n",
      "Done with (m,u,t) = (0, 1, 0.506250)\n",
      "Done with (m,u,t) = (1, 0, 0.506250)\n",
      "Done with (m,u,t) = (1, 1, 0.506250)\n",
      "Done with (m,u,t) = (2, 0, 0.506250)\n",
      "Done with (m,u,t) = (2, 1, 0.506250)\n",
      "Done with (m,u,t) = (0, 0, 0.512500)\n",
      "Done with (m,u,t) = (0, 1, 0.512500)\n",
      "Done with (m,u,t) = (1, 0, 0.512500)\n",
      "Done with (m,u,t) = (1, 1, 0.512500)\n",
      "Done with (m,u,t) = (2, 0, 0.512500)\n",
      "Done with (m,u,t) = (2, 1, 0.512500)\n",
      "Done with (m,u,t) = (0, 0, 0.518750)\n",
      "Done with (m,u,t) = (0, 1, 0.518750)\n",
      "Done with (m,u,t) = (1, 0, 0.518750)\n",
      "Done with (m,u,t) = (1, 1, 0.518750)\n",
      "Done with (m,u,t) = (2, 0, 0.518750)\n",
      "Done with (m,u,t) = (2, 1, 0.518750)\n",
      "Done with (m,u,t) = (0, 0, 0.525000)\n",
      "Done with (m,u,t) = (0, 1, 0.525000)\n",
      "Done with (m,u,t) = (1, 0, 0.525000)\n",
      "Done with (m,u,t) = (1, 1, 0.525000)\n",
      "Done with (m,u,t) = (2, 0, 0.525000)\n",
      "Done with (m,u,t) = (2, 1, 0.525000)\n",
      "Done with (m,u,t) = (0, 0, 0.531250)\n",
      "Done with (m,u,t) = (0, 1, 0.531250)\n",
      "Done with (m,u,t) = (1, 0, 0.531250)\n",
      "Done with (m,u,t) = (1, 1, 0.531250)\n",
      "Done with (m,u,t) = (2, 0, 0.531250)\n",
      "Done with (m,u,t) = (2, 1, 0.531250)\n",
      "Done with (m,u,t) = (0, 0, 0.537500)\n",
      "Done with (m,u,t) = (0, 1, 0.537500)\n",
      "Done with (m,u,t) = (1, 0, 0.537500)\n",
      "Done with (m,u,t) = (1, 1, 0.537500)\n",
      "Done with (m,u,t) = (2, 0, 0.537500)\n",
      "Done with (m,u,t) = (2, 1, 0.537500)\n",
      "Done with (m,u,t) = (0, 0, 0.543750)\n",
      "Done with (m,u,t) = (0, 1, 0.543750)\n",
      "Done with (m,u,t) = (1, 0, 0.543750)\n",
      "Done with (m,u,t) = (1, 1, 0.543750)\n",
      "Done with (m,u,t) = (2, 0, 0.543750)\n",
      "Done with (m,u,t) = (2, 1, 0.543750)\n",
      "Done with (m,u,t) = (0, 0, 0.550000)\n",
      "Done with (m,u,t) = (0, 1, 0.550000)\n",
      "Done with (m,u,t) = (1, 0, 0.550000)\n",
      "Done with (m,u,t) = (1, 1, 0.550000)\n",
      "Done with (m,u,t) = (2, 0, 0.550000)\n",
      "Done with (m,u,t) = (2, 1, 0.550000)\n",
      "Done with (m,u,t) = (0, 0, 0.556250)\n",
      "Done with (m,u,t) = (0, 1, 0.556250)\n",
      "Done with (m,u,t) = (1, 0, 0.556250)\n",
      "Done with (m,u,t) = (1, 1, 0.556250)\n",
      "Done with (m,u,t) = (2, 0, 0.556250)\n",
      "Done with (m,u,t) = (2, 1, 0.556250)\n",
      "Done with (m,u,t) = (0, 0, 0.562500)\n",
      "Done with (m,u,t) = (0, 1, 0.562500)\n",
      "Done with (m,u,t) = (1, 0, 0.562500)\n",
      "Done with (m,u,t) = (1, 1, 0.562500)\n",
      "Done with (m,u,t) = (2, 0, 0.562500)\n",
      "Done with (m,u,t) = (2, 1, 0.562500)\n",
      "Done with (m,u,t) = (0, 0, 0.568750)\n",
      "Done with (m,u,t) = (0, 1, 0.568750)\n",
      "Done with (m,u,t) = (1, 0, 0.568750)\n",
      "Done with (m,u,t) = (1, 1, 0.568750)\n",
      "Done with (m,u,t) = (2, 0, 0.568750)\n",
      "Done with (m,u,t) = (2, 1, 0.568750)\n",
      "Done with (m,u,t) = (0, 0, 0.575000)\n",
      "Done with (m,u,t) = (0, 1, 0.575000)\n",
      "Done with (m,u,t) = (1, 0, 0.575000)\n",
      "Done with (m,u,t) = (1, 1, 0.575000)\n",
      "Done with (m,u,t) = (2, 0, 0.575000)\n",
      "Done with (m,u,t) = (2, 1, 0.575000)\n",
      "Done with (m,u,t) = (0, 0, 0.581250)\n",
      "Done with (m,u,t) = (0, 1, 0.581250)\n",
      "Done with (m,u,t) = (1, 0, 0.581250)\n",
      "Done with (m,u,t) = (1, 1, 0.581250)\n",
      "Done with (m,u,t) = (2, 0, 0.581250)\n",
      "Done with (m,u,t) = (2, 1, 0.581250)\n",
      "Done with (m,u,t) = (0, 0, 0.587500)\n",
      "Done with (m,u,t) = (0, 1, 0.587500)\n",
      "Done with (m,u,t) = (1, 0, 0.587500)\n",
      "Done with (m,u,t) = (1, 1, 0.587500)\n",
      "Done with (m,u,t) = (2, 0, 0.587500)\n",
      "Done with (m,u,t) = (2, 1, 0.587500)\n",
      "Done with (m,u,t) = (0, 0, 0.593750)\n",
      "Done with (m,u,t) = (0, 1, 0.593750)\n",
      "Done with (m,u,t) = (1, 0, 0.593750)\n",
      "Done with (m,u,t) = (1, 1, 0.593750)\n",
      "Done with (m,u,t) = (2, 0, 0.593750)\n",
      "Done with (m,u,t) = (2, 1, 0.593750)\n",
      "Done with (m,u,t) = (0, 0, 0.600000)\n",
      "Done with (m,u,t) = (0, 1, 0.600000)\n",
      "Done with (m,u,t) = (1, 0, 0.600000)\n",
      "Done with (m,u,t) = (1, 1, 0.600000)\n",
      "Done with (m,u,t) = (2, 0, 0.600000)\n",
      "Done with (m,u,t) = (2, 1, 0.600000)\n"
     ]
    }
   ],
   "source": [
    "# Multiple shots at each (M, U, t)\n",
    "est_hist = []\n",
    "cum_shots = []\n",
    "\n",
    "cum_shots_counter = 0\n",
    "for t in tvec:\n",
    "    for m in mvec:\n",
    "        for u in uvec:\n",
    "            experiment = np.array([(m, u, t, n_shots)], dtype=sys_model.expparams_dtype)\n",
    "            outcomes = sys_model.simulate_experiment(true_params, experiment)\n",
    "            updater.update(outcomes, experiment)\n",
    "            \n",
    "            cum_shots_counter += n_shots\n",
    "    \n",
    "            print('Done with (m,u,t) = (%d, %d, %f)' %(m, u, t))\n",
    "    \n",
    "    est_hist.append(updater.est_mean())\n",
    "    cum_shots.append(cum_shots_counter)"
   ]
  },
  {
   "cell_type": "code",
   "execution_count": 37,
   "id": "e5737f09",
   "metadata": {},
   "outputs": [
    {
     "data": {
      "text/plain": [
       "Text(0, 0.5, '$J$ parameters')"
      ]
     },
     "execution_count": 37,
     "metadata": {},
     "output_type": "execute_result"
    },
    {
     "data": {
      "image/png": "[encoded data removed]",
      "text/plain": [
       "<Figure size 432x288 with 1 Axes>"
      ]
     },
     "metadata": {},
     "output_type": "display_data"
    }
   ],
   "source": [
    "plt.plot(cum_shots, est_hist, label='Est.')\n",
    "plt.hlines(true_params, np.amin(cum_shots), np.amax(cum_shots), label='True')\n",
    "plt.legend(ncol=2)\n",
    "plt.xlabel('Number of samples')\n",
    "plt.ylabel(r'$J$ parameters')"
   ]
  },
  {
   "cell_type": "code",
   "execution_count": 38,
   "id": "9a44e2dd",
   "metadata": {},
   "outputs": [
    {
     "data": {
      "text/plain": [
       "array([0.33207002, 0.35232641, 0.38743529])"
      ]
     },
     "execution_count": 38,
     "metadata": {},
     "output_type": "execute_result"
    }
   ],
   "source": [
    "updater.est_mean()"
   ]
  },
  {
   "cell_type": "markdown",
   "id": "a29e19ad",
   "metadata": {},
   "source": [
    "Not bad really! But the estimation in Jzx is slightly off"
   ]
  },
  {
   "cell_type": "markdown",
   "id": "bdcafb5d",
   "metadata": {},
   "source": [
    "# 3. CR Hamiltonian"
   ]
  },
  {
   "cell_type": "code",
   "execution_count": 39,
   "id": "3ff3f606",
   "metadata": {},
   "outputs": [],
   "source": [
    "from bayesianhl.qinfer_cr_hamiltonians import CRHamiltonian"
   ]
  },
  {
   "cell_type": "markdown",
   "id": "8b3c0151",
   "metadata": {},
   "source": [
    "## 3.1 Multiple shots, one expt at a time"
   ]
  },
  {
   "cell_type": "code",
   "execution_count": 40,
   "id": "bc45f800",
   "metadata": {},
   "outputs": [],
   "source": [
    "# Define quantum system model\n",
    "n_J = 6\n",
    "xi_J = 1e6*np.ones((n_J,))\n",
    "xi_t = 1e-7\n",
    "\n",
    "sys_model = BinomialModel(CRHamiltonian(xi_J=xi_J, xi_t=xi_t))"
   ]
  },
  {
   "cell_type": "code",
   "execution_count": 41,
   "id": "693d7e20",
   "metadata": {},
   "outputs": [],
   "source": [
    "# Define the true parameters\n",
    "J_truth = np.array([[-4610290.4944338, -1479956.7612268,  -229800.80519662,\n",
    "                    6608520.58971551,  1460516.49322424,   336451.01484356]])\n",
    "\n",
    "# This is what we will actually run with -- non-dimensional parameters \n",
    "J_truth_nd = J_truth/xi_J"
   ]
  },
  {
   "cell_type": "code",
   "execution_count": 42,
   "id": "bef40793",
   "metadata": {},
   "outputs": [
    {
     "data": {
      "text/plain": [
       "array([[-4.61029049, -1.47995676, -0.22980081,  6.60852059,  1.46051649,\n",
       "         0.33645101]])"
      ]
     },
     "execution_count": 42,
     "metadata": {},
     "output_type": "execute_result"
    }
   ],
   "source": [
    "# Note that we have all components within [-10,10]\n",
    "J_truth_nd"
   ]
  },
  {
   "cell_type": "code",
   "execution_count": 43,
   "id": "ad7d2171",
   "metadata": {},
   "outputs": [],
   "source": [
    "# Lets try this with an estimator\n",
    "Jmin = -10\n",
    "Jmax = 10\n",
    "n_particles = 10000\n",
    "\n",
    "prior = UniformDistribution([[Jmin, Jmax]]*n_J)\n",
    "updater = SMCUpdater(sys_model, n_particles, prior)"
   ]
  },
  {
   "cell_type": "code",
   "execution_count": 44,
   "id": "8f306dc2",
   "metadata": {},
   "outputs": [],
   "source": [
    "# Define the experiments\n",
    "tvec = np.linspace(1, 6, 81)\n",
    "mvec = [0, 1, 2]\n",
    "uvec = [0, 1]\n",
    "\n",
    "n_shots = 100"
   ]
  },
  {
   "cell_type": "code",
   "execution_count": 45,
   "id": "cacb885b",
   "metadata": {},
   "outputs": [
    {
     "name": "stderr",
     "output_type": "stream",
     "text": [
      "/Users/arkopal/miniconda3/envs/active-qinfer-hl-env/lib/python3.6/site-packages/ipykernel_launcher.py:9: FutureWarning: Passing (type, 1) or '1type' as a synonym of type is deprecated; in a future version of numpy, it will be understood as (type, (1,)) / '(1,)type'.\n",
      "  if __name__ == '__main__':\n",
      "/Users/arkopal/miniconda3/envs/active-qinfer-hl-env/lib/python3.6/site-packages/qinfer/resamplers.py:349: ResamplerWarning: Liu-West resampling failed to find valid models for 10000 particles within 1000 iterations.\n",
      "  ).format(idxs_to_resample.size, self._maxiter), ResamplerWarning)\n"
     ]
    },
    {
     "name": "stdout",
     "output_type": "stream",
     "text": [
      "Done with (m,u,t) = (0, 0, 1.000000)\n",
      "Done with (m,u,t) = (0, 1, 1.000000)\n",
      "Done with (m,u,t) = (1, 0, 1.000000)\n",
      "Done with (m,u,t) = (1, 1, 1.000000)\n",
      "Done with (m,u,t) = (2, 0, 1.000000)\n",
      "Done with (m,u,t) = (2, 1, 1.000000)\n",
      "Done with (m,u,t) = (0, 0, 1.062500)\n",
      "Done with (m,u,t) = (0, 1, 1.062500)\n",
      "Done with (m,u,t) = (1, 0, 1.062500)\n",
      "Done with (m,u,t) = (1, 1, 1.062500)\n",
      "Done with (m,u,t) = (2, 0, 1.062500)\n",
      "Done with (m,u,t) = (2, 1, 1.062500)\n",
      "Done with (m,u,t) = (0, 0, 1.125000)\n",
      "Done with (m,u,t) = (0, 1, 1.125000)\n",
      "Done with (m,u,t) = (1, 0, 1.125000)\n",
      "Done with (m,u,t) = (1, 1, 1.125000)\n",
      "Done with (m,u,t) = (2, 0, 1.125000)\n",
      "Done with (m,u,t) = (2, 1, 1.125000)\n",
      "Done with (m,u,t) = (0, 0, 1.187500)\n",
      "Done with (m,u,t) = (0, 1, 1.187500)\n",
      "Done with (m,u,t) = (1, 0, 1.187500)\n",
      "Done with (m,u,t) = (1, 1, 1.187500)\n",
      "Done with (m,u,t) = (2, 0, 1.187500)\n",
      "Done with (m,u,t) = (2, 1, 1.187500)\n",
      "Done with (m,u,t) = (0, 0, 1.250000)\n",
      "Done with (m,u,t) = (0, 1, 1.250000)\n",
      "Done with (m,u,t) = (1, 0, 1.250000)\n",
      "Done with (m,u,t) = (1, 1, 1.250000)\n",
      "Done with (m,u,t) = (2, 0, 1.250000)\n",
      "Done with (m,u,t) = (2, 1, 1.250000)\n",
      "Done with (m,u,t) = (0, 0, 1.312500)\n",
      "Done with (m,u,t) = (0, 1, 1.312500)\n",
      "Done with (m,u,t) = (1, 0, 1.312500)\n",
      "Done with (m,u,t) = (1, 1, 1.312500)\n",
      "Done with (m,u,t) = (2, 0, 1.312500)\n",
      "Done with (m,u,t) = (2, 1, 1.312500)\n",
      "Done with (m,u,t) = (0, 0, 1.375000)\n",
      "Done with (m,u,t) = (0, 1, 1.375000)\n",
      "Done with (m,u,t) = (1, 0, 1.375000)\n",
      "Done with (m,u,t) = (1, 1, 1.375000)\n",
      "Done with (m,u,t) = (2, 0, 1.375000)\n",
      "Done with (m,u,t) = (2, 1, 1.375000)\n",
      "Done with (m,u,t) = (0, 0, 1.437500)\n",
      "Done with (m,u,t) = (0, 1, 1.437500)\n",
      "Done with (m,u,t) = (1, 0, 1.437500)\n",
      "Done with (m,u,t) = (1, 1, 1.437500)\n",
      "Done with (m,u,t) = (2, 0, 1.437500)\n",
      "Done with (m,u,t) = (2, 1, 1.437500)\n",
      "Done with (m,u,t) = (0, 0, 1.500000)\n",
      "Done with (m,u,t) = (0, 1, 1.500000)\n",
      "Done with (m,u,t) = (1, 0, 1.500000)\n",
      "Done with (m,u,t) = (1, 1, 1.500000)\n",
      "Done with (m,u,t) = (2, 0, 1.500000)\n",
      "Done with (m,u,t) = (2, 1, 1.500000)\n",
      "Done with (m,u,t) = (0, 0, 1.562500)\n",
      "Done with (m,u,t) = (0, 1, 1.562500)\n",
      "Done with (m,u,t) = (1, 0, 1.562500)\n",
      "Done with (m,u,t) = (1, 1, 1.562500)\n",
      "Done with (m,u,t) = (2, 0, 1.562500)\n",
      "Done with (m,u,t) = (2, 1, 1.562500)\n",
      "Done with (m,u,t) = (0, 0, 1.625000)\n",
      "Done with (m,u,t) = (0, 1, 1.625000)\n",
      "Done with (m,u,t) = (1, 0, 1.625000)\n",
      "Done with (m,u,t) = (1, 1, 1.625000)\n",
      "Done with (m,u,t) = (2, 0, 1.625000)\n",
      "Done with (m,u,t) = (2, 1, 1.625000)\n",
      "Done with (m,u,t) = (0, 0, 1.687500)\n",
      "Done with (m,u,t) = (0, 1, 1.687500)\n",
      "Done with (m,u,t) = (1, 0, 1.687500)\n",
      "Done with (m,u,t) = (1, 1, 1.687500)\n",
      "Done with (m,u,t) = (2, 0, 1.687500)\n",
      "Done with (m,u,t) = (2, 1, 1.687500)\n",
      "Done with (m,u,t) = (0, 0, 1.750000)\n",
      "Done with (m,u,t) = (0, 1, 1.750000)\n",
      "Done with (m,u,t) = (1, 0, 1.750000)\n",
      "Done with (m,u,t) = (1, 1, 1.750000)\n",
      "Done with (m,u,t) = (2, 0, 1.750000)\n",
      "Done with (m,u,t) = (2, 1, 1.750000)\n",
      "Done with (m,u,t) = (0, 0, 1.812500)\n",
      "Done with (m,u,t) = (0, 1, 1.812500)\n",
      "Done with (m,u,t) = (1, 0, 1.812500)\n",
      "Done with (m,u,t) = (1, 1, 1.812500)\n",
      "Done with (m,u,t) = (2, 0, 1.812500)\n",
      "Done with (m,u,t) = (2, 1, 1.812500)\n",
      "Done with (m,u,t) = (0, 0, 1.875000)\n",
      "Done with (m,u,t) = (0, 1, 1.875000)\n",
      "Done with (m,u,t) = (1, 0, 1.875000)\n",
      "Done with (m,u,t) = (1, 1, 1.875000)\n",
      "Done with (m,u,t) = (2, 0, 1.875000)\n",
      "Done with (m,u,t) = (2, 1, 1.875000)\n",
      "Done with (m,u,t) = (0, 0, 1.937500)\n",
      "Done with (m,u,t) = (0, 1, 1.937500)\n",
      "Done with (m,u,t) = (1, 0, 1.937500)\n",
      "Done with (m,u,t) = (1, 1, 1.937500)\n",
      "Done with (m,u,t) = (2, 0, 1.937500)\n",
      "Done with (m,u,t) = (2, 1, 1.937500)\n",
      "Done with (m,u,t) = (0, 0, 2.000000)\n",
      "Done with (m,u,t) = (0, 1, 2.000000)\n",
      "Done with (m,u,t) = (1, 0, 2.000000)\n",
      "Done with (m,u,t) = (1, 1, 2.000000)\n",
      "Done with (m,u,t) = (2, 0, 2.000000)\n",
      "Done with (m,u,t) = (2, 1, 2.000000)\n",
      "Done with (m,u,t) = (0, 0, 2.062500)\n",
      "Done with (m,u,t) = (0, 1, 2.062500)\n",
      "Done with (m,u,t) = (1, 0, 2.062500)\n",
      "Done with (m,u,t) = (1, 1, 2.062500)\n",
      "Done with (m,u,t) = (2, 0, 2.062500)\n",
      "Done with (m,u,t) = (2, 1, 2.062500)\n",
      "Done with (m,u,t) = (0, 0, 2.125000)\n",
      "Done with (m,u,t) = (0, 1, 2.125000)\n",
      "Done with (m,u,t) = (1, 0, 2.125000)\n",
      "Done with (m,u,t) = (1, 1, 2.125000)\n",
      "Done with (m,u,t) = (2, 0, 2.125000)\n",
      "Done with (m,u,t) = (2, 1, 2.125000)\n",
      "Done with (m,u,t) = (0, 0, 2.187500)\n",
      "Done with (m,u,t) = (0, 1, 2.187500)\n",
      "Done with (m,u,t) = (1, 0, 2.187500)\n",
      "Done with (m,u,t) = (1, 1, 2.187500)\n",
      "Done with (m,u,t) = (2, 0, 2.187500)\n",
      "Done with (m,u,t) = (2, 1, 2.187500)\n",
      "Done with (m,u,t) = (0, 0, 2.250000)\n",
      "Done with (m,u,t) = (0, 1, 2.250000)\n",
      "Done with (m,u,t) = (1, 0, 2.250000)\n",
      "Done with (m,u,t) = (1, 1, 2.250000)\n",
      "Done with (m,u,t) = (2, 0, 2.250000)\n",
      "Done with (m,u,t) = (2, 1, 2.250000)\n",
      "Done with (m,u,t) = (0, 0, 2.312500)\n",
      "Done with (m,u,t) = (0, 1, 2.312500)\n",
      "Done with (m,u,t) = (1, 0, 2.312500)\n",
      "Done with (m,u,t) = (1, 1, 2.312500)\n",
      "Done with (m,u,t) = (2, 0, 2.312500)\n",
      "Done with (m,u,t) = (2, 1, 2.312500)\n",
      "Done with (m,u,t) = (0, 0, 2.375000)\n",
      "Done with (m,u,t) = (0, 1, 2.375000)\n",
      "Done with (m,u,t) = (1, 0, 2.375000)\n",
      "Done with (m,u,t) = (1, 1, 2.375000)\n",
      "Done with (m,u,t) = (2, 0, 2.375000)\n",
      "Done with (m,u,t) = (2, 1, 2.375000)\n",
      "Done with (m,u,t) = (0, 0, 2.437500)\n",
      "Done with (m,u,t) = (0, 1, 2.437500)\n",
      "Done with (m,u,t) = (1, 0, 2.437500)\n",
      "Done with (m,u,t) = (1, 1, 2.437500)\n",
      "Done with (m,u,t) = (2, 0, 2.437500)\n",
      "Done with (m,u,t) = (2, 1, 2.437500)\n",
      "Done with (m,u,t) = (0, 0, 2.500000)\n",
      "Done with (m,u,t) = (0, 1, 2.500000)\n",
      "Done with (m,u,t) = (1, 0, 2.500000)\n",
      "Done with (m,u,t) = (1, 1, 2.500000)\n",
      "Done with (m,u,t) = (2, 0, 2.500000)\n",
      "Done with (m,u,t) = (2, 1, 2.500000)\n",
      "Done with (m,u,t) = (0, 0, 2.562500)\n",
      "Done with (m,u,t) = (0, 1, 2.562500)\n",
      "Done with (m,u,t) = (1, 0, 2.562500)\n",
      "Done with (m,u,t) = (1, 1, 2.562500)\n",
      "Done with (m,u,t) = (2, 0, 2.562500)\n",
      "Done with (m,u,t) = (2, 1, 2.562500)\n",
      "Done with (m,u,t) = (0, 0, 2.625000)\n",
      "Done with (m,u,t) = (0, 1, 2.625000)\n",
      "Done with (m,u,t) = (1, 0, 2.625000)\n",
      "Done with (m,u,t) = (1, 1, 2.625000)\n",
      "Done with (m,u,t) = (2, 0, 2.625000)\n",
      "Done with (m,u,t) = (2, 1, 2.625000)\n",
      "Done with (m,u,t) = (0, 0, 2.687500)\n",
      "Done with (m,u,t) = (0, 1, 2.687500)\n",
      "Done with (m,u,t) = (1, 0, 2.687500)\n",
      "Done with (m,u,t) = (1, 1, 2.687500)\n",
      "Done with (m,u,t) = (2, 0, 2.687500)\n",
      "Done with (m,u,t) = (2, 1, 2.687500)\n",
      "Done with (m,u,t) = (0, 0, 2.750000)\n",
      "Done with (m,u,t) = (0, 1, 2.750000)\n",
      "Done with (m,u,t) = (1, 0, 2.750000)\n",
      "Done with (m,u,t) = (1, 1, 2.750000)\n",
      "Done with (m,u,t) = (2, 0, 2.750000)\n",
      "Done with (m,u,t) = (2, 1, 2.750000)\n",
      "Done with (m,u,t) = (0, 0, 2.812500)\n",
      "Done with (m,u,t) = (0, 1, 2.812500)\n",
      "Done with (m,u,t) = (1, 0, 2.812500)\n",
      "Done with (m,u,t) = (1, 1, 2.812500)\n",
      "Done with (m,u,t) = (2, 0, 2.812500)\n",
      "Done with (m,u,t) = (2, 1, 2.812500)\n",
      "Done with (m,u,t) = (0, 0, 2.875000)\n",
      "Done with (m,u,t) = (0, 1, 2.875000)\n",
      "Done with (m,u,t) = (1, 0, 2.875000)\n",
      "Done with (m,u,t) = (1, 1, 2.875000)\n",
      "Done with (m,u,t) = (2, 0, 2.875000)\n",
      "Done with (m,u,t) = (2, 1, 2.875000)\n",
      "Done with (m,u,t) = (0, 0, 2.937500)\n",
      "Done with (m,u,t) = (0, 1, 2.937500)\n",
      "Done with (m,u,t) = (1, 0, 2.937500)\n",
      "Done with (m,u,t) = (1, 1, 2.937500)\n",
      "Done with (m,u,t) = (2, 0, 2.937500)\n",
      "Done with (m,u,t) = (2, 1, 2.937500)\n",
      "Done with (m,u,t) = (0, 0, 3.000000)\n",
      "Done with (m,u,t) = (0, 1, 3.000000)\n",
      "Done with (m,u,t) = (1, 0, 3.000000)\n",
      "Done with (m,u,t) = (1, 1, 3.000000)\n",
      "Done with (m,u,t) = (2, 0, 3.000000)\n",
      "Done with (m,u,t) = (2, 1, 3.000000)\n",
      "Done with (m,u,t) = (0, 0, 3.062500)\n",
      "Done with (m,u,t) = (0, 1, 3.062500)\n",
      "Done with (m,u,t) = (1, 0, 3.062500)\n",
      "Done with (m,u,t) = (1, 1, 3.062500)\n",
      "Done with (m,u,t) = (2, 0, 3.062500)\n",
      "Done with (m,u,t) = (2, 1, 3.062500)\n",
      "Done with (m,u,t) = (0, 0, 3.125000)\n",
      "Done with (m,u,t) = (0, 1, 3.125000)\n",
      "Done with (m,u,t) = (1, 0, 3.125000)\n",
      "Done with (m,u,t) = (1, 1, 3.125000)\n",
      "Done with (m,u,t) = (2, 0, 3.125000)\n",
      "Done with (m,u,t) = (2, 1, 3.125000)\n",
      "Done with (m,u,t) = (0, 0, 3.187500)\n",
      "Done with (m,u,t) = (0, 1, 3.187500)\n",
      "Done with (m,u,t) = (1, 0, 3.187500)\n",
      "Done with (m,u,t) = (1, 1, 3.187500)\n",
      "Done with (m,u,t) = (2, 0, 3.187500)\n",
      "Done with (m,u,t) = (2, 1, 3.187500)\n",
      "Done with (m,u,t) = (0, 0, 3.250000)\n",
      "Done with (m,u,t) = (0, 1, 3.250000)\n",
      "Done with (m,u,t) = (1, 0, 3.250000)\n",
      "Done with (m,u,t) = (1, 1, 3.250000)\n",
      "Done with (m,u,t) = (2, 0, 3.250000)\n",
      "Done with (m,u,t) = (2, 1, 3.250000)\n",
      "Done with (m,u,t) = (0, 0, 3.312500)\n",
      "Done with (m,u,t) = (0, 1, 3.312500)\n",
      "Done with (m,u,t) = (1, 0, 3.312500)\n"
     ]
    },
    {
     "name": "stdout",
     "output_type": "stream",
     "text": [
      "Done with (m,u,t) = (1, 1, 3.312500)\n",
      "Done with (m,u,t) = (2, 0, 3.312500)\n",
      "Done with (m,u,t) = (2, 1, 3.312500)\n",
      "Done with (m,u,t) = (0, 0, 3.375000)\n",
      "Done with (m,u,t) = (0, 1, 3.375000)\n",
      "Done with (m,u,t) = (1, 0, 3.375000)\n",
      "Done with (m,u,t) = (1, 1, 3.375000)\n",
      "Done with (m,u,t) = (2, 0, 3.375000)\n",
      "Done with (m,u,t) = (2, 1, 3.375000)\n",
      "Done with (m,u,t) = (0, 0, 3.437500)\n",
      "Done with (m,u,t) = (0, 1, 3.437500)\n",
      "Done with (m,u,t) = (1, 0, 3.437500)\n",
      "Done with (m,u,t) = (1, 1, 3.437500)\n",
      "Done with (m,u,t) = (2, 0, 3.437500)\n",
      "Done with (m,u,t) = (2, 1, 3.437500)\n",
      "Done with (m,u,t) = (0, 0, 3.500000)\n",
      "Done with (m,u,t) = (0, 1, 3.500000)\n",
      "Done with (m,u,t) = (1, 0, 3.500000)\n",
      "Done with (m,u,t) = (1, 1, 3.500000)\n",
      "Done with (m,u,t) = (2, 0, 3.500000)\n",
      "Done with (m,u,t) = (2, 1, 3.500000)\n",
      "Done with (m,u,t) = (0, 0, 3.562500)\n",
      "Done with (m,u,t) = (0, 1, 3.562500)\n",
      "Done with (m,u,t) = (1, 0, 3.562500)\n",
      "Done with (m,u,t) = (1, 1, 3.562500)\n",
      "Done with (m,u,t) = (2, 0, 3.562500)\n",
      "Done with (m,u,t) = (2, 1, 3.562500)\n",
      "Done with (m,u,t) = (0, 0, 3.625000)\n",
      "Done with (m,u,t) = (0, 1, 3.625000)\n",
      "Done with (m,u,t) = (1, 0, 3.625000)\n",
      "Done with (m,u,t) = (1, 1, 3.625000)\n",
      "Done with (m,u,t) = (2, 0, 3.625000)\n",
      "Done with (m,u,t) = (2, 1, 3.625000)\n",
      "Done with (m,u,t) = (0, 0, 3.687500)\n",
      "Done with (m,u,t) = (0, 1, 3.687500)\n",
      "Done with (m,u,t) = (1, 0, 3.687500)\n",
      "Done with (m,u,t) = (1, 1, 3.687500)\n",
      "Done with (m,u,t) = (2, 0, 3.687500)\n",
      "Done with (m,u,t) = (2, 1, 3.687500)\n",
      "Done with (m,u,t) = (0, 0, 3.750000)\n",
      "Done with (m,u,t) = (0, 1, 3.750000)\n",
      "Done with (m,u,t) = (1, 0, 3.750000)\n",
      "Done with (m,u,t) = (1, 1, 3.750000)\n",
      "Done with (m,u,t) = (2, 0, 3.750000)\n",
      "Done with (m,u,t) = (2, 1, 3.750000)\n",
      "Done with (m,u,t) = (0, 0, 3.812500)\n",
      "Done with (m,u,t) = (0, 1, 3.812500)\n",
      "Done with (m,u,t) = (1, 0, 3.812500)\n",
      "Done with (m,u,t) = (1, 1, 3.812500)\n",
      "Done with (m,u,t) = (2, 0, 3.812500)\n",
      "Done with (m,u,t) = (2, 1, 3.812500)\n",
      "Done with (m,u,t) = (0, 0, 3.875000)\n",
      "Done with (m,u,t) = (0, 1, 3.875000)\n",
      "Done with (m,u,t) = (1, 0, 3.875000)\n",
      "Done with (m,u,t) = (1, 1, 3.875000)\n",
      "Done with (m,u,t) = (2, 0, 3.875000)\n",
      "Done with (m,u,t) = (2, 1, 3.875000)\n",
      "Done with (m,u,t) = (0, 0, 3.937500)\n",
      "Done with (m,u,t) = (0, 1, 3.937500)\n",
      "Done with (m,u,t) = (1, 0, 3.937500)\n",
      "Done with (m,u,t) = (1, 1, 3.937500)\n",
      "Done with (m,u,t) = (2, 0, 3.937500)\n",
      "Done with (m,u,t) = (2, 1, 3.937500)\n",
      "Done with (m,u,t) = (0, 0, 4.000000)\n",
      "Done with (m,u,t) = (0, 1, 4.000000)\n",
      "Done with (m,u,t) = (1, 0, 4.000000)\n",
      "Done with (m,u,t) = (1, 1, 4.000000)\n",
      "Done with (m,u,t) = (2, 0, 4.000000)\n",
      "Done with (m,u,t) = (2, 1, 4.000000)\n",
      "Done with (m,u,t) = (0, 0, 4.062500)\n",
      "Done with (m,u,t) = (0, 1, 4.062500)\n",
      "Done with (m,u,t) = (1, 0, 4.062500)\n",
      "Done with (m,u,t) = (1, 1, 4.062500)\n",
      "Done with (m,u,t) = (2, 0, 4.062500)\n",
      "Done with (m,u,t) = (2, 1, 4.062500)\n",
      "Done with (m,u,t) = (0, 0, 4.125000)\n",
      "Done with (m,u,t) = (0, 1, 4.125000)\n",
      "Done with (m,u,t) = (1, 0, 4.125000)\n",
      "Done with (m,u,t) = (1, 1, 4.125000)\n",
      "Done with (m,u,t) = (2, 0, 4.125000)\n",
      "Done with (m,u,t) = (2, 1, 4.125000)\n",
      "Done with (m,u,t) = (0, 0, 4.187500)\n",
      "Done with (m,u,t) = (0, 1, 4.187500)\n",
      "Done with (m,u,t) = (1, 0, 4.187500)\n",
      "Done with (m,u,t) = (1, 1, 4.187500)\n",
      "Done with (m,u,t) = (2, 0, 4.187500)\n",
      "Done with (m,u,t) = (2, 1, 4.187500)\n",
      "Done with (m,u,t) = (0, 0, 4.250000)\n",
      "Done with (m,u,t) = (0, 1, 4.250000)\n",
      "Done with (m,u,t) = (1, 0, 4.250000)\n",
      "Done with (m,u,t) = (1, 1, 4.250000)\n",
      "Done with (m,u,t) = (2, 0, 4.250000)\n",
      "Done with (m,u,t) = (2, 1, 4.250000)\n",
      "Done with (m,u,t) = (0, 0, 4.312500)\n",
      "Done with (m,u,t) = (0, 1, 4.312500)\n",
      "Done with (m,u,t) = (1, 0, 4.312500)\n",
      "Done with (m,u,t) = (1, 1, 4.312500)\n",
      "Done with (m,u,t) = (2, 0, 4.312500)\n",
      "Done with (m,u,t) = (2, 1, 4.312500)\n",
      "Done with (m,u,t) = (0, 0, 4.375000)\n",
      "Done with (m,u,t) = (0, 1, 4.375000)\n",
      "Done with (m,u,t) = (1, 0, 4.375000)\n",
      "Done with (m,u,t) = (1, 1, 4.375000)\n",
      "Done with (m,u,t) = (2, 0, 4.375000)\n",
      "Done with (m,u,t) = (2, 1, 4.375000)\n",
      "Done with (m,u,t) = (0, 0, 4.437500)\n",
      "Done with (m,u,t) = (0, 1, 4.437500)\n",
      "Done with (m,u,t) = (1, 0, 4.437500)\n"
     ]
    },
    {
     "ename": "RuntimeError",
     "evalue": "All particle weights are zero.",
     "output_type": "error",
     "traceback": [
      "\u001b[0;31m---------------------------------------------------------------------------\u001b[0m",
      "\u001b[0;31mRuntimeError\u001b[0m                              Traceback (most recent call last)",
      "\u001b[0;32m<ipython-input-45-64c471f10d29>\u001b[0m in \u001b[0;36m<module>\u001b[0;34m\u001b[0m\n\u001b[1;32m      9\u001b[0m             \u001b[0mexperiment\u001b[0m \u001b[0;34m=\u001b[0m \u001b[0mnp\u001b[0m\u001b[0;34m.\u001b[0m\u001b[0marray\u001b[0m\u001b[0;34m(\u001b[0m\u001b[0;34m[\u001b[0m\u001b[0;34m(\u001b[0m\u001b[0mm\u001b[0m\u001b[0;34m,\u001b[0m \u001b[0mu\u001b[0m\u001b[0;34m,\u001b[0m \u001b[0mt\u001b[0m\u001b[0;34m,\u001b[0m \u001b[0mn_shots\u001b[0m\u001b[0;34m)\u001b[0m\u001b[0;34m]\u001b[0m\u001b[0;34m,\u001b[0m \u001b[0mdtype\u001b[0m\u001b[0;34m=\u001b[0m\u001b[0msys_model\u001b[0m\u001b[0;34m.\u001b[0m\u001b[0mexpparams_dtype\u001b[0m\u001b[0;34m)\u001b[0m\u001b[0;34m\u001b[0m\u001b[0;34m\u001b[0m\u001b[0m\n\u001b[1;32m     10\u001b[0m             \u001b[0moutcomes\u001b[0m \u001b[0;34m=\u001b[0m \u001b[0msys_model\u001b[0m\u001b[0;34m.\u001b[0m\u001b[0msimulate_experiment\u001b[0m\u001b[0;34m(\u001b[0m\u001b[0mJ_truth_nd\u001b[0m\u001b[0;34m,\u001b[0m \u001b[0mexperiment\u001b[0m\u001b[0;34m)\u001b[0m\u001b[0;34m\u001b[0m\u001b[0;34m\u001b[0m\u001b[0m\n\u001b[0;32m---> 11\u001b[0;31m             \u001b[0mupdater\u001b[0m\u001b[0;34m.\u001b[0m\u001b[0mupdate\u001b[0m\u001b[0;34m(\u001b[0m\u001b[0moutcomes\u001b[0m\u001b[0;34m,\u001b[0m \u001b[0mexperiment\u001b[0m\u001b[0;34m)\u001b[0m\u001b[0;34m\u001b[0m\u001b[0;34m\u001b[0m\u001b[0m\n\u001b[0m\u001b[1;32m     12\u001b[0m \u001b[0;34m\u001b[0m\u001b[0m\n\u001b[1;32m     13\u001b[0m             \u001b[0mcum_shots_counter\u001b[0m \u001b[0;34m+=\u001b[0m \u001b[0mn_shots\u001b[0m\u001b[0;34m\u001b[0m\u001b[0;34m\u001b[0m\u001b[0m\n",
      "\u001b[0;32m~/miniconda3/envs/active-qinfer-hl-env/lib/python3.6/site-packages/qinfer/smc.py\u001b[0m in \u001b[0;36mupdate\u001b[0;34m(self, outcome, expparams, check_for_resample)\u001b[0m\n\u001b[1;32m    441\u001b[0m                 \u001b[0mwarnings\u001b[0m\u001b[0;34m.\u001b[0m\u001b[0mwarn\u001b[0m\u001b[0;34m(\u001b[0m\u001b[0;34m\"All particle weights are zero. This will very likely fail quite badly.\"\u001b[0m\u001b[0;34m,\u001b[0m \u001b[0mApproximationWarning\u001b[0m\u001b[0;34m)\u001b[0m\u001b[0;34m\u001b[0m\u001b[0;34m\u001b[0m\u001b[0m\n\u001b[1;32m    442\u001b[0m             \u001b[0;32melif\u001b[0m \u001b[0mself\u001b[0m\u001b[0;34m.\u001b[0m\u001b[0m_zero_weight_policy\u001b[0m \u001b[0;34m==\u001b[0m \u001b[0;34m'error'\u001b[0m\u001b[0;34m:\u001b[0m\u001b[0;34m\u001b[0m\u001b[0;34m\u001b[0m\u001b[0m\n\u001b[0;32m--> 443\u001b[0;31m                 \u001b[0;32mraise\u001b[0m \u001b[0mRuntimeError\u001b[0m\u001b[0;34m(\u001b[0m\u001b[0;34m\"All particle weights are zero.\"\u001b[0m\u001b[0;34m)\u001b[0m\u001b[0;34m\u001b[0m\u001b[0;34m\u001b[0m\u001b[0m\n\u001b[0m\u001b[1;32m    444\u001b[0m             \u001b[0;32melif\u001b[0m \u001b[0mself\u001b[0m\u001b[0;34m.\u001b[0m\u001b[0m_zero_weight_policy\u001b[0m \u001b[0;34m==\u001b[0m \u001b[0;34m'reset'\u001b[0m\u001b[0;34m:\u001b[0m\u001b[0;34m\u001b[0m\u001b[0;34m\u001b[0m\u001b[0m\n\u001b[1;32m    445\u001b[0m                 \u001b[0mwarnings\u001b[0m\u001b[0;34m.\u001b[0m\u001b[0mwarn\u001b[0m\u001b[0;34m(\u001b[0m\u001b[0;34m\"All particle weights are zero. Resetting from initial prior.\"\u001b[0m\u001b[0;34m,\u001b[0m \u001b[0mApproximationWarning\u001b[0m\u001b[0;34m)\u001b[0m\u001b[0;34m\u001b[0m\u001b[0;34m\u001b[0m\u001b[0m\n",
      "\u001b[0;31mRuntimeError\u001b[0m: All particle weights are zero."
     ]
    }
   ],
   "source": [
    "# Multiple shots at each (M, U, t)\n",
    "est_hist = []\n",
    "cum_shots = []\n",
    "\n",
    "cum_shots_counter = 0\n",
    "for t in tvec:\n",
    "    for m in mvec:\n",
    "        for u in uvec:\n",
    "            experiment = np.array([(m, u, t, n_shots)], dtype=sys_model.expparams_dtype)\n",
    "            outcomes = sys_model.simulate_experiment(J_truth_nd, experiment)\n",
    "            updater.update(outcomes, experiment)\n",
    "            \n",
    "            cum_shots_counter += n_shots\n",
    "    \n",
    "            print('Done with (m,u,t) = (%d, %d, %f)' %(m, u, t))\n",
    "    \n",
    "    est_hist.append(updater.est_mean())\n",
    "    cum_shots.append(cum_shots_counter)"
   ]
  },
  {
   "cell_type": "code",
   "execution_count": null,
   "id": "cc2f5b31",
   "metadata": {},
   "outputs": [],
   "source": [
    "# 10000 particles\n",
    "plt.plot(cum_shots, est_hist, label='Est.')\n",
    "plt.hlines(J_truth_nd, np.amin(cum_shots), np.amax(cum_shots), label='True')\n",
    "plt.legend(ncol=2)\n",
    "plt.xlabel('Number of samples')\n",
    "plt.ylabel(r'$J$ parameters')"
   ]
  },
  {
   "cell_type": "code",
   "execution_count": 42,
   "id": "53e96927",
   "metadata": {},
   "outputs": [
    {
     "data": {
      "text/plain": [
       "Text(0, 0.5, '$J$ parameters')"
      ]
     },
     "execution_count": 42,
     "metadata": {},
     "output_type": "execute_result"
    },
    {
     "data": {
      "image/png": "[encoded data removed]",
      "text/plain": [
       "<Figure size 432x288 with 1 Axes>"
      ]
     },
     "metadata": {},
     "output_type": "display_data"
    }
   ],
   "source": [
    "# 5000 particles\n",
    "plt.plot(cum_shots, est_hist, label='Est.')\n",
    "plt.hlines(J_truth_nd, np.amin(cum_shots), np.amax(cum_shots), label='True')\n",
    "plt.legend(ncol=2)\n",
    "plt.xlabel('Number of samples')\n",
    "plt.ylabel(r'$J$ parameters')"
   ]
  },
  {
   "cell_type": "code",
   "execution_count": 60,
   "id": "a9696d61",
   "metadata": {},
   "outputs": [
    {
     "data": {
      "text/plain": [
       "array([-4.62693928, -1.55770338, -0.05670002,  6.58558695,  1.46437942,\n",
       "        0.23827158])"
      ]
     },
     "execution_count": 60,
     "metadata": {},
     "output_type": "execute_result"
    }
   ],
   "source": [
    "updater.est_mean()"
   ]
  },
  {
   "cell_type": "code",
   "execution_count": 61,
   "id": "f0ef0dd3",
   "metadata": {},
   "outputs": [
    {
     "data": {
      "text/plain": [
       "array([[-4.61029049, -1.47995676, -0.22980081,  6.60852059,  1.46051649,\n",
       "         0.33645101]])"
      ]
     },
     "execution_count": 61,
     "metadata": {},
     "output_type": "execute_result"
    }
   ],
   "source": [
    "J_truth_nd"
   ]
  },
  {
   "cell_type": "markdown",
   "id": "6d3bb540",
   "metadata": {},
   "source": [
    "# 5. Noisy CR Hamiltonian"
   ]
  },
  {
   "cell_type": "code",
   "execution_count": 17,
   "id": "d925281d",
   "metadata": {},
   "outputs": [],
   "source": [
    "from bayesianhl.qinfer_cr_hamiltonians import NoisyCRHamiltonian"
   ]
  },
  {
   "cell_type": "code",
   "execution_count": 18,
   "id": "d12b63d2",
   "metadata": {},
   "outputs": [],
   "source": [
    "# Define quantum system model\n",
    "n_J = 6\n",
    "xi_J = 1e6*np.ones((n_J,))\n",
    "xi_t = 1e-7\n",
    "\n",
    "sys_model = BinomialModel(NoisyCRHamiltonian(xi_J=xi_J, xi_t=xi_t, FLAG_control_noise=True))"
   ]
  },
  {
   "cell_type": "code",
   "execution_count": 19,
   "id": "af841d5b",
   "metadata": {},
   "outputs": [],
   "source": [
    "# Define the true parameters\n",
    "J_truth = np.array([[-4610290.4944338, -1479956.7612268,  -229800.80519662,\n",
    "                    6608520.58971551,  1460516.49322424,   336451.01484356]])\n",
    "\n",
    "# This is what we will actually run with -- non-dimensional parameters \n",
    "J_truth_nd = J_truth/xi_J"
   ]
  },
  {
   "cell_type": "code",
   "execution_count": 20,
   "id": "d0ee6fcc",
   "metadata": {},
   "outputs": [
    {
     "data": {
      "text/plain": [
       "array([[-4.61029049, -1.47995676, -0.22980081,  6.60852059,  1.46051649,\n",
       "         0.33645101]])"
      ]
     },
     "execution_count": 20,
     "metadata": {},
     "output_type": "execute_result"
    }
   ],
   "source": [
    "# Note that we have all components within [-10,10]\n",
    "J_truth_nd"
   ]
  },
  {
   "cell_type": "code",
   "execution_count": 21,
   "id": "b12aa7e2",
   "metadata": {},
   "outputs": [],
   "source": [
    "# Lets try this with an estimator\n",
    "Jmin = -10\n",
    "Jmax = 10\n",
    "n_particles = 5000\n",
    "\n",
    "prior = UniformDistribution([[Jmin, Jmax]]*n_J)\n",
    "updater = SMCUpdater(sys_model, n_particles, prior)"
   ]
  },
  {
   "cell_type": "code",
   "execution_count": 22,
   "id": "5a7f56c1",
   "metadata": {},
   "outputs": [],
   "source": [
    "# Define the experiments\n",
    "tvec = np.linspace(1, 6, 81)\n",
    "mvec = [0, 1, 2]\n",
    "uvec = [0, 1]\n",
    "\n",
    "n_shots = 100"
   ]
  },
  {
   "cell_type": "code",
   "execution_count": 23,
   "id": "958f824f",
   "metadata": {},
   "outputs": [
    {
     "name": "stderr",
     "output_type": "stream",
     "text": [
      "/Users/arkopal/miniconda3/envs/qinfer-hl-env/lib/python3.6/site-packages/ipykernel_launcher.py:9: FutureWarning: Passing (type, 1) or '1type' as a synonym of type is deprecated; in a future version of numpy, it will be understood as (type, (1,)) / '(1,)type'.\n",
      "  if __name__ == '__main__':\n",
      "/Users/arkopal/miniconda3/envs/qinfer-hl-env/lib/python3.6/site-packages/qinfer/resamplers.py:349: ResamplerWarning: Liu-West resampling failed to find valid models for 5000 particles within 1000 iterations.\n",
      "  ).format(idxs_to_resample.size, self._maxiter), ResamplerWarning)\n"
     ]
    },
    {
     "name": "stdout",
     "output_type": "stream",
     "text": [
      "Done with (m,u,t) = (0, 0, 1.000000)\n",
      "Done with (m,u,t) = (0, 1, 1.000000)\n",
      "Done with (m,u,t) = (1, 0, 1.000000)\n",
      "Done with (m,u,t) = (1, 1, 1.000000)\n",
      "Done with (m,u,t) = (2, 0, 1.000000)\n",
      "Done with (m,u,t) = (2, 1, 1.000000)\n",
      "Done with (m,u,t) = (0, 0, 1.062500)\n",
      "Done with (m,u,t) = (0, 1, 1.062500)\n",
      "Done with (m,u,t) = (1, 0, 1.062500)\n",
      "Done with (m,u,t) = (1, 1, 1.062500)\n",
      "Done with (m,u,t) = (2, 0, 1.062500)\n",
      "Done with (m,u,t) = (2, 1, 1.062500)\n",
      "Done with (m,u,t) = (0, 0, 1.125000)\n",
      "Done with (m,u,t) = (0, 1, 1.125000)\n",
      "Done with (m,u,t) = (1, 0, 1.125000)\n",
      "Done with (m,u,t) = (1, 1, 1.125000)\n",
      "Done with (m,u,t) = (2, 0, 1.125000)\n",
      "Done with (m,u,t) = (2, 1, 1.125000)\n",
      "Done with (m,u,t) = (0, 0, 1.187500)\n",
      "Done with (m,u,t) = (0, 1, 1.187500)\n",
      "Done with (m,u,t) = (1, 0, 1.187500)\n",
      "Done with (m,u,t) = (1, 1, 1.187500)\n",
      "Done with (m,u,t) = (2, 0, 1.187500)\n",
      "Done with (m,u,t) = (2, 1, 1.187500)\n",
      "Done with (m,u,t) = (0, 0, 1.250000)\n",
      "Done with (m,u,t) = (0, 1, 1.250000)\n",
      "Done with (m,u,t) = (1, 0, 1.250000)\n",
      "Done with (m,u,t) = (1, 1, 1.250000)\n",
      "Done with (m,u,t) = (2, 0, 1.250000)\n",
      "Done with (m,u,t) = (2, 1, 1.250000)\n",
      "Done with (m,u,t) = (0, 0, 1.312500)\n",
      "Done with (m,u,t) = (0, 1, 1.312500)\n",
      "Done with (m,u,t) = (1, 0, 1.312500)\n",
      "Done with (m,u,t) = (1, 1, 1.312500)\n",
      "Done with (m,u,t) = (2, 0, 1.312500)\n",
      "Done with (m,u,t) = (2, 1, 1.312500)\n",
      "Done with (m,u,t) = (0, 0, 1.375000)\n",
      "Done with (m,u,t) = (0, 1, 1.375000)\n",
      "Done with (m,u,t) = (1, 0, 1.375000)\n",
      "Done with (m,u,t) = (1, 1, 1.375000)\n",
      "Done with (m,u,t) = (2, 0, 1.375000)\n",
      "Done with (m,u,t) = (2, 1, 1.375000)\n",
      "Done with (m,u,t) = (0, 0, 1.437500)\n",
      "Done with (m,u,t) = (0, 1, 1.437500)\n",
      "Done with (m,u,t) = (1, 0, 1.437500)\n",
      "Done with (m,u,t) = (1, 1, 1.437500)\n",
      "Done with (m,u,t) = (2, 0, 1.437500)\n",
      "Done with (m,u,t) = (2, 1, 1.437500)\n",
      "Done with (m,u,t) = (0, 0, 1.500000)\n",
      "Done with (m,u,t) = (0, 1, 1.500000)\n",
      "Done with (m,u,t) = (1, 0, 1.500000)\n",
      "Done with (m,u,t) = (1, 1, 1.500000)\n",
      "Done with (m,u,t) = (2, 0, 1.500000)\n",
      "Done with (m,u,t) = (2, 1, 1.500000)\n",
      "Done with (m,u,t) = (0, 0, 1.562500)\n",
      "Done with (m,u,t) = (0, 1, 1.562500)\n",
      "Done with (m,u,t) = (1, 0, 1.562500)\n",
      "Done with (m,u,t) = (1, 1, 1.562500)\n",
      "Done with (m,u,t) = (2, 0, 1.562500)\n",
      "Done with (m,u,t) = (2, 1, 1.562500)\n",
      "Done with (m,u,t) = (0, 0, 1.625000)\n",
      "Done with (m,u,t) = (0, 1, 1.625000)\n",
      "Done with (m,u,t) = (1, 0, 1.625000)\n",
      "Done with (m,u,t) = (1, 1, 1.625000)\n",
      "Done with (m,u,t) = (2, 0, 1.625000)\n",
      "Done with (m,u,t) = (2, 1, 1.625000)\n",
      "Done with (m,u,t) = (0, 0, 1.687500)\n",
      "Done with (m,u,t) = (0, 1, 1.687500)\n",
      "Done with (m,u,t) = (1, 0, 1.687500)\n",
      "Done with (m,u,t) = (1, 1, 1.687500)\n",
      "Done with (m,u,t) = (2, 0, 1.687500)\n",
      "Done with (m,u,t) = (2, 1, 1.687500)\n",
      "Done with (m,u,t) = (0, 0, 1.750000)\n",
      "Done with (m,u,t) = (0, 1, 1.750000)\n",
      "Done with (m,u,t) = (1, 0, 1.750000)\n",
      "Done with (m,u,t) = (1, 1, 1.750000)\n",
      "Done with (m,u,t) = (2, 0, 1.750000)\n",
      "Done with (m,u,t) = (2, 1, 1.750000)\n",
      "Done with (m,u,t) = (0, 0, 1.812500)\n",
      "Done with (m,u,t) = (0, 1, 1.812500)\n",
      "Done with (m,u,t) = (1, 0, 1.812500)\n",
      "Done with (m,u,t) = (1, 1, 1.812500)\n",
      "Done with (m,u,t) = (2, 0, 1.812500)\n",
      "Done with (m,u,t) = (2, 1, 1.812500)\n",
      "Done with (m,u,t) = (0, 0, 1.875000)\n",
      "Done with (m,u,t) = (0, 1, 1.875000)\n",
      "Done with (m,u,t) = (1, 0, 1.875000)\n",
      "Done with (m,u,t) = (1, 1, 1.875000)\n",
      "Done with (m,u,t) = (2, 0, 1.875000)\n",
      "Done with (m,u,t) = (2, 1, 1.875000)\n",
      "Done with (m,u,t) = (0, 0, 1.937500)\n",
      "Done with (m,u,t) = (0, 1, 1.937500)\n",
      "Done with (m,u,t) = (1, 0, 1.937500)\n",
      "Done with (m,u,t) = (1, 1, 1.937500)\n",
      "Done with (m,u,t) = (2, 0, 1.937500)\n",
      "Done with (m,u,t) = (2, 1, 1.937500)\n",
      "Done with (m,u,t) = (0, 0, 2.000000)\n",
      "Done with (m,u,t) = (0, 1, 2.000000)\n",
      "Done with (m,u,t) = (1, 0, 2.000000)\n",
      "Done with (m,u,t) = (1, 1, 2.000000)\n",
      "Done with (m,u,t) = (2, 0, 2.000000)\n",
      "Done with (m,u,t) = (2, 1, 2.000000)\n",
      "Done with (m,u,t) = (0, 0, 2.062500)\n",
      "Done with (m,u,t) = (0, 1, 2.062500)\n",
      "Done with (m,u,t) = (1, 0, 2.062500)\n",
      "Done with (m,u,t) = (1, 1, 2.062500)\n",
      "Done with (m,u,t) = (2, 0, 2.062500)\n",
      "Done with (m,u,t) = (2, 1, 2.062500)\n",
      "Done with (m,u,t) = (0, 0, 2.125000)\n",
      "Done with (m,u,t) = (0, 1, 2.125000)\n",
      "Done with (m,u,t) = (1, 0, 2.125000)\n",
      "Done with (m,u,t) = (1, 1, 2.125000)\n",
      "Done with (m,u,t) = (2, 0, 2.125000)\n",
      "Done with (m,u,t) = (2, 1, 2.125000)\n",
      "Done with (m,u,t) = (0, 0, 2.187500)\n",
      "Done with (m,u,t) = (0, 1, 2.187500)\n",
      "Done with (m,u,t) = (1, 0, 2.187500)\n",
      "Done with (m,u,t) = (1, 1, 2.187500)\n",
      "Done with (m,u,t) = (2, 0, 2.187500)\n",
      "Done with (m,u,t) = (2, 1, 2.187500)\n",
      "Done with (m,u,t) = (0, 0, 2.250000)\n",
      "Done with (m,u,t) = (0, 1, 2.250000)\n",
      "Done with (m,u,t) = (1, 0, 2.250000)\n",
      "Done with (m,u,t) = (1, 1, 2.250000)\n",
      "Done with (m,u,t) = (2, 0, 2.250000)\n",
      "Done with (m,u,t) = (2, 1, 2.250000)\n",
      "Done with (m,u,t) = (0, 0, 2.312500)\n",
      "Done with (m,u,t) = (0, 1, 2.312500)\n",
      "Done with (m,u,t) = (1, 0, 2.312500)\n",
      "Done with (m,u,t) = (1, 1, 2.312500)\n",
      "Done with (m,u,t) = (2, 0, 2.312500)\n",
      "Done with (m,u,t) = (2, 1, 2.312500)\n",
      "Done with (m,u,t) = (0, 0, 2.375000)\n",
      "Done with (m,u,t) = (0, 1, 2.375000)\n",
      "Done with (m,u,t) = (1, 0, 2.375000)\n",
      "Done with (m,u,t) = (1, 1, 2.375000)\n",
      "Done with (m,u,t) = (2, 0, 2.375000)\n",
      "Done with (m,u,t) = (2, 1, 2.375000)\n",
      "Done with (m,u,t) = (0, 0, 2.437500)\n",
      "Done with (m,u,t) = (0, 1, 2.437500)\n",
      "Done with (m,u,t) = (1, 0, 2.437500)\n",
      "Done with (m,u,t) = (1, 1, 2.437500)\n",
      "Done with (m,u,t) = (2, 0, 2.437500)\n",
      "Done with (m,u,t) = (2, 1, 2.437500)\n",
      "Done with (m,u,t) = (0, 0, 2.500000)\n",
      "Done with (m,u,t) = (0, 1, 2.500000)\n",
      "Done with (m,u,t) = (1, 0, 2.500000)\n",
      "Done with (m,u,t) = (1, 1, 2.500000)\n",
      "Done with (m,u,t) = (2, 0, 2.500000)\n",
      "Done with (m,u,t) = (2, 1, 2.500000)\n",
      "Done with (m,u,t) = (0, 0, 2.562500)\n",
      "Done with (m,u,t) = (0, 1, 2.562500)\n",
      "Done with (m,u,t) = (1, 0, 2.562500)\n",
      "Done with (m,u,t) = (1, 1, 2.562500)\n",
      "Done with (m,u,t) = (2, 0, 2.562500)\n",
      "Done with (m,u,t) = (2, 1, 2.562500)\n",
      "Done with (m,u,t) = (0, 0, 2.625000)\n",
      "Done with (m,u,t) = (0, 1, 2.625000)\n",
      "Done with (m,u,t) = (1, 0, 2.625000)\n",
      "Done with (m,u,t) = (1, 1, 2.625000)\n",
      "Done with (m,u,t) = (2, 0, 2.625000)\n",
      "Done with (m,u,t) = (2, 1, 2.625000)\n",
      "Done with (m,u,t) = (0, 0, 2.687500)\n",
      "Done with (m,u,t) = (0, 1, 2.687500)\n",
      "Done with (m,u,t) = (1, 0, 2.687500)\n",
      "Done with (m,u,t) = (1, 1, 2.687500)\n",
      "Done with (m,u,t) = (2, 0, 2.687500)\n",
      "Done with (m,u,t) = (2, 1, 2.687500)\n",
      "Done with (m,u,t) = (0, 0, 2.750000)\n",
      "Done with (m,u,t) = (0, 1, 2.750000)\n",
      "Done with (m,u,t) = (1, 0, 2.750000)\n",
      "Done with (m,u,t) = (1, 1, 2.750000)\n",
      "Done with (m,u,t) = (2, 0, 2.750000)\n",
      "Done with (m,u,t) = (2, 1, 2.750000)\n",
      "Done with (m,u,t) = (0, 0, 2.812500)\n",
      "Done with (m,u,t) = (0, 1, 2.812500)\n",
      "Done with (m,u,t) = (1, 0, 2.812500)\n",
      "Done with (m,u,t) = (1, 1, 2.812500)\n",
      "Done with (m,u,t) = (2, 0, 2.812500)\n",
      "Done with (m,u,t) = (2, 1, 2.812500)\n",
      "Done with (m,u,t) = (0, 0, 2.875000)\n",
      "Done with (m,u,t) = (0, 1, 2.875000)\n",
      "Done with (m,u,t) = (1, 0, 2.875000)\n",
      "Done with (m,u,t) = (1, 1, 2.875000)\n",
      "Done with (m,u,t) = (2, 0, 2.875000)\n",
      "Done with (m,u,t) = (2, 1, 2.875000)\n",
      "Done with (m,u,t) = (0, 0, 2.937500)\n",
      "Done with (m,u,t) = (0, 1, 2.937500)\n",
      "Done with (m,u,t) = (1, 0, 2.937500)\n",
      "Done with (m,u,t) = (1, 1, 2.937500)\n",
      "Done with (m,u,t) = (2, 0, 2.937500)\n",
      "Done with (m,u,t) = (2, 1, 2.937500)\n",
      "Done with (m,u,t) = (0, 0, 3.000000)\n",
      "Done with (m,u,t) = (0, 1, 3.000000)\n",
      "Done with (m,u,t) = (1, 0, 3.000000)\n",
      "Done with (m,u,t) = (1, 1, 3.000000)\n",
      "Done with (m,u,t) = (2, 0, 3.000000)\n",
      "Done with (m,u,t) = (2, 1, 3.000000)\n",
      "Done with (m,u,t) = (0, 0, 3.062500)\n",
      "Done with (m,u,t) = (0, 1, 3.062500)\n",
      "Done with (m,u,t) = (1, 0, 3.062500)\n",
      "Done with (m,u,t) = (1, 1, 3.062500)\n",
      "Done with (m,u,t) = (2, 0, 3.062500)\n",
      "Done with (m,u,t) = (2, 1, 3.062500)\n",
      "Done with (m,u,t) = (0, 0, 3.125000)\n",
      "Done with (m,u,t) = (0, 1, 3.125000)\n",
      "Done with (m,u,t) = (1, 0, 3.125000)\n",
      "Done with (m,u,t) = (1, 1, 3.125000)\n",
      "Done with (m,u,t) = (2, 0, 3.125000)\n",
      "Done with (m,u,t) = (2, 1, 3.125000)\n",
      "Done with (m,u,t) = (0, 0, 3.187500)\n",
      "Done with (m,u,t) = (0, 1, 3.187500)\n",
      "Done with (m,u,t) = (1, 0, 3.187500)\n",
      "Done with (m,u,t) = (1, 1, 3.187500)\n",
      "Done with (m,u,t) = (2, 0, 3.187500)\n",
      "Done with (m,u,t) = (2, 1, 3.187500)\n",
      "Done with (m,u,t) = (0, 0, 3.250000)\n",
      "Done with (m,u,t) = (0, 1, 3.250000)\n",
      "Done with (m,u,t) = (1, 0, 3.250000)\n",
      "Done with (m,u,t) = (1, 1, 3.250000)\n",
      "Done with (m,u,t) = (2, 0, 3.250000)\n",
      "Done with (m,u,t) = (2, 1, 3.250000)\n"
     ]
    },
    {
     "name": "stdout",
     "output_type": "stream",
     "text": [
      "Done with (m,u,t) = (0, 0, 3.312500)\n",
      "Done with (m,u,t) = (0, 1, 3.312500)\n",
      "Done with (m,u,t) = (1, 0, 3.312500)\n",
      "Done with (m,u,t) = (1, 1, 3.312500)\n",
      "Done with (m,u,t) = (2, 0, 3.312500)\n",
      "Done with (m,u,t) = (2, 1, 3.312500)\n",
      "Done with (m,u,t) = (0, 0, 3.375000)\n",
      "Done with (m,u,t) = (0, 1, 3.375000)\n",
      "Done with (m,u,t) = (1, 0, 3.375000)\n",
      "Done with (m,u,t) = (1, 1, 3.375000)\n",
      "Done with (m,u,t) = (2, 0, 3.375000)\n",
      "Done with (m,u,t) = (2, 1, 3.375000)\n",
      "Done with (m,u,t) = (0, 0, 3.437500)\n",
      "Done with (m,u,t) = (0, 1, 3.437500)\n",
      "Done with (m,u,t) = (1, 0, 3.437500)\n",
      "Done with (m,u,t) = (1, 1, 3.437500)\n",
      "Done with (m,u,t) = (2, 0, 3.437500)\n",
      "Done with (m,u,t) = (2, 1, 3.437500)\n",
      "Done with (m,u,t) = (0, 0, 3.500000)\n",
      "Done with (m,u,t) = (0, 1, 3.500000)\n",
      "Done with (m,u,t) = (1, 0, 3.500000)\n",
      "Done with (m,u,t) = (1, 1, 3.500000)\n",
      "Done with (m,u,t) = (2, 0, 3.500000)\n",
      "Done with (m,u,t) = (2, 1, 3.500000)\n",
      "Done with (m,u,t) = (0, 0, 3.562500)\n",
      "Done with (m,u,t) = (0, 1, 3.562500)\n",
      "Done with (m,u,t) = (1, 0, 3.562500)\n",
      "Done with (m,u,t) = (1, 1, 3.562500)\n",
      "Done with (m,u,t) = (2, 0, 3.562500)\n",
      "Done with (m,u,t) = (2, 1, 3.562500)\n",
      "Done with (m,u,t) = (0, 0, 3.625000)\n",
      "Done with (m,u,t) = (0, 1, 3.625000)\n",
      "Done with (m,u,t) = (1, 0, 3.625000)\n",
      "Done with (m,u,t) = (1, 1, 3.625000)\n",
      "Done with (m,u,t) = (2, 0, 3.625000)\n",
      "Done with (m,u,t) = (2, 1, 3.625000)\n",
      "Done with (m,u,t) = (0, 0, 3.687500)\n",
      "Done with (m,u,t) = (0, 1, 3.687500)\n",
      "Done with (m,u,t) = (1, 0, 3.687500)\n",
      "Done with (m,u,t) = (1, 1, 3.687500)\n",
      "Done with (m,u,t) = (2, 0, 3.687500)\n",
      "Done with (m,u,t) = (2, 1, 3.687500)\n",
      "Done with (m,u,t) = (0, 0, 3.750000)\n",
      "Done with (m,u,t) = (0, 1, 3.750000)\n",
      "Done with (m,u,t) = (1, 0, 3.750000)\n",
      "Done with (m,u,t) = (1, 1, 3.750000)\n",
      "Done with (m,u,t) = (2, 0, 3.750000)\n",
      "Done with (m,u,t) = (2, 1, 3.750000)\n",
      "Done with (m,u,t) = (0, 0, 3.812500)\n",
      "Done with (m,u,t) = (0, 1, 3.812500)\n",
      "Done with (m,u,t) = (1, 0, 3.812500)\n",
      "Done with (m,u,t) = (1, 1, 3.812500)\n",
      "Done with (m,u,t) = (2, 0, 3.812500)\n",
      "Done with (m,u,t) = (2, 1, 3.812500)\n",
      "Done with (m,u,t) = (0, 0, 3.875000)\n",
      "Done with (m,u,t) = (0, 1, 3.875000)\n",
      "Done with (m,u,t) = (1, 0, 3.875000)\n",
      "Done with (m,u,t) = (1, 1, 3.875000)\n",
      "Done with (m,u,t) = (2, 0, 3.875000)\n",
      "Done with (m,u,t) = (2, 1, 3.875000)\n",
      "Done with (m,u,t) = (0, 0, 3.937500)\n",
      "Done with (m,u,t) = (0, 1, 3.937500)\n",
      "Done with (m,u,t) = (1, 0, 3.937500)\n",
      "Done with (m,u,t) = (1, 1, 3.937500)\n",
      "Done with (m,u,t) = (2, 0, 3.937500)\n",
      "Done with (m,u,t) = (2, 1, 3.937500)\n",
      "Done with (m,u,t) = (0, 0, 4.000000)\n",
      "Done with (m,u,t) = (0, 1, 4.000000)\n",
      "Done with (m,u,t) = (1, 0, 4.000000)\n",
      "Done with (m,u,t) = (1, 1, 4.000000)\n",
      "Done with (m,u,t) = (2, 0, 4.000000)\n",
      "Done with (m,u,t) = (2, 1, 4.000000)\n",
      "Done with (m,u,t) = (0, 0, 4.062500)\n",
      "Done with (m,u,t) = (0, 1, 4.062500)\n",
      "Done with (m,u,t) = (1, 0, 4.062500)\n",
      "Done with (m,u,t) = (1, 1, 4.062500)\n",
      "Done with (m,u,t) = (2, 0, 4.062500)\n",
      "Done with (m,u,t) = (2, 1, 4.062500)\n",
      "Done with (m,u,t) = (0, 0, 4.125000)\n",
      "Done with (m,u,t) = (0, 1, 4.125000)\n",
      "Done with (m,u,t) = (1, 0, 4.125000)\n",
      "Done with (m,u,t) = (1, 1, 4.125000)\n",
      "Done with (m,u,t) = (2, 0, 4.125000)\n",
      "Done with (m,u,t) = (2, 1, 4.125000)\n",
      "Done with (m,u,t) = (0, 0, 4.187500)\n",
      "Done with (m,u,t) = (0, 1, 4.187500)\n",
      "Done with (m,u,t) = (1, 0, 4.187500)\n",
      "Done with (m,u,t) = (1, 1, 4.187500)\n",
      "Done with (m,u,t) = (2, 0, 4.187500)\n",
      "Done with (m,u,t) = (2, 1, 4.187500)\n",
      "Done with (m,u,t) = (0, 0, 4.250000)\n",
      "Done with (m,u,t) = (0, 1, 4.250000)\n",
      "Done with (m,u,t) = (1, 0, 4.250000)\n",
      "Done with (m,u,t) = (1, 1, 4.250000)\n",
      "Done with (m,u,t) = (2, 0, 4.250000)\n",
      "Done with (m,u,t) = (2, 1, 4.250000)\n",
      "Done with (m,u,t) = (0, 0, 4.312500)\n",
      "Done with (m,u,t) = (0, 1, 4.312500)\n",
      "Done with (m,u,t) = (1, 0, 4.312500)\n",
      "Done with (m,u,t) = (1, 1, 4.312500)\n",
      "Done with (m,u,t) = (2, 0, 4.312500)\n",
      "Done with (m,u,t) = (2, 1, 4.312500)\n",
      "Done with (m,u,t) = (0, 0, 4.375000)\n",
      "Done with (m,u,t) = (0, 1, 4.375000)\n",
      "Done with (m,u,t) = (1, 0, 4.375000)\n",
      "Done with (m,u,t) = (1, 1, 4.375000)\n",
      "Done with (m,u,t) = (2, 0, 4.375000)\n",
      "Done with (m,u,t) = (2, 1, 4.375000)\n",
      "Done with (m,u,t) = (0, 0, 4.437500)\n",
      "Done with (m,u,t) = (0, 1, 4.437500)\n",
      "Done with (m,u,t) = (1, 0, 4.437500)\n",
      "Done with (m,u,t) = (1, 1, 4.437500)\n",
      "Done with (m,u,t) = (2, 0, 4.437500)\n",
      "Done with (m,u,t) = (2, 1, 4.437500)\n",
      "Done with (m,u,t) = (0, 0, 4.500000)\n",
      "Done with (m,u,t) = (0, 1, 4.500000)\n",
      "Done with (m,u,t) = (1, 0, 4.500000)\n",
      "Done with (m,u,t) = (1, 1, 4.500000)\n",
      "Done with (m,u,t) = (2, 0, 4.500000)\n",
      "Done with (m,u,t) = (2, 1, 4.500000)\n",
      "Done with (m,u,t) = (0, 0, 4.562500)\n",
      "Done with (m,u,t) = (0, 1, 4.562500)\n",
      "Done with (m,u,t) = (1, 0, 4.562500)\n",
      "Done with (m,u,t) = (1, 1, 4.562500)\n",
      "Done with (m,u,t) = (2, 0, 4.562500)\n",
      "Done with (m,u,t) = (2, 1, 4.562500)\n",
      "Done with (m,u,t) = (0, 0, 4.625000)\n",
      "Done with (m,u,t) = (0, 1, 4.625000)\n",
      "Done with (m,u,t) = (1, 0, 4.625000)\n",
      "Done with (m,u,t) = (1, 1, 4.625000)\n",
      "Done with (m,u,t) = (2, 0, 4.625000)\n",
      "Done with (m,u,t) = (2, 1, 4.625000)\n",
      "Done with (m,u,t) = (0, 0, 4.687500)\n",
      "Done with (m,u,t) = (0, 1, 4.687500)\n",
      "Done with (m,u,t) = (1, 0, 4.687500)\n",
      "Done with (m,u,t) = (1, 1, 4.687500)\n",
      "Done with (m,u,t) = (2, 0, 4.687500)\n",
      "Done with (m,u,t) = (2, 1, 4.687500)\n",
      "Done with (m,u,t) = (0, 0, 4.750000)\n",
      "Done with (m,u,t) = (0, 1, 4.750000)\n",
      "Done with (m,u,t) = (1, 0, 4.750000)\n",
      "Done with (m,u,t) = (1, 1, 4.750000)\n",
      "Done with (m,u,t) = (2, 0, 4.750000)\n",
      "Done with (m,u,t) = (2, 1, 4.750000)\n",
      "Done with (m,u,t) = (0, 0, 4.812500)\n",
      "Done with (m,u,t) = (0, 1, 4.812500)\n",
      "Done with (m,u,t) = (1, 0, 4.812500)\n",
      "Done with (m,u,t) = (1, 1, 4.812500)\n",
      "Done with (m,u,t) = (2, 0, 4.812500)\n",
      "Done with (m,u,t) = (2, 1, 4.812500)\n",
      "Done with (m,u,t) = (0, 0, 4.875000)\n",
      "Done with (m,u,t) = (0, 1, 4.875000)\n",
      "Done with (m,u,t) = (1, 0, 4.875000)\n",
      "Done with (m,u,t) = (1, 1, 4.875000)\n",
      "Done with (m,u,t) = (2, 0, 4.875000)\n",
      "Done with (m,u,t) = (2, 1, 4.875000)\n",
      "Done with (m,u,t) = (0, 0, 4.937500)\n",
      "Done with (m,u,t) = (0, 1, 4.937500)\n",
      "Done with (m,u,t) = (1, 0, 4.937500)\n",
      "Done with (m,u,t) = (1, 1, 4.937500)\n",
      "Done with (m,u,t) = (2, 0, 4.937500)\n",
      "Done with (m,u,t) = (2, 1, 4.937500)\n",
      "Done with (m,u,t) = (0, 0, 5.000000)\n",
      "Done with (m,u,t) = (0, 1, 5.000000)\n",
      "Done with (m,u,t) = (1, 0, 5.000000)\n",
      "Done with (m,u,t) = (1, 1, 5.000000)\n",
      "Done with (m,u,t) = (2, 0, 5.000000)\n",
      "Done with (m,u,t) = (2, 1, 5.000000)\n",
      "Done with (m,u,t) = (0, 0, 5.062500)\n",
      "Done with (m,u,t) = (0, 1, 5.062500)\n",
      "Done with (m,u,t) = (1, 0, 5.062500)\n",
      "Done with (m,u,t) = (1, 1, 5.062500)\n",
      "Done with (m,u,t) = (2, 0, 5.062500)\n",
      "Done with (m,u,t) = (2, 1, 5.062500)\n",
      "Done with (m,u,t) = (0, 0, 5.125000)\n",
      "Done with (m,u,t) = (0, 1, 5.125000)\n",
      "Done with (m,u,t) = (1, 0, 5.125000)\n",
      "Done with (m,u,t) = (1, 1, 5.125000)\n",
      "Done with (m,u,t) = (2, 0, 5.125000)\n",
      "Done with (m,u,t) = (2, 1, 5.125000)\n",
      "Done with (m,u,t) = (0, 0, 5.187500)\n",
      "Done with (m,u,t) = (0, 1, 5.187500)\n",
      "Done with (m,u,t) = (1, 0, 5.187500)\n",
      "Done with (m,u,t) = (1, 1, 5.187500)\n",
      "Done with (m,u,t) = (2, 0, 5.187500)\n",
      "Done with (m,u,t) = (2, 1, 5.187500)\n",
      "Done with (m,u,t) = (0, 0, 5.250000)\n",
      "Done with (m,u,t) = (0, 1, 5.250000)\n",
      "Done with (m,u,t) = (1, 0, 5.250000)\n",
      "Done with (m,u,t) = (1, 1, 5.250000)\n",
      "Done with (m,u,t) = (2, 0, 5.250000)\n",
      "Done with (m,u,t) = (2, 1, 5.250000)\n",
      "Done with (m,u,t) = (0, 0, 5.312500)\n",
      "Done with (m,u,t) = (0, 1, 5.312500)\n",
      "Done with (m,u,t) = (1, 0, 5.312500)\n",
      "Done with (m,u,t) = (1, 1, 5.312500)\n",
      "Done with (m,u,t) = (2, 0, 5.312500)\n",
      "Done with (m,u,t) = (2, 1, 5.312500)\n",
      "Done with (m,u,t) = (0, 0, 5.375000)\n",
      "Done with (m,u,t) = (0, 1, 5.375000)\n",
      "Done with (m,u,t) = (1, 0, 5.375000)\n",
      "Done with (m,u,t) = (1, 1, 5.375000)\n",
      "Done with (m,u,t) = (2, 0, 5.375000)\n",
      "Done with (m,u,t) = (2, 1, 5.375000)\n",
      "Done with (m,u,t) = (0, 0, 5.437500)\n",
      "Done with (m,u,t) = (0, 1, 5.437500)\n",
      "Done with (m,u,t) = (1, 0, 5.437500)\n",
      "Done with (m,u,t) = (1, 1, 5.437500)\n",
      "Done with (m,u,t) = (2, 0, 5.437500)\n",
      "Done with (m,u,t) = (2, 1, 5.437500)\n",
      "Done with (m,u,t) = (0, 0, 5.500000)\n",
      "Done with (m,u,t) = (0, 1, 5.500000)\n",
      "Done with (m,u,t) = (1, 0, 5.500000)\n",
      "Done with (m,u,t) = (1, 1, 5.500000)\n",
      "Done with (m,u,t) = (2, 0, 5.500000)\n",
      "Done with (m,u,t) = (2, 1, 5.500000)\n",
      "Done with (m,u,t) = (0, 0, 5.562500)\n",
      "Done with (m,u,t) = (0, 1, 5.562500)\n",
      "Done with (m,u,t) = (1, 0, 5.562500)\n",
      "Done with (m,u,t) = (1, 1, 5.562500)\n",
      "Done with (m,u,t) = (2, 0, 5.562500)\n",
      "Done with (m,u,t) = (2, 1, 5.562500)\n",
      "Done with (m,u,t) = (0, 0, 5.625000)\n",
      "Done with (m,u,t) = (0, 1, 5.625000)\n",
      "Done with (m,u,t) = (1, 0, 5.625000)\n",
      "Done with (m,u,t) = (1, 1, 5.625000)\n",
      "Done with (m,u,t) = (2, 0, 5.625000)\n",
      "Done with (m,u,t) = (2, 1, 5.625000)\n",
      "Done with (m,u,t) = (0, 0, 5.687500)\n",
      "Done with (m,u,t) = (0, 1, 5.687500)\n",
      "Done with (m,u,t) = (1, 0, 5.687500)\n",
      "Done with (m,u,t) = (1, 1, 5.687500)\n",
      "Done with (m,u,t) = (2, 0, 5.687500)\n",
      "Done with (m,u,t) = (2, 1, 5.687500)\n",
      "Done with (m,u,t) = (0, 0, 5.750000)\n",
      "Done with (m,u,t) = (0, 1, 5.750000)\n",
      "Done with (m,u,t) = (1, 0, 5.750000)\n",
      "Done with (m,u,t) = (1, 1, 5.750000)\n",
      "Done with (m,u,t) = (2, 0, 5.750000)\n",
      "Done with (m,u,t) = (2, 1, 5.750000)\n",
      "Done with (m,u,t) = (0, 0, 5.812500)\n",
      "Done with (m,u,t) = (0, 1, 5.812500)\n"
     ]
    },
    {
     "name": "stdout",
     "output_type": "stream",
     "text": [
      "Done with (m,u,t) = (1, 0, 5.812500)\n",
      "Done with (m,u,t) = (1, 1, 5.812500)\n",
      "Done with (m,u,t) = (2, 0, 5.812500)\n",
      "Done with (m,u,t) = (2, 1, 5.812500)\n",
      "Done with (m,u,t) = (0, 0, 5.875000)\n",
      "Done with (m,u,t) = (0, 1, 5.875000)\n",
      "Done with (m,u,t) = (1, 0, 5.875000)\n",
      "Done with (m,u,t) = (1, 1, 5.875000)\n",
      "Done with (m,u,t) = (2, 0, 5.875000)\n",
      "Done with (m,u,t) = (2, 1, 5.875000)\n",
      "Done with (m,u,t) = (0, 0, 5.937500)\n",
      "Done with (m,u,t) = (0, 1, 5.937500)\n",
      "Done with (m,u,t) = (1, 0, 5.937500)\n",
      "Done with (m,u,t) = (1, 1, 5.937500)\n",
      "Done with (m,u,t) = (2, 0, 5.937500)\n",
      "Done with (m,u,t) = (2, 1, 5.937500)\n",
      "Done with (m,u,t) = (0, 0, 6.000000)\n",
      "Done with (m,u,t) = (0, 1, 6.000000)\n",
      "Done with (m,u,t) = (1, 0, 6.000000)\n",
      "Done with (m,u,t) = (1, 1, 6.000000)\n",
      "Done with (m,u,t) = (2, 0, 6.000000)\n",
      "Done with (m,u,t) = (2, 1, 6.000000)\n"
     ]
    }
   ],
   "source": [
    "# Multiple shots at each (M, U, t)\n",
    "est_hist = []\n",
    "cum_shots = []\n",
    "\n",
    "cum_shots_counter = 0\n",
    "for t in tvec:\n",
    "    for m in mvec:\n",
    "        for u in uvec:\n",
    "            experiment = np.array([(m, u, t, n_shots)], dtype=sys_model.expparams_dtype)\n",
    "            outcomes = sys_model.simulate_experiment(J_truth_nd, experiment)\n",
    "            updater.update(outcomes, experiment)\n",
    "            \n",
    "            cum_shots_counter += n_shots\n",
    "    \n",
    "            print('Done with (m,u,t) = (%d, %d, %f)' %(m, u, t))\n",
    "    \n",
    "    est_hist.append(updater.est_mean())\n",
    "    cum_shots.append(cum_shots_counter)"
   ]
  },
  {
   "cell_type": "code",
   "execution_count": 24,
   "id": "fea9d441",
   "metadata": {},
   "outputs": [
    {
     "data": {
      "text/plain": [
       "Text(0, 0.5, '$J$ parameters')"
      ]
     },
     "execution_count": 24,
     "metadata": {},
     "output_type": "execute_result"
    },
    {
     "data": {
      "image/png": "[encoded data removed]",
      "text/plain": [
       "<Figure size 432x288 with 1 Axes>"
      ]
     },
     "metadata": {},
     "output_type": "display_data"
    }
   ],
   "source": [
    "# 5000 particles\n",
    "plt.plot(cum_shots, est_hist, label='Est.')\n",
    "plt.hlines(J_truth_nd, np.amin(cum_shots), np.amax(cum_shots), label='True')\n",
    "plt.legend(ncol=2)\n",
    "plt.xlabel('Number of samples')\n",
    "plt.ylabel(r'$J$ parameters')"
   ]
  },
  {
   "cell_type": "code",
   "execution_count": 25,
   "id": "57816417",
   "metadata": {},
   "outputs": [
    {
     "data": {
      "text/plain": [
       "array([-4.63366018, -1.35717005, -0.3305823 ,  6.640379  ,  1.26715873,\n",
       "        0.4891988 ])"
      ]
     },
     "execution_count": 25,
     "metadata": {},
     "output_type": "execute_result"
    }
   ],
   "source": [
    "updater.est_mean()"
   ]
  },
  {
   "cell_type": "code",
   "execution_count": 26,
   "id": "19467b42",
   "metadata": {},
   "outputs": [
    {
     "data": {
      "text/plain": [
       "array([[-4.61029049, -1.47995676, -0.22980081,  6.60852059,  1.46051649,\n",
       "         0.33645101]])"
      ]
     },
     "execution_count": 26,
     "metadata": {},
     "output_type": "execute_result"
    }
   ],
   "source": [
    "J_truth_nd"
   ]
  },
  {
   "cell_type": "code",
   "execution_count": null,
   "id": "57a65ad4",
   "metadata": {},
   "outputs": [],
   "source": []
  }
 ],
 "metadata": {
  "kernelspec": {
   "display_name": "active-qinfer-hl-env",
   "language": "python",
   "name": "active-qinfer-hl-env"
  },
  "language_info": {
   "codemirror_mode": {
    "name": "ipython",
    "version": 3
   },
   "file_extension": ".py",
   "mimetype": "text/x-python",
   "name": "python",
   "nbconvert_exporter": "python",
   "pygments_lexer": "ipython3",
   "version": "3.6.13"
  }
 },
 "nbformat": 4,
 "nbformat_minor": 5
}
